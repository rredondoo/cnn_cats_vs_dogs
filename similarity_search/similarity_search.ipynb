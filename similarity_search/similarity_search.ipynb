{
 "cells": [
  {
   "cell_type": "code",
   "execution_count": 1,
   "id": "837a0d93",
   "metadata": {},
   "outputs": [
    {
     "name": "stdout",
     "output_type": "stream",
     "text": [
      "2.9.1\n"
     ]
    }
   ],
   "source": [
    "import tensorflow as tf\n",
    "print(tf.__version__)"
   ]
  },
  {
   "cell_type": "code",
   "execution_count": 26,
   "id": "f693f9ed",
   "metadata": {},
   "outputs": [],
   "source": [
    "from tensorflow.keras.preprocessing import image\n",
    "from tensorflow.keras.applications.resnet50 import ResNet50, preprocess_input\n",
    "from tensorflow.keras.preprocessing.image import ImageDataGenerator\n",
    "\n",
    "import numpy as np\n",
    "from numpy.linalg import norm\n",
    "import pickle\n",
    "\n",
    "from tqdm import tqdm, tqdm_notebook\n",
    "import os\n",
    "import time\n",
    "import math\n",
    "\n",
    "import matplotlib.pyplot as plt\n",
    "import matplotlib.image as mpimg"
   ]
  },
  {
   "cell_type": "code",
   "execution_count": 3,
   "id": "75e0d31e",
   "metadata": {},
   "outputs": [
    {
     "name": "stderr",
     "output_type": "stream",
     "text": [
      "2022-08-30 12:31:41.234494: I tensorflow/core/platform/cpu_feature_guard.cc:193] This TensorFlow binary is optimized with oneAPI Deep Neural Network Library (oneDNN) to use the following CPU instructions in performance-critical operations:  AVX2 FMA\n",
      "To enable them in other operations, rebuild TensorFlow with the appropriate compiler flags.\n"
     ]
    }
   ],
   "source": [
    "INPUT_SHAPE = (224, 224, 3)\n",
    "\n",
    "model = ResNet50(weights='imagenet', \n",
    "                 include_top=False, \n",
    "                 input_shape=INPUT_SHAPE,\n",
    "                 pooling='max')"
   ]
  },
  {
   "cell_type": "code",
   "execution_count": 4,
   "id": "32d6b756",
   "metadata": {},
   "outputs": [],
   "source": [
    "def extract_features(file_path, model):\n",
    "    img = image.load_img(file_path, target_size=(INPUT_SHAPE[0], INPUT_SHAPE[1]))\n",
    "    img_array = image.img_to_array(img) # add channels\n",
    "    img_array = img_array[np.newaxis, ...] # add batch dimension\n",
    "    img_preprocessed = preprocess_input(img_array)\n",
    "    \n",
    "    img_features = model.predict(img_preprocessed, verbose=0)\n",
    "#     print(img_features.shape) # (1, 7, 7, 2048)\n",
    "    img_features = img_features.flatten()\n",
    "    img_features_norm = img_features / norm(img_features)\n",
    "    \n",
    "    return img_features_norm"
   ]
  },
  {
   "cell_type": "code",
   "execution_count": 5,
   "id": "ae10c07d",
   "metadata": {},
   "outputs": [],
   "source": [
    "# !ls data/caltech-101/caltech101/cellphone/"
   ]
  },
  {
   "cell_type": "code",
   "execution_count": 6,
   "id": "3962634b",
   "metadata": {},
   "outputs": [],
   "source": [
    "def get_file_list(root_dir):\n",
    "    file_list = []\n",
    "    \n",
    "    for root, directories, filenames in os.walk(root_dir):\n",
    "        for filename in filenames:\n",
    "            if 'jpg' in filename:\n",
    "                file_list.append(os.path.join(root, filename))\n",
    "                \n",
    "    return file_list"
   ]
  },
  {
   "cell_type": "code",
   "execution_count": 7,
   "id": "3ad40dd7",
   "metadata": {},
   "outputs": [],
   "source": [
    "file_list = get_file_list('data/caltech101')"
   ]
  },
  {
   "cell_type": "code",
   "execution_count": 9,
   "id": "12beab47",
   "metadata": {},
   "outputs": [
    {
     "name": "stdout",
     "output_type": "stream",
     "text": [
      "Total number of files: 8677\n"
     ]
    }
   ],
   "source": [
    "# ! tree caltech101 | grep '.jpg' | wc -l   # 8677\n",
    "print(\"Total number of files:\", len(file_list))"
   ]
  },
  {
   "cell_type": "code",
   "execution_count": 13,
   "id": "404c5d32",
   "metadata": {},
   "outputs": [
    {
     "data": {
      "text/plain": [
       "['data/caltech101/Faces/image_0001.jpg',\n",
       " 'data/caltech101/Faces/image_0002.jpg',\n",
       " 'data/caltech101/Faces/image_0003.jpg',\n",
       " 'data/caltech101/Faces/image_0004.jpg',\n",
       " 'data/caltech101/Faces/image_0005.jpg',\n",
       " 'data/caltech101/Faces/image_0006.jpg',\n",
       " 'data/caltech101/Faces/image_0007.jpg',\n",
       " 'data/caltech101/Faces/image_0008.jpg',\n",
       " 'data/caltech101/Faces/image_0009.jpg',\n",
       " 'data/caltech101/Faces/image_0010.jpg',\n",
       " 'data/caltech101/Faces/image_0011.jpg',\n",
       " 'data/caltech101/Faces/image_0012.jpg',\n",
       " 'data/caltech101/Faces/image_0013.jpg',\n",
       " 'data/caltech101/Faces/image_0014.jpg',\n",
       " 'data/caltech101/Faces/image_0015.jpg',\n",
       " 'data/caltech101/Faces/image_0016.jpg',\n",
       " 'data/caltech101/Faces/image_0017.jpg',\n",
       " 'data/caltech101/Faces/image_0018.jpg',\n",
       " 'data/caltech101/Faces/image_0019.jpg',\n",
       " 'data/caltech101/Faces/image_0020.jpg']"
      ]
     },
     "execution_count": 13,
     "metadata": {},
     "output_type": "execute_result"
    }
   ],
   "source": [
    "# print the first 5 files\n",
    "filenames = sorted(file_list)\n",
    "filenames[:2]"
   ]
  },
  {
   "cell_type": "code",
   "execution_count": 12,
   "id": "f2705d53",
   "metadata": {},
   "outputs": [
    {
     "name": "stdout",
     "output_type": "stream",
     "text": [
      "ROOT: data/caltech101\n",
      "DIRECTORIES: ['gerenuk', 'hawksbill', 'headphone', 'ant', 'butterfly', 'lamp', 'strawberry', 'water_lilly', 'chandelier', 'dragonfly', 'crab', 'pagoda', 'dollar_bill', 'emu', 'inline_skate', 'platypus', 'dalmatian', 'cup', 'airplanes', 'joshua_tree', 'cougar_body', 'grand_piano', 'trilobite', 'brontosaurus', 'wild_cat', 'pigeon', 'dolphin', 'soccer_ball', 'wrench', 'scorpion', 'flamingo_head', 'nautilus', 'accordion', 'cougar_face', 'pyramid', 'camera', 'barrel', 'schooner', 'cellphone', 'panda', 'revolver', 'lobster', 'menorah', 'lotus', 'stapler', 'crocodile', 'chair', 'helicopter', 'minaret', 'starfish', 'ceiling_fan', 'ketch', 'mayfly', 'wheelchair', 'bass', 'yin_yang', 'crocodile_head', 'saxophone', 'beaver', 'mandolin', 'bonsai', 'Leopards', 'car_side', 'ibis', 'electric_guitar', 'kangaroo', 'stegosaurus', 'ferry', 'snoopy', 'umbrella', 'rhino', 'okapi', 'watch', 'brain', 'gramophone', 'scissors', 'rooster', 'cannon', 'binocular', 'anchor', 'octopus', 'buddha', 'laptop', 'windsor_chair', 'hedgehog', 'pizza', 'euphonium', 'stop_sign', 'Motorbikes', 'sea_horse', 'flamingo', 'ewer', 'garfield', 'crayfish', 'Faces_easy', 'Faces', 'sunflower', 'llama', 'elephant', 'tick', 'metronome']\n",
      "FILE:[]\n",
      "ROOT: data/caltech101/gerenuk\n",
      "DIRECTORIES: []\n",
      "FILE:['image_0032.jpg', 'image_0026.jpg', 'image_0027.jpg', 'image_0033.jpg', 'image_0019.jpg', 'image_0025.jpg', 'image_0031.jpg', 'image_0030.jpg', 'image_0024.jpg', 'image_0018.jpg', 'image_0020.jpg', 'image_0034.jpg', 'image_0008.jpg', 'image_0009.jpg', 'image_0021.jpg', 'image_0023.jpg', 'image_0022.jpg', 'image_0013.jpg', 'image_0007.jpg', 'image_0006.jpg', 'image_0012.jpg', 'image_0004.jpg', 'image_0010.jpg', 'image_0011.jpg', 'image_0005.jpg', 'image_0001.jpg', 'image_0015.jpg', 'image_0029.jpg', 'image_0028.jpg', 'image_0014.jpg', 'image_0016.jpg', 'image_0002.jpg', 'image_0003.jpg', 'image_0017.jpg']\n",
      "ROOT: data/caltech101/hawksbill\n",
      "DIRECTORIES: []\n",
      "FILE:['image_0032.jpg', 'image_0026.jpg', 'image_0027.jpg', 'image_0033.jpg', 'image_0019.jpg', 'image_0025.jpg', 'image_0031.jpg', 'image_0030.jpg', 'image_0024.jpg', 'image_0018.jpg', 'image_0020.jpg', 'image_0034.jpg', 'image_0008.jpg', 'image_0009.jpg', 'image_0035.jpg', 'image_0021.jpg', 'image_0037.jpg', 'image_0023.jpg', 'image_0022.jpg', 'image_0036.jpg', 'image_0079.jpg', 'image_0051.jpg', 'image_0045.jpg', 'image_0092.jpg', 'image_0086.jpg', 'image_0087.jpg', 'image_0093.jpg', 'image_0044.jpg', 'image_0050.jpg', 'image_0078.jpg', 'image_0046.jpg', 'image_0052.jpg', 'image_0085.jpg', 'image_0091.jpg', 'image_0090.jpg', 'image_0084.jpg', 'image_0053.jpg', 'image_0047.jpg', 'image_0043.jpg', 'image_0057.jpg', 'image_0080.jpg', 'image_0094.jpg', 'image_0095.jpg', 'image_0081.jpg', 'image_0056.jpg', 'image_0042.jpg', 'image_0054.jpg', 'image_0040.jpg', 'image_0068.jpg', 'image_0097.jpg', 'image_0083.jpg', 'image_0082.jpg', 'image_0096.jpg', 'image_0069.jpg', 'image_0041.jpg', 'image_0055.jpg', 'image_0058.jpg', 'image_0070.jpg', 'image_0064.jpg', 'image_0065.jpg', 'image_0071.jpg', 'image_0059.jpg', 'image_0067.jpg', 'image_0073.jpg', 'image_0098.jpg', 'image_0099.jpg', 'image_0072.jpg', 'image_0066.jpg', 'image_0062.jpg', 'image_0076.jpg', 'image_0089.jpg', 'image_0088.jpg', 'image_0077.jpg', 'image_0063.jpg', 'image_0075.jpg', 'image_0061.jpg', 'image_0049.jpg', 'image_0048.jpg', 'image_0060.jpg', 'image_0074.jpg', 'image_0100.jpg', 'image_0013.jpg', 'image_0007.jpg', 'image_0006.jpg', 'image_0012.jpg', 'image_0038.jpg', 'image_0004.jpg', 'image_0010.jpg', 'image_0011.jpg', 'image_0005.jpg', 'image_0039.jpg', 'image_0001.jpg', 'image_0015.jpg', 'image_0029.jpg', 'image_0028.jpg', 'image_0014.jpg', 'image_0016.jpg', 'image_0002.jpg', 'image_0003.jpg', 'image_0017.jpg']\n",
      "ROOT: data/caltech101/headphone\n",
      "DIRECTORIES: []\n",
      "FILE:['image_0032.jpg', 'image_0026.jpg', 'image_0027.jpg', 'image_0033.jpg', 'image_0019.jpg', 'image_0025.jpg', 'image_0031.jpg', 'image_0030.jpg', 'image_0024.jpg', 'image_0018.jpg', 'image_0020.jpg', 'image_0034.jpg', 'image_0008.jpg', 'image_0009.jpg', 'image_0035.jpg', 'image_0021.jpg', 'image_0037.jpg', 'image_0023.jpg', 'image_0022.jpg', 'image_0036.jpg', 'image_0042.jpg', 'image_0040.jpg', 'image_0041.jpg', 'image_0013.jpg', 'image_0007.jpg', 'image_0006.jpg', 'image_0012.jpg', 'image_0038.jpg', 'image_0004.jpg', 'image_0010.jpg', 'image_0011.jpg', 'image_0005.jpg', 'image_0039.jpg', 'image_0001.jpg', 'image_0015.jpg', 'image_0029.jpg', 'image_0028.jpg', 'image_0014.jpg', 'image_0016.jpg', 'image_0002.jpg', 'image_0003.jpg', 'image_0017.jpg']\n",
      "ROOT: data/caltech101/ant\n",
      "DIRECTORIES: []\n",
      "FILE:['image_0032.jpg', 'image_0026.jpg', 'image_0027.jpg', 'image_0033.jpg', 'image_0019.jpg', 'image_0025.jpg', 'image_0031.jpg', 'image_0030.jpg', 'image_0024.jpg', 'image_0018.jpg', 'image_0020.jpg', 'image_0034.jpg', 'image_0008.jpg', 'image_0009.jpg', 'image_0035.jpg', 'image_0021.jpg', 'image_0037.jpg', 'image_0023.jpg', 'image_0022.jpg', 'image_0036.jpg', 'image_0042.jpg', 'image_0040.jpg', 'image_0041.jpg', 'image_0013.jpg', 'image_0007.jpg', 'image_0006.jpg', 'image_0012.jpg', 'image_0038.jpg', 'image_0004.jpg', 'image_0010.jpg', 'image_0011.jpg', 'image_0005.jpg', 'image_0039.jpg', 'image_0001.jpg', 'image_0015.jpg', 'image_0029.jpg', 'image_0028.jpg', 'image_0014.jpg', 'image_0016.jpg', 'image_0002.jpg', 'image_0003.jpg', 'image_0017.jpg']\n",
      "ROOT: data/caltech101/butterfly\n",
      "DIRECTORIES: []\n",
      "FILE:['image_0032.jpg', 'image_0026.jpg', 'image_0027.jpg', 'image_0033.jpg', 'image_0019.jpg', 'image_0025.jpg', 'image_0031.jpg', 'image_0030.jpg', 'image_0024.jpg', 'image_0018.jpg', 'image_0020.jpg', 'image_0034.jpg', 'image_0008.jpg', 'image_0009.jpg', 'image_0035.jpg', 'image_0021.jpg', 'image_0037.jpg', 'image_0023.jpg', 'image_0022.jpg', 'image_0036.jpg', 'image_0079.jpg', 'image_0051.jpg', 'image_0045.jpg', 'image_0086.jpg', 'image_0087.jpg', 'image_0044.jpg', 'image_0050.jpg', 'image_0078.jpg', 'image_0046.jpg', 'image_0052.jpg', 'image_0085.jpg', 'image_0091.jpg', 'image_0090.jpg', 'image_0084.jpg', 'image_0053.jpg', 'image_0047.jpg', 'image_0043.jpg', 'image_0057.jpg', 'image_0080.jpg', 'image_0081.jpg', 'image_0056.jpg', 'image_0042.jpg', 'image_0054.jpg', 'image_0040.jpg', 'image_0068.jpg', 'image_0083.jpg', 'image_0082.jpg', 'image_0069.jpg', 'image_0041.jpg', 'image_0055.jpg', 'image_0058.jpg', 'image_0070.jpg', 'image_0064.jpg', 'image_0065.jpg', 'image_0071.jpg', 'image_0059.jpg', 'image_0067.jpg', 'image_0073.jpg', 'image_0072.jpg', 'image_0066.jpg', 'image_0062.jpg', 'image_0076.jpg', 'image_0089.jpg', 'image_0088.jpg', 'image_0077.jpg', 'image_0063.jpg', 'image_0075.jpg', 'image_0061.jpg', 'image_0049.jpg', 'image_0048.jpg', 'image_0060.jpg', 'image_0074.jpg', 'image_0013.jpg', 'image_0007.jpg', 'image_0006.jpg', 'image_0012.jpg', 'image_0038.jpg', 'image_0004.jpg', 'image_0010.jpg', 'image_0011.jpg', 'image_0005.jpg', 'image_0039.jpg', 'image_0001.jpg', 'image_0015.jpg', 'image_0029.jpg', 'image_0028.jpg', 'image_0014.jpg', 'image_0016.jpg', 'image_0002.jpg', 'image_0003.jpg', 'image_0017.jpg']\n",
      "ROOT: data/caltech101/lamp\n",
      "DIRECTORIES: []\n",
      "FILE:['image_0032.jpg', 'image_0026.jpg', 'image_0027.jpg', 'image_0033.jpg', 'image_0019.jpg', 'image_0025.jpg', 'image_0031.jpg', 'image_0030.jpg', 'image_0024.jpg', 'image_0018.jpg', 'image_0020.jpg', 'image_0034.jpg', 'image_0008.jpg', 'image_0009.jpg', 'image_0035.jpg', 'image_0021.jpg', 'image_0037.jpg', 'image_0023.jpg', 'image_0022.jpg', 'image_0036.jpg', 'image_0051.jpg', 'image_0045.jpg', 'image_0044.jpg', 'image_0050.jpg', 'image_0046.jpg', 'image_0052.jpg', 'image_0053.jpg', 'image_0047.jpg', 'image_0043.jpg', 'image_0057.jpg', 'image_0056.jpg', 'image_0042.jpg', 'image_0054.jpg', 'image_0040.jpg', 'image_0041.jpg', 'image_0055.jpg', 'image_0058.jpg', 'image_0059.jpg', 'image_0061.jpg', 'image_0049.jpg', 'image_0048.jpg', 'image_0060.jpg', 'image_0013.jpg', 'image_0007.jpg', 'image_0006.jpg', 'image_0012.jpg', 'image_0038.jpg', 'image_0004.jpg', 'image_0010.jpg', 'image_0011.jpg', 'image_0005.jpg', 'image_0039.jpg', 'image_0001.jpg', 'image_0015.jpg', 'image_0029.jpg', 'image_0028.jpg', 'image_0014.jpg', 'image_0016.jpg', 'image_0002.jpg', 'image_0003.jpg', 'image_0017.jpg']\n",
      "ROOT: data/caltech101/strawberry\n",
      "DIRECTORIES: []\n",
      "FILE:['image_0032.jpg', 'image_0026.jpg', 'image_0027.jpg', 'image_0033.jpg', 'image_0019.jpg', 'image_0025.jpg', 'image_0031.jpg', 'image_0030.jpg', 'image_0024.jpg', 'image_0018.jpg', 'image_0020.jpg', 'image_0034.jpg', 'image_0008.jpg', 'image_0009.jpg', 'image_0035.jpg', 'image_0021.jpg', 'image_0023.jpg', 'image_0022.jpg', 'image_0013.jpg', 'image_0007.jpg', 'image_0006.jpg', 'image_0012.jpg', 'image_0004.jpg', 'image_0010.jpg', 'image_0011.jpg', 'image_0005.jpg', 'image_0001.jpg', 'image_0015.jpg', 'image_0029.jpg', 'image_0028.jpg', 'image_0014.jpg', 'image_0016.jpg', 'image_0002.jpg', 'image_0003.jpg', 'image_0017.jpg']\n",
      "ROOT: data/caltech101/water_lilly\n",
      "DIRECTORIES: []\n",
      "FILE:['image_0032.jpg', 'image_0026.jpg', 'image_0027.jpg', 'image_0033.jpg', 'image_0019.jpg', 'image_0025.jpg', 'image_0031.jpg', 'image_0030.jpg', 'image_0024.jpg', 'image_0018.jpg', 'image_0020.jpg', 'image_0034.jpg', 'image_0008.jpg', 'image_0009.jpg', 'image_0035.jpg', 'image_0021.jpg', 'image_0037.jpg', 'image_0023.jpg', 'image_0022.jpg', 'image_0036.jpg', 'image_0013.jpg', 'image_0007.jpg', 'image_0006.jpg', 'image_0012.jpg', 'image_0004.jpg', 'image_0010.jpg', 'image_0011.jpg', 'image_0005.jpg', 'image_0001.jpg', 'image_0015.jpg', 'image_0029.jpg', 'image_0028.jpg', 'image_0014.jpg', 'image_0016.jpg', 'image_0002.jpg', 'image_0003.jpg', 'image_0017.jpg']\n",
      "ROOT: data/caltech101/chandelier\n",
      "DIRECTORIES: []\n",
      "FILE:['image_0032.jpg', 'image_0026.jpg', 'image_0027.jpg', 'image_0033.jpg', 'image_0019.jpg', 'image_0025.jpg', 'image_0031.jpg', 'image_0030.jpg', 'image_0024.jpg', 'image_0018.jpg', 'image_0020.jpg', 'image_0034.jpg', 'image_0008.jpg', 'image_0009.jpg', 'image_0035.jpg', 'image_0021.jpg', 'image_0037.jpg', 'image_0023.jpg', 'image_0022.jpg', 'image_0036.jpg', 'image_0079.jpg', 'image_0051.jpg', 'image_0045.jpg', 'image_0092.jpg', 'image_0086.jpg', 'image_0087.jpg', 'image_0093.jpg', 'image_0044.jpg', 'image_0050.jpg', 'image_0078.jpg', 'image_0046.jpg', 'image_0052.jpg', 'image_0085.jpg', 'image_0091.jpg', 'image_0090.jpg', 'image_0084.jpg', 'image_0053.jpg', 'image_0047.jpg', 'image_0043.jpg', 'image_0057.jpg', 'image_0080.jpg', 'image_0094.jpg', 'image_0095.jpg', 'image_0081.jpg', 'image_0056.jpg', 'image_0042.jpg', 'image_0054.jpg', 'image_0040.jpg', 'image_0068.jpg', 'image_0097.jpg', 'image_0083.jpg', 'image_0082.jpg', 'image_0096.jpg', 'image_0069.jpg', 'image_0041.jpg', 'image_0055.jpg', 'image_0104.jpg', 'image_0058.jpg', 'image_0070.jpg', 'image_0064.jpg', 'image_0065.jpg', 'image_0071.jpg', 'image_0059.jpg', 'image_0105.jpg', 'image_0107.jpg', 'image_0067.jpg', 'image_0073.jpg', 'image_0098.jpg', 'image_0099.jpg', 'image_0072.jpg', 'image_0066.jpg', 'image_0106.jpg', 'image_0102.jpg', 'image_0062.jpg', 'image_0076.jpg', 'image_0089.jpg', 'image_0088.jpg', 'image_0077.jpg', 'image_0063.jpg', 'image_0103.jpg', 'image_0101.jpg', 'image_0075.jpg', 'image_0061.jpg', 'image_0049.jpg', 'image_0048.jpg', 'image_0060.jpg', 'image_0074.jpg', 'image_0100.jpg', 'image_0013.jpg', 'image_0007.jpg', 'image_0006.jpg', 'image_0012.jpg', 'image_0038.jpg', 'image_0004.jpg', 'image_0010.jpg', 'image_0011.jpg', 'image_0005.jpg', 'image_0039.jpg', 'image_0001.jpg', 'image_0015.jpg', 'image_0029.jpg', 'image_0028.jpg', 'image_0014.jpg', 'image_0016.jpg', 'image_0002.jpg', 'image_0003.jpg', 'image_0017.jpg']\n",
      "ROOT: data/caltech101/dragonfly\n",
      "DIRECTORIES: []\n",
      "FILE:['image_0032.jpg', 'image_0026.jpg', 'image_0027.jpg', 'image_0033.jpg', 'image_0019.jpg', 'image_0025.jpg', 'image_0031.jpg', 'image_0030.jpg', 'image_0024.jpg', 'image_0018.jpg', 'image_0020.jpg', 'image_0034.jpg', 'image_0008.jpg', 'image_0009.jpg', 'image_0035.jpg', 'image_0021.jpg', 'image_0037.jpg', 'image_0023.jpg', 'image_0022.jpg', 'image_0036.jpg', 'image_0051.jpg', 'image_0045.jpg', 'image_0044.jpg', 'image_0050.jpg', 'image_0046.jpg', 'image_0052.jpg', 'image_0053.jpg', 'image_0047.jpg', 'image_0043.jpg', 'image_0057.jpg', 'image_0056.jpg', 'image_0042.jpg', 'image_0054.jpg', 'image_0040.jpg', 'image_0068.jpg', 'image_0041.jpg', 'image_0055.jpg', 'image_0058.jpg', 'image_0064.jpg', 'image_0065.jpg', 'image_0059.jpg', 'image_0067.jpg', 'image_0066.jpg', 'image_0062.jpg', 'image_0063.jpg', 'image_0061.jpg', 'image_0049.jpg', 'image_0048.jpg', 'image_0060.jpg', 'image_0013.jpg', 'image_0007.jpg', 'image_0006.jpg', 'image_0012.jpg', 'image_0038.jpg', 'image_0004.jpg', 'image_0010.jpg', 'image_0011.jpg', 'image_0005.jpg', 'image_0039.jpg', 'image_0001.jpg', 'image_0015.jpg', 'image_0029.jpg', 'image_0028.jpg', 'image_0014.jpg', 'image_0016.jpg', 'image_0002.jpg', 'image_0003.jpg', 'image_0017.jpg']\n",
      "ROOT: data/caltech101/crab\n",
      "DIRECTORIES: []\n",
      "FILE:['image_0032.jpg', 'image_0026.jpg', 'image_0027.jpg', 'image_0033.jpg', 'image_0019.jpg', 'image_0025.jpg', 'image_0031.jpg', 'image_0030.jpg', 'image_0024.jpg', 'image_0018.jpg', 'image_0020.jpg', 'image_0034.jpg', 'image_0008.jpg', 'image_0009.jpg', 'image_0035.jpg', 'image_0021.jpg', 'image_0037.jpg', 'image_0023.jpg', 'image_0022.jpg', 'image_0036.jpg', 'image_0051.jpg', 'image_0045.jpg', 'image_0044.jpg', 'image_0050.jpg', 'image_0046.jpg', 'image_0052.jpg', 'image_0053.jpg', 'image_0047.jpg', 'image_0043.jpg', 'image_0057.jpg', 'image_0056.jpg', 'image_0042.jpg', 'image_0054.jpg', 'image_0040.jpg', 'image_0068.jpg', 'image_0069.jpg', 'image_0041.jpg', 'image_0055.jpg', 'image_0058.jpg', 'image_0070.jpg', 'image_0064.jpg', 'image_0065.jpg', 'image_0071.jpg', 'image_0059.jpg', 'image_0067.jpg', 'image_0073.jpg', 'image_0072.jpg', 'image_0066.jpg', 'image_0062.jpg', 'image_0063.jpg', 'image_0061.jpg', 'image_0049.jpg', 'image_0048.jpg', 'image_0060.jpg', 'image_0013.jpg', 'image_0007.jpg', 'image_0006.jpg', 'image_0012.jpg', 'image_0038.jpg', 'image_0004.jpg', 'image_0010.jpg', 'image_0011.jpg', 'image_0005.jpg', 'image_0039.jpg', 'image_0001.jpg', 'image_0015.jpg', 'image_0029.jpg', 'image_0028.jpg', 'image_0014.jpg', 'image_0016.jpg', 'image_0002.jpg', 'image_0003.jpg', 'image_0017.jpg']\n",
      "ROOT: data/caltech101/pagoda\n",
      "DIRECTORIES: []\n",
      "FILE:['image_0032.jpg', 'image_0026.jpg', 'image_0027.jpg', 'image_0033.jpg', 'image_0019.jpg', 'image_0025.jpg', 'image_0031.jpg', 'image_0030.jpg', 'image_0024.jpg', 'image_0018.jpg', 'image_0020.jpg', 'image_0034.jpg', 'image_0008.jpg', 'image_0009.jpg', 'image_0035.jpg', 'image_0021.jpg', 'image_0037.jpg', 'image_0023.jpg', 'image_0022.jpg', 'image_0036.jpg', 'image_0045.jpg', 'image_0044.jpg', 'image_0046.jpg', 'image_0047.jpg', 'image_0043.jpg', 'image_0042.jpg', 'image_0040.jpg', 'image_0041.jpg', 'image_0013.jpg', 'image_0007.jpg', 'image_0006.jpg', 'image_0012.jpg', 'image_0038.jpg', 'image_0004.jpg', 'image_0010.jpg', 'image_0011.jpg', 'image_0005.jpg', 'image_0039.jpg', 'image_0001.jpg', 'image_0015.jpg', 'image_0029.jpg', 'image_0028.jpg', 'image_0014.jpg', 'image_0016.jpg', 'image_0002.jpg', 'image_0003.jpg', 'image_0017.jpg']\n",
      "ROOT: data/caltech101/dollar_bill\n",
      "DIRECTORIES: []\n",
      "FILE:['image_0032.jpg', 'image_0026.jpg', 'image_0027.jpg', 'image_0033.jpg', 'image_0019.jpg', 'image_0025.jpg', 'image_0031.jpg', 'image_0030.jpg', 'image_0024.jpg', 'image_0018.jpg', 'image_0020.jpg', 'image_0034.jpg', 'image_0008.jpg', 'image_0009.jpg', 'image_0035.jpg', 'image_0021.jpg', 'image_0037.jpg', 'image_0023.jpg', 'image_0022.jpg', 'image_0036.jpg', 'image_0051.jpg', 'image_0045.jpg', 'image_0044.jpg', 'image_0050.jpg', 'image_0046.jpg', 'image_0052.jpg', 'image_0047.jpg', 'image_0043.jpg', 'image_0042.jpg', 'image_0040.jpg', 'image_0041.jpg', 'image_0049.jpg', 'image_0048.jpg', 'image_0013.jpg', 'image_0007.jpg', 'image_0006.jpg', 'image_0012.jpg', 'image_0038.jpg', 'image_0004.jpg', 'image_0010.jpg', 'image_0011.jpg', 'image_0005.jpg', 'image_0039.jpg', 'image_0001.jpg', 'image_0015.jpg', 'image_0029.jpg', 'image_0028.jpg', 'image_0014.jpg', 'image_0016.jpg', 'image_0002.jpg', 'image_0003.jpg', 'image_0017.jpg']\n",
      "ROOT: data/caltech101/emu\n",
      "DIRECTORIES: []\n",
      "FILE:['image_0032.jpg', 'image_0026.jpg', 'image_0027.jpg', 'image_0033.jpg', 'image_0019.jpg', 'image_0025.jpg', 'image_0031.jpg', 'image_0030.jpg', 'image_0024.jpg', 'image_0018.jpg', 'image_0020.jpg', 'image_0034.jpg', 'image_0008.jpg', 'image_0009.jpg', 'image_0035.jpg', 'image_0021.jpg', 'image_0037.jpg', 'image_0023.jpg', 'image_0022.jpg', 'image_0036.jpg', 'image_0051.jpg', 'image_0045.jpg', 'image_0044.jpg', 'image_0050.jpg', 'image_0046.jpg', 'image_0052.jpg', 'image_0053.jpg', 'image_0047.jpg', 'image_0043.jpg', 'image_0042.jpg', 'image_0040.jpg', 'image_0041.jpg', 'image_0049.jpg', 'image_0048.jpg', 'image_0013.jpg', 'image_0007.jpg', 'image_0006.jpg', 'image_0012.jpg', 'image_0038.jpg', 'image_0004.jpg', 'image_0010.jpg', 'image_0011.jpg', 'image_0005.jpg', 'image_0039.jpg', 'image_0001.jpg', 'image_0015.jpg', 'image_0029.jpg', 'image_0028.jpg', 'image_0014.jpg', 'image_0016.jpg', 'image_0002.jpg', 'image_0003.jpg', 'image_0017.jpg']\n",
      "ROOT: data/caltech101/inline_skate\n",
      "DIRECTORIES: []\n",
      "FILE:['image_0026.jpg', 'image_0027.jpg', 'image_0019.jpg', 'image_0025.jpg', 'image_0031.jpg', 'image_0030.jpg', 'image_0024.jpg', 'image_0018.jpg', 'image_0020.jpg', 'image_0008.jpg', 'image_0009.jpg', 'image_0021.jpg', 'image_0023.jpg', 'image_0022.jpg', 'image_0013.jpg', 'image_0007.jpg', 'image_0006.jpg', 'image_0012.jpg', 'image_0004.jpg', 'image_0010.jpg', 'image_0011.jpg', 'image_0005.jpg', 'image_0001.jpg', 'image_0015.jpg', 'image_0029.jpg', 'image_0028.jpg', 'image_0014.jpg', 'image_0016.jpg', 'image_0002.jpg', 'image_0003.jpg', 'image_0017.jpg']\n",
      "ROOT: data/caltech101/platypus\n",
      "DIRECTORIES: []\n",
      "FILE:['image_0032.jpg', 'image_0026.jpg', 'image_0027.jpg', 'image_0033.jpg', 'image_0019.jpg', 'image_0025.jpg', 'image_0031.jpg', 'image_0030.jpg', 'image_0024.jpg', 'image_0018.jpg', 'image_0020.jpg', 'image_0034.jpg', 'image_0008.jpg', 'image_0009.jpg', 'image_0021.jpg', 'image_0023.jpg', 'image_0022.jpg', 'image_0013.jpg', 'image_0007.jpg', 'image_0006.jpg', 'image_0012.jpg', 'image_0004.jpg', 'image_0010.jpg', 'image_0011.jpg', 'image_0005.jpg', 'image_0001.jpg', 'image_0015.jpg', 'image_0029.jpg', 'image_0028.jpg', 'image_0014.jpg', 'image_0016.jpg', 'image_0002.jpg', 'image_0003.jpg', 'image_0017.jpg']\n",
      "ROOT: data/caltech101/dalmatian\n",
      "DIRECTORIES: []\n",
      "FILE:['image_0032.jpg', 'image_0026.jpg', 'image_0027.jpg', 'image_0033.jpg', 'image_0019.jpg', 'image_0025.jpg', 'image_0031.jpg', 'image_0030.jpg', 'image_0024.jpg', 'image_0018.jpg', 'image_0020.jpg', 'image_0034.jpg', 'image_0008.jpg', 'image_0009.jpg', 'image_0035.jpg', 'image_0021.jpg', 'image_0037.jpg', 'image_0023.jpg', 'image_0022.jpg', 'image_0036.jpg', 'image_0051.jpg', 'image_0045.jpg', 'image_0044.jpg', 'image_0050.jpg', 'image_0046.jpg', 'image_0052.jpg', 'image_0053.jpg', 'image_0047.jpg', 'image_0043.jpg', 'image_0057.jpg', 'image_0056.jpg', 'image_0042.jpg', 'image_0054.jpg', 'image_0040.jpg', 'image_0041.jpg', 'image_0055.jpg', 'image_0058.jpg', 'image_0064.jpg', 'image_0065.jpg', 'image_0059.jpg', 'image_0067.jpg', 'image_0066.jpg', 'image_0062.jpg', 'image_0063.jpg', 'image_0061.jpg', 'image_0049.jpg', 'image_0048.jpg', 'image_0060.jpg', 'image_0013.jpg', 'image_0007.jpg', 'image_0006.jpg', 'image_0012.jpg', 'image_0038.jpg', 'image_0004.jpg', 'image_0010.jpg', 'image_0011.jpg', 'image_0005.jpg', 'image_0039.jpg', 'image_0001.jpg', 'image_0015.jpg', 'image_0029.jpg', 'image_0028.jpg', 'image_0014.jpg', 'image_0016.jpg', 'image_0002.jpg', 'image_0003.jpg', 'image_0017.jpg']\n",
      "ROOT: data/caltech101/cup\n",
      "DIRECTORIES: []\n",
      "FILE:['image_0032.jpg', 'image_0026.jpg', 'image_0027.jpg', 'image_0033.jpg', 'image_0019.jpg', 'image_0025.jpg', 'image_0031.jpg', 'image_0030.jpg', 'image_0024.jpg', 'image_0018.jpg', 'image_0020.jpg', 'image_0034.jpg', 'image_0008.jpg', 'image_0009.jpg', 'image_0035.jpg', 'image_0021.jpg', 'image_0037.jpg', 'image_0023.jpg', 'image_0022.jpg', 'image_0036.jpg', 'image_0051.jpg', 'image_0045.jpg', 'image_0044.jpg', 'image_0050.jpg', 'image_0046.jpg', 'image_0052.jpg', 'image_0053.jpg', 'image_0047.jpg', 'image_0043.jpg', 'image_0057.jpg', 'image_0056.jpg', 'image_0042.jpg', 'image_0054.jpg', 'image_0040.jpg', 'image_0041.jpg', 'image_0055.jpg', 'image_0049.jpg', 'image_0048.jpg', 'image_0013.jpg', 'image_0007.jpg', 'image_0006.jpg', 'image_0012.jpg', 'image_0038.jpg', 'image_0004.jpg', 'image_0010.jpg', 'image_0011.jpg', 'image_0005.jpg', 'image_0039.jpg', 'image_0001.jpg', 'image_0015.jpg', 'image_0029.jpg', 'image_0028.jpg', 'image_0014.jpg', 'image_0016.jpg', 'image_0002.jpg', 'image_0003.jpg', 'image_0017.jpg']\n",
      "ROOT: data/caltech101/airplanes\n",
      "DIRECTORIES: []\n",
      "FILE:['image_0608.jpg', 'image_0620.jpg', 'image_0146.jpg', 'image_0152.jpg', 'image_0634.jpg', 'image_0185.jpg', 'image_0191.jpg', 'image_0378.jpg', 'image_0344.jpg', 'image_0422.jpg', 'image_0436.jpg', 'image_0350.jpg', 'image_0387.jpg', 'image_0393.jpg', 'image_0218.jpg', 'image_0230.jpg', 'image_0556.jpg', 'image_0542.jpg', 'image_0224.jpg', 'image_0595.jpg', 'image_0581.jpg', 'image_0768.jpg', 'image_0754.jpg', 'image_0032.jpg', 'image_0026.jpg', 'image_0740.jpg', 'image_0797.jpg', 'image_0783.jpg', 'image_0782.jpg', 'image_0796.jpg', 'image_0027.jpg', 'image_0741.jpg', 'image_0755.jpg', 'image_0033.jpg', 'image_0769.jpg', 'image_0580.jpg', 'image_0594.jpg', 'image_0543.jpg', 'image_0225.jpg', 'image_0231.jpg', 'image_0557.jpg', 'image_0219.jpg', 'image_0392.jpg', 'image_0386.jpg', 'image_0437.jpg', 'image_0351.jpg', 'image_0345.jpg', 'image_0423.jpg', 'image_0379.jpg', 'image_0190.jpg', 'image_0184.jpg', 'image_0153.jpg', 'image_0635.jpg', 'image_0621.jpg', 'image_0147.jpg', 'image_0609.jpg', 'image_0179.jpg', 'image_0637.jpg', 'image_0151.jpg', 'image_0145.jpg', 'image_0623.jpg', 'image_0192.jpg', 'image_0186.jpg', 'image_0409.jpg', 'image_0353.jpg', 'image_0435.jpg', 'image_0421.jpg', 'image_0347.jpg', 'image_0390.jpg', 'image_0384.jpg', 'image_0569.jpg', 'image_0227.jpg', 'image_0541.jpg', 'image_0555.jpg', 'image_0233.jpg', 'image_0582.jpg', 'image_0596.jpg', 'image_0019.jpg', 'image_0743.jpg', 'image_0025.jpg', 'image_0031.jpg', 'image_0757.jpg', 'image_0780.jpg', 'image_0794.jpg', 'image_0795.jpg', 'image_0781.jpg', 'image_0030.jpg', 'image_0756.jpg', 'image_0742.jpg', 'image_0024.jpg', 'image_0018.jpg', 'image_0597.jpg', 'image_0583.jpg', 'image_0554.jpg', 'image_0232.jpg', 'image_0226.jpg', 'image_0540.jpg', 'image_0568.jpg', 'image_0385.jpg', 'image_0391.jpg', 'image_0420.jpg', 'image_0346.jpg', 'image_0352.jpg', 'image_0434.jpg', 'image_0408.jpg', 'image_0187.jpg', 'image_0193.jpg', 'image_0144.jpg', 'image_0622.jpg', 'image_0636.jpg', 'image_0150.jpg', 'image_0178.jpg', 'image_0154.jpg', 'image_0632.jpg', 'image_0626.jpg', 'image_0140.jpg', 'image_0168.jpg', 'image_0197.jpg', 'image_0183.jpg', 'image_0430.jpg', 'image_0356.jpg', 'image_0342.jpg', 'image_0424.jpg', 'image_0418.jpg', 'image_0395.jpg', 'image_0381.jpg', 'image_0544.jpg', 'image_0222.jpg', 'image_0236.jpg', 'image_0550.jpg', 'image_0578.jpg', 'image_0587.jpg', 'image_0593.jpg', 'image_0020.jpg', 'image_0746.jpg', 'image_0752.jpg', 'image_0034.jpg', 'image_0008.jpg', 'image_0785.jpg', 'image_0791.jpg', 'image_0790.jpg', 'image_0784.jpg', 'image_0009.jpg', 'image_0753.jpg', 'image_0035.jpg', 'image_0021.jpg', 'image_0747.jpg', 'image_0592.jpg', 'image_0586.jpg', 'image_0579.jpg', 'image_0237.jpg', 'image_0551.jpg', 'image_0545.jpg', 'image_0223.jpg', 'image_0380.jpg', 'image_0394.jpg', 'image_0419.jpg', 'image_0343.jpg', 'image_0425.jpg', 'image_0431.jpg', 'image_0357.jpg', 'image_0800.jpg', 'image_0182.jpg', 'image_0196.jpg', 'image_0169.jpg', 'image_0627.jpg', 'image_0141.jpg', 'image_0155.jpg', 'image_0633.jpg', 'image_0143.jpg', 'image_0625.jpg', 'image_0631.jpg', 'image_0157.jpg', 'image_0619.jpg', 'image_0180.jpg', 'image_0194.jpg', 'image_0427.jpg', 'image_0341.jpg', 'image_0355.jpg', 'image_0433.jpg', 'image_0369.jpg', 'image_0382.jpg', 'image_0396.jpg', 'image_0553.jpg', 'image_0235.jpg', 'image_0221.jpg', 'image_0547.jpg', 'image_0209.jpg', 'image_0590.jpg', 'image_0584.jpg', 'image_0037.jpg', 'image_0751.jpg', 'image_0745.jpg', 'image_0023.jpg', 'image_0779.jpg', 'image_0792.jpg', 'image_0786.jpg', 'image_0787.jpg', 'image_0793.jpg', 'image_0778.jpg', 'image_0744.jpg', 'image_0022.jpg', 'image_0036.jpg', 'image_0750.jpg', 'image_0585.jpg', 'image_0591.jpg', 'image_0208.jpg', 'image_0220.jpg', 'image_0546.jpg', 'image_0552.jpg', 'image_0234.jpg', 'image_0397.jpg', 'image_0383.jpg', 'image_0368.jpg', 'image_0354.jpg', 'image_0432.jpg', 'image_0426.jpg', 'image_0340.jpg', 'image_0195.jpg', 'image_0181.jpg', 'image_0618.jpg', 'image_0630.jpg', 'image_0156.jpg', 'image_0142.jpg', 'image_0624.jpg', 'image_0119.jpg', 'image_0125.jpg', 'image_0643.jpg', 'image_0657.jpg', 'image_0131.jpg', 'image_0680.jpg', 'image_0694.jpg', 'image_0469.jpg', 'image_0441.jpg', 'image_0327.jpg', 'image_0333.jpg', 'image_0455.jpg', 'image_0482.jpg', 'image_0496.jpg', 'image_0509.jpg', 'image_0535.jpg', 'image_0253.jpg', 'image_0247.jpg', 'image_0521.jpg', 'image_0290.jpg', 'image_0284.jpg', 'image_0079.jpg', 'image_0051.jpg', 'image_0737.jpg', 'image_0723.jpg', 'image_0045.jpg', 'image_0092.jpg', 'image_0086.jpg', 'image_0087.jpg', 'image_0093.jpg', 'image_0722.jpg', 'image_0044.jpg', 'image_0050.jpg', 'image_0736.jpg', 'image_0078.jpg', 'image_0285.jpg', 'image_0291.jpg', 'image_0246.jpg', 'image_0520.jpg', 'image_0534.jpg', 'image_0252.jpg', 'image_0508.jpg', 'image_0497.jpg', 'image_0483.jpg', 'image_0332.jpg', 'image_0454.jpg', 'image_0440.jpg', 'image_0326.jpg', 'image_0468.jpg', 'image_0695.jpg', 'image_0681.jpg', 'image_0656.jpg', 'image_0130.jpg', 'image_0124.jpg', 'image_0642.jpg', 'image_0118.jpg', 'image_0668.jpg', 'image_0132.jpg', 'image_0654.jpg', 'image_0640.jpg', 'image_0126.jpg', 'image_0697.jpg', 'image_0683.jpg', 'image_0318.jpg', 'image_0456.jpg', 'image_0330.jpg', 'image_0324.jpg', 'image_0442.jpg', 'image_0495.jpg', 'image_0481.jpg', 'image_0278.jpg', 'image_0522.jpg', 'image_0244.jpg', 'image_0250.jpg', 'image_0536.jpg', 'image_0287.jpg', 'image_0293.jpg', 'image_0708.jpg', 'image_0046.jpg', 'image_0720.jpg', 'image_0734.jpg', 'image_0052.jpg', 'image_0085.jpg', 'image_0091.jpg', 'image_0090.jpg', 'image_0084.jpg', 'image_0735.jpg', 'image_0053.jpg', 'image_0047.jpg', 'image_0721.jpg', 'image_0709.jpg', 'image_0292.jpg', 'image_0286.jpg', 'image_0251.jpg', 'image_0537.jpg', 'image_0523.jpg', 'image_0245.jpg', 'image_0279.jpg', 'image_0480.jpg', 'image_0494.jpg', 'image_0325.jpg', 'image_0443.jpg', 'image_0457.jpg', 'image_0331.jpg', 'image_0319.jpg', 'image_0682.jpg', 'image_0696.jpg', 'image_0641.jpg', 'image_0127.jpg', 'image_0133.jpg', 'image_0655.jpg', 'image_0669.jpg', 'image_0651.jpg', 'image_0137.jpg', 'image_0123.jpg', 'image_0645.jpg', 'image_0679.jpg', 'image_0692.jpg', 'image_0686.jpg', 'image_0335.jpg', 'image_0453.jpg', 'image_0447.jpg', 'image_0321.jpg', 'image_0309.jpg', 'image_0490.jpg', 'image_0484.jpg', 'image_0241.jpg', 'image_0527.jpg', 'image_0533.jpg', 'image_0255.jpg', 'image_0269.jpg', 'image_0282.jpg', 'image_0296.jpg', 'image_0725.jpg', 'image_0043.jpg', 'image_0057.jpg', 'image_0731.jpg', 'image_0719.jpg', 'image_0080.jpg', 'image_0094.jpg', 'image_0095.jpg', 'image_0081.jpg', 'image_0718.jpg', 'image_0056.jpg', 'image_0730.jpg', 'image_0724.jpg', 'image_0042.jpg', 'image_0297.jpg', 'image_0283.jpg', 'image_0268.jpg', 'image_0532.jpg', 'image_0254.jpg', 'image_0240.jpg', 'image_0526.jpg', 'image_0485.jpg', 'image_0491.jpg', 'image_0308.jpg', 'image_0446.jpg', 'image_0320.jpg', 'image_0334.jpg', 'image_0452.jpg', 'image_0687.jpg', 'image_0693.jpg', 'image_0678.jpg', 'image_0122.jpg', 'image_0644.jpg', 'image_0650.jpg', 'image_0136.jpg', 'image_0646.jpg', 'image_0120.jpg', 'image_0134.jpg', 'image_0652.jpg', 'image_0108.jpg', 'image_0685.jpg', 'image_0691.jpg', 'image_0322.jpg', 'image_0444.jpg', 'image_0450.jpg', 'image_0336.jpg', 'image_0478.jpg', 'image_0487.jpg', 'image_0493.jpg', 'image_0256.jpg', 'image_0530.jpg', 'image_0524.jpg', 'image_0242.jpg', 'image_0518.jpg', 'image_0295.jpg', 'image_0281.jpg', 'image_0732.jpg', 'image_0054.jpg', 'image_0040.jpg', 'image_0726.jpg', 'image_0068.jpg', 'image_0097.jpg', 'image_0083.jpg', 'image_0082.jpg', 'image_0096.jpg', 'image_0069.jpg', 'image_0041.jpg', 'image_0727.jpg', 'image_0733.jpg', 'image_0055.jpg', 'image_0280.jpg', 'image_0294.jpg', 'image_0519.jpg', 'image_0525.jpg', 'image_0243.jpg', 'image_0257.jpg', 'image_0531.jpg', 'image_0492.jpg', 'image_0486.jpg', 'image_0479.jpg', 'image_0451.jpg', 'image_0337.jpg', 'image_0323.jpg', 'image_0445.jpg', 'image_0690.jpg', 'image_0684.jpg', 'image_0109.jpg', 'image_0135.jpg', 'image_0653.jpg', 'image_0647.jpg', 'image_0121.jpg', 'image_0138.jpg', 'image_0104.jpg', 'image_0662.jpg', 'image_0676.jpg', 'image_0110.jpg', 'image_0689.jpg', 'image_0448.jpg', 'image_0460.jpg', 'image_0306.jpg', 'image_0312.jpg', 'image_0474.jpg', 'image_0528.jpg', 'image_0514.jpg', 'image_0272.jpg', 'image_0266.jpg', 'image_0500.jpg', 'image_0299.jpg', 'image_0058.jpg', 'image_0070.jpg', 'image_0716.jpg', 'image_0702.jpg', 'image_0064.jpg', 'image_0703.jpg', 'image_0065.jpg', 'image_0071.jpg', 'image_0717.jpg', 'image_0059.jpg', 'image_0298.jpg', 'image_0267.jpg', 'image_0501.jpg', 'image_0515.jpg', 'image_0273.jpg', 'image_0529.jpg', 'image_0313.jpg', 'image_0475.jpg', 'image_0461.jpg', 'image_0307.jpg', 'image_0449.jpg', 'image_0688.jpg', 'image_0677.jpg', 'image_0111.jpg', 'image_0105.jpg', 'image_0663.jpg', 'image_0139.jpg', 'image_0649.jpg', 'image_0113.jpg', 'image_0675.jpg', 'image_0661.jpg', 'image_0107.jpg', 'image_0339.jpg', 'image_0477.jpg', 'image_0311.jpg', 'image_0305.jpg', 'image_0463.jpg', 'image_0488.jpg', 'image_0259.jpg', 'image_0503.jpg', 'image_0265.jpg', 'image_0271.jpg', 'image_0517.jpg', 'image_0729.jpg', 'image_0067.jpg', 'image_0701.jpg', 'image_0715.jpg', 'image_0073.jpg', 'image_0098.jpg', 'image_0099.jpg', 'image_0714.jpg', 'image_0072.jpg', 'image_0066.jpg', 'image_0700.jpg', 'image_0728.jpg', 'image_0270.jpg', 'image_0516.jpg', 'image_0502.jpg', 'image_0264.jpg', 'image_0258.jpg', 'image_0489.jpg', 'image_0304.jpg', 'image_0462.jpg', 'image_0476.jpg', 'image_0310.jpg', 'image_0338.jpg', 'image_0660.jpg', 'image_0106.jpg', 'image_0112.jpg', 'image_0674.jpg', 'image_0648.jpg', 'image_0670.jpg', 'image_0116.jpg', 'image_0102.jpg', 'image_0664.jpg', 'image_0658.jpg', 'image_0314.jpg', 'image_0472.jpg', 'image_0466.jpg', 'image_0300.jpg', 'image_0328.jpg', 'image_0499.jpg', 'image_0260.jpg', 'image_0506.jpg', 'image_0512.jpg', 'image_0274.jpg', 'image_0248.jpg', 'image_0704.jpg', 'image_0062.jpg', 'image_0076.jpg', 'image_0710.jpg', 'image_0738.jpg', 'image_0089.jpg', 'image_0088.jpg', 'image_0739.jpg', 'image_0077.jpg', 'image_0711.jpg', 'image_0705.jpg', 'image_0063.jpg', 'image_0249.jpg', 'image_0513.jpg', 'image_0275.jpg', 'image_0261.jpg', 'image_0507.jpg', 'image_0498.jpg', 'image_0329.jpg', 'image_0467.jpg', 'image_0301.jpg', 'image_0315.jpg', 'image_0473.jpg', 'image_0659.jpg', 'image_0103.jpg', 'image_0665.jpg', 'image_0671.jpg', 'image_0117.jpg', 'image_0667.jpg', 'image_0101.jpg', 'image_0115.jpg', 'image_0673.jpg', 'image_0129.jpg', 'image_0698.jpg', 'image_0303.jpg', 'image_0465.jpg', 'image_0471.jpg', 'image_0317.jpg', 'image_0459.jpg', 'image_0277.jpg', 'image_0511.jpg', 'image_0505.jpg', 'image_0263.jpg', 'image_0539.jpg', 'image_0288.jpg', 'image_0713.jpg', 'image_0075.jpg', 'image_0061.jpg', 'image_0707.jpg', 'image_0049.jpg', 'image_0048.jpg', 'image_0060.jpg', 'image_0706.jpg', 'image_0712.jpg', 'image_0074.jpg', 'image_0289.jpg', 'image_0538.jpg', 'image_0504.jpg', 'image_0262.jpg', 'image_0276.jpg', 'image_0510.jpg', 'image_0458.jpg', 'image_0470.jpg', 'image_0316.jpg', 'image_0302.jpg', 'image_0464.jpg', 'image_0699.jpg', 'image_0128.jpg', 'image_0114.jpg', 'image_0672.jpg', 'image_0666.jpg', 'image_0100.jpg', 'image_0629.jpg', 'image_0601.jpg', 'image_0167.jpg', 'image_0173.jpg', 'image_0615.jpg', 'image_0198.jpg', 'image_0359.jpg', 'image_0365.jpg', 'image_0403.jpg', 'image_0417.jpg', 'image_0371.jpg', 'image_0239.jpg', 'image_0211.jpg', 'image_0577.jpg', 'image_0563.jpg', 'image_0205.jpg', 'image_0588.jpg', 'image_0749.jpg', 'image_0775.jpg', 'image_0013.jpg', 'image_0007.jpg', 'image_0761.jpg', 'image_0006.jpg', 'image_0760.jpg', 'image_0774.jpg', 'image_0012.jpg', 'image_0748.jpg', 'image_0589.jpg', 'image_0562.jpg', 'image_0204.jpg', 'image_0210.jpg', 'image_0576.jpg', 'image_0238.jpg', 'image_0416.jpg', 'image_0370.jpg', 'image_0364.jpg', 'image_0402.jpg', 'image_0358.jpg', 'image_0199.jpg', 'image_0172.jpg', 'image_0614.jpg', 'image_0600.jpg', 'image_0166.jpg', 'image_0628.jpg', 'image_0158.jpg', 'image_0616.jpg', 'image_0170.jpg', 'image_0164.jpg', 'image_0602.jpg', 'image_0428.jpg', 'image_0372.jpg', 'image_0414.jpg', 'image_0400.jpg', 'image_0366.jpg', 'image_0399.jpg', 'image_0548.jpg', 'image_0206.jpg', 'image_0560.jpg', 'image_0574.jpg', 'image_0212.jpg', 'image_0038.jpg', 'image_0762.jpg', 'image_0004.jpg', 'image_0010.jpg', 'image_0776.jpg', 'image_0789.jpg', 'image_0788.jpg', 'image_0011.jpg', 'image_0777.jpg', 'image_0763.jpg', 'image_0005.jpg', 'image_0039.jpg', 'image_0575.jpg', 'image_0213.jpg', 'image_0207.jpg', 'image_0561.jpg', 'image_0549.jpg', 'image_0398.jpg', 'image_0401.jpg', 'image_0367.jpg', 'image_0373.jpg', 'image_0415.jpg', 'image_0429.jpg', 'image_0165.jpg', 'image_0603.jpg', 'image_0617.jpg', 'image_0171.jpg', 'image_0159.jpg', 'image_0175.jpg', 'image_0613.jpg', 'image_0607.jpg', 'image_0161.jpg', 'image_0149.jpg', 'image_0411.jpg', 'image_0377.jpg', 'image_0363.jpg', 'image_0405.jpg', 'image_0439.jpg', 'image_0388.jpg', 'image_0565.jpg', 'image_0203.jpg', 'image_0217.jpg', 'image_0571.jpg', 'image_0559.jpg', 'image_0001.jpg', 'image_0767.jpg', 'image_0773.jpg', 'image_0015.jpg', 'image_0029.jpg', 'image_0798.jpg', 'image_0799.jpg', 'image_0028.jpg', 'image_0772.jpg', 'image_0014.jpg', 'image_0766.jpg', 'image_0558.jpg', 'image_0216.jpg', 'image_0570.jpg', 'image_0564.jpg', 'image_0202.jpg', 'image_0389.jpg', 'image_0438.jpg', 'image_0362.jpg', 'image_0404.jpg', 'image_0410.jpg', 'image_0376.jpg', 'image_0148.jpg', 'image_0606.jpg', 'image_0160.jpg', 'image_0174.jpg', 'image_0612.jpg', 'image_0162.jpg', 'image_0604.jpg', 'image_0610.jpg', 'image_0176.jpg', 'image_0638.jpg', 'image_0189.jpg', 'image_0406.jpg', 'image_0360.jpg', 'image_0374.jpg', 'image_0412.jpg', 'image_0348.jpg', 'image_0572.jpg', 'image_0214.jpg', 'image_0200.jpg', 'image_0566.jpg', 'image_0228.jpg', 'image_0599.jpg', 'image_0016.jpg', 'image_0770.jpg', 'image_0764.jpg', 'image_0002.jpg', 'image_0758.jpg', 'image_0759.jpg', 'image_0765.jpg', 'image_0003.jpg', 'image_0017.jpg', 'image_0771.jpg', 'image_0598.jpg', 'image_0229.jpg', 'image_0201.jpg', 'image_0567.jpg', 'image_0573.jpg', 'image_0215.jpg', 'image_0349.jpg', 'image_0375.jpg', 'image_0413.jpg', 'image_0407.jpg', 'image_0361.jpg', 'image_0188.jpg', 'image_0639.jpg', 'image_0611.jpg', 'image_0177.jpg', 'image_0163.jpg', 'image_0605.jpg']\n",
      "ROOT: data/caltech101/joshua_tree\n",
      "DIRECTORIES: []\n",
      "FILE:['image_0032.jpg', 'image_0026.jpg', 'image_0027.jpg', 'image_0033.jpg', 'image_0019.jpg', 'image_0025.jpg', 'image_0031.jpg', 'image_0030.jpg', 'image_0024.jpg', 'image_0018.jpg', 'image_0020.jpg', 'image_0034.jpg', 'image_0008.jpg', 'image_0009.jpg', 'image_0035.jpg', 'image_0021.jpg', 'image_0037.jpg', 'image_0023.jpg', 'image_0022.jpg', 'image_0036.jpg', 'image_0051.jpg', 'image_0045.jpg', 'image_0044.jpg', 'image_0050.jpg', 'image_0046.jpg', 'image_0052.jpg', 'image_0053.jpg', 'image_0047.jpg', 'image_0043.jpg', 'image_0057.jpg', 'image_0056.jpg', 'image_0042.jpg', 'image_0054.jpg', 'image_0040.jpg', 'image_0041.jpg', 'image_0055.jpg', 'image_0058.jpg', 'image_0064.jpg', 'image_0059.jpg', 'image_0062.jpg', 'image_0063.jpg', 'image_0061.jpg', 'image_0049.jpg', 'image_0048.jpg', 'image_0060.jpg', 'image_0013.jpg', 'image_0007.jpg', 'image_0006.jpg', 'image_0012.jpg', 'image_0038.jpg', 'image_0004.jpg', 'image_0010.jpg', 'image_0011.jpg', 'image_0005.jpg', 'image_0039.jpg', 'image_0001.jpg', 'image_0015.jpg', 'image_0029.jpg', 'image_0028.jpg', 'image_0014.jpg', 'image_0016.jpg', 'image_0002.jpg', 'image_0003.jpg', 'image_0017.jpg']\n",
      "ROOT: data/caltech101/cougar_body\n",
      "DIRECTORIES: []\n",
      "FILE:['image_0032.jpg', 'image_0026.jpg', 'image_0027.jpg', 'image_0033.jpg', 'image_0019.jpg', 'image_0025.jpg', 'image_0031.jpg', 'image_0030.jpg', 'image_0024.jpg', 'image_0018.jpg', 'image_0020.jpg', 'image_0034.jpg', 'image_0008.jpg', 'image_0009.jpg', 'image_0035.jpg', 'image_0021.jpg', 'image_0037.jpg', 'image_0023.jpg', 'image_0022.jpg', 'image_0036.jpg', 'image_0045.jpg', 'image_0044.jpg', 'image_0046.jpg', 'image_0047.jpg', 'image_0043.jpg', 'image_0042.jpg', 'image_0040.jpg', 'image_0041.jpg', 'image_0013.jpg', 'image_0007.jpg', 'image_0006.jpg', 'image_0012.jpg', 'image_0038.jpg', 'image_0004.jpg', 'image_0010.jpg', 'image_0011.jpg', 'image_0005.jpg', 'image_0039.jpg', 'image_0001.jpg', 'image_0015.jpg', 'image_0029.jpg', 'image_0028.jpg', 'image_0014.jpg', 'image_0016.jpg', 'image_0002.jpg', 'image_0003.jpg', 'image_0017.jpg']\n",
      "ROOT: data/caltech101/grand_piano\n",
      "DIRECTORIES: []\n",
      "FILE:['image_0032.jpg', 'image_0026.jpg', 'image_0027.jpg', 'image_0033.jpg', 'image_0019.jpg', 'image_0025.jpg', 'image_0031.jpg', 'image_0030.jpg', 'image_0024.jpg', 'image_0018.jpg', 'image_0020.jpg', 'image_0034.jpg', 'image_0008.jpg', 'image_0009.jpg', 'image_0035.jpg', 'image_0021.jpg', 'image_0037.jpg', 'image_0023.jpg', 'image_0022.jpg', 'image_0036.jpg', 'image_0079.jpg', 'image_0051.jpg', 'image_0045.jpg', 'image_0092.jpg', 'image_0086.jpg', 'image_0087.jpg', 'image_0093.jpg', 'image_0044.jpg', 'image_0050.jpg', 'image_0078.jpg', 'image_0046.jpg', 'image_0052.jpg', 'image_0085.jpg', 'image_0091.jpg', 'image_0090.jpg', 'image_0084.jpg', 'image_0053.jpg', 'image_0047.jpg', 'image_0043.jpg', 'image_0057.jpg', 'image_0080.jpg', 'image_0094.jpg', 'image_0095.jpg', 'image_0081.jpg', 'image_0056.jpg', 'image_0042.jpg', 'image_0054.jpg', 'image_0040.jpg', 'image_0068.jpg', 'image_0097.jpg', 'image_0083.jpg', 'image_0082.jpg', 'image_0096.jpg', 'image_0069.jpg', 'image_0041.jpg', 'image_0055.jpg', 'image_0058.jpg', 'image_0070.jpg', 'image_0064.jpg', 'image_0065.jpg', 'image_0071.jpg', 'image_0059.jpg', 'image_0067.jpg', 'image_0073.jpg', 'image_0098.jpg', 'image_0099.jpg', 'image_0072.jpg', 'image_0066.jpg', 'image_0062.jpg', 'image_0076.jpg', 'image_0089.jpg', 'image_0088.jpg', 'image_0077.jpg', 'image_0063.jpg', 'image_0075.jpg', 'image_0061.jpg', 'image_0049.jpg', 'image_0048.jpg', 'image_0060.jpg', 'image_0074.jpg', 'image_0013.jpg', 'image_0007.jpg', 'image_0006.jpg', 'image_0012.jpg', 'image_0038.jpg', 'image_0004.jpg', 'image_0010.jpg', 'image_0011.jpg', 'image_0005.jpg', 'image_0039.jpg', 'image_0001.jpg', 'image_0015.jpg', 'image_0029.jpg', 'image_0028.jpg', 'image_0014.jpg', 'image_0016.jpg', 'image_0002.jpg', 'image_0003.jpg', 'image_0017.jpg']\n",
      "ROOT: data/caltech101/trilobite\n",
      "DIRECTORIES: []\n",
      "FILE:['image_0032.jpg', 'image_0026.jpg', 'image_0027.jpg', 'image_0033.jpg', 'image_0019.jpg', 'image_0025.jpg', 'image_0031.jpg', 'image_0030.jpg', 'image_0024.jpg', 'image_0018.jpg', 'image_0020.jpg', 'image_0034.jpg', 'image_0008.jpg', 'image_0009.jpg', 'image_0035.jpg', 'image_0021.jpg', 'image_0037.jpg', 'image_0023.jpg', 'image_0022.jpg', 'image_0036.jpg', 'image_0079.jpg', 'image_0051.jpg', 'image_0045.jpg', 'image_0086.jpg', 'image_0044.jpg', 'image_0050.jpg', 'image_0078.jpg', 'image_0046.jpg', 'image_0052.jpg', 'image_0085.jpg', 'image_0084.jpg', 'image_0053.jpg', 'image_0047.jpg', 'image_0043.jpg', 'image_0057.jpg', 'image_0080.jpg', 'image_0081.jpg', 'image_0056.jpg', 'image_0042.jpg', 'image_0054.jpg', 'image_0040.jpg', 'image_0068.jpg', 'image_0083.jpg', 'image_0082.jpg', 'image_0069.jpg', 'image_0041.jpg', 'image_0055.jpg', 'image_0058.jpg', 'image_0070.jpg', 'image_0064.jpg', 'image_0065.jpg', 'image_0071.jpg', 'image_0059.jpg', 'image_0067.jpg', 'image_0073.jpg', 'image_0072.jpg', 'image_0066.jpg', 'image_0062.jpg', 'image_0076.jpg', 'image_0077.jpg', 'image_0063.jpg', 'image_0075.jpg', 'image_0061.jpg', 'image_0049.jpg', 'image_0048.jpg', 'image_0060.jpg', 'image_0074.jpg', 'image_0013.jpg', 'image_0007.jpg', 'image_0006.jpg', 'image_0012.jpg', 'image_0038.jpg', 'image_0004.jpg', 'image_0010.jpg', 'image_0011.jpg', 'image_0005.jpg', 'image_0039.jpg', 'image_0001.jpg', 'image_0015.jpg', 'image_0029.jpg', 'image_0028.jpg', 'image_0014.jpg', 'image_0016.jpg', 'image_0002.jpg', 'image_0003.jpg', 'image_0017.jpg']\n",
      "ROOT: data/caltech101/brontosaurus\n",
      "DIRECTORIES: []\n",
      "FILE:['image_0032.jpg', 'image_0026.jpg', 'image_0027.jpg', 'image_0033.jpg', 'image_0019.jpg', 'image_0025.jpg', 'image_0031.jpg', 'image_0030.jpg', 'image_0024.jpg', 'image_0018.jpg', 'image_0020.jpg', 'image_0034.jpg', 'image_0008.jpg', 'image_0009.jpg', 'image_0035.jpg', 'image_0021.jpg', 'image_0037.jpg', 'image_0023.jpg', 'image_0022.jpg', 'image_0036.jpg', 'image_0043.jpg', 'image_0042.jpg', 'image_0040.jpg', 'image_0041.jpg', 'image_0013.jpg', 'image_0007.jpg', 'image_0006.jpg', 'image_0012.jpg', 'image_0038.jpg', 'image_0004.jpg', 'image_0010.jpg', 'image_0011.jpg', 'image_0005.jpg', 'image_0039.jpg', 'image_0001.jpg', 'image_0015.jpg', 'image_0029.jpg', 'image_0028.jpg', 'image_0014.jpg', 'image_0016.jpg', 'image_0002.jpg', 'image_0003.jpg', 'image_0017.jpg']\n",
      "ROOT: data/caltech101/wild_cat\n",
      "DIRECTORIES: []\n",
      "FILE:['image_0032.jpg', 'image_0026.jpg', 'image_0027.jpg', 'image_0033.jpg', 'image_0019.jpg', 'image_0025.jpg', 'image_0031.jpg', 'image_0030.jpg', 'image_0024.jpg', 'image_0018.jpg', 'image_0020.jpg', 'image_0034.jpg', 'image_0008.jpg', 'image_0009.jpg', 'image_0021.jpg', 'image_0023.jpg', 'image_0022.jpg', 'image_0013.jpg', 'image_0007.jpg', 'image_0006.jpg', 'image_0012.jpg', 'image_0004.jpg', 'image_0010.jpg', 'image_0011.jpg', 'image_0005.jpg', 'image_0001.jpg', 'image_0015.jpg', 'image_0029.jpg', 'image_0028.jpg', 'image_0014.jpg', 'image_0016.jpg', 'image_0002.jpg', 'image_0003.jpg', 'image_0017.jpg']\n",
      "ROOT: data/caltech101/pigeon\n",
      "DIRECTORIES: []\n",
      "FILE:['image_0032.jpg', 'image_0026.jpg', 'image_0027.jpg', 'image_0033.jpg', 'image_0019.jpg', 'image_0025.jpg', 'image_0031.jpg', 'image_0030.jpg', 'image_0024.jpg', 'image_0018.jpg', 'image_0020.jpg', 'image_0034.jpg', 'image_0008.jpg', 'image_0009.jpg', 'image_0035.jpg', 'image_0021.jpg', 'image_0037.jpg', 'image_0023.jpg', 'image_0022.jpg', 'image_0036.jpg', 'image_0045.jpg', 'image_0044.jpg', 'image_0043.jpg', 'image_0042.jpg', 'image_0040.jpg', 'image_0041.jpg', 'image_0013.jpg', 'image_0007.jpg', 'image_0006.jpg', 'image_0012.jpg', 'image_0038.jpg', 'image_0004.jpg', 'image_0010.jpg', 'image_0011.jpg', 'image_0005.jpg', 'image_0039.jpg', 'image_0001.jpg', 'image_0015.jpg', 'image_0029.jpg', 'image_0028.jpg', 'image_0014.jpg', 'image_0016.jpg', 'image_0002.jpg', 'image_0003.jpg', 'image_0017.jpg']\n",
      "ROOT: data/caltech101/dolphin\n",
      "DIRECTORIES: []\n",
      "FILE:['image_0032.jpg', 'image_0026.jpg', 'image_0027.jpg', 'image_0033.jpg', 'image_0019.jpg', 'image_0025.jpg', 'image_0031.jpg', 'image_0030.jpg', 'image_0024.jpg', 'image_0018.jpg', 'image_0020.jpg', 'image_0034.jpg', 'image_0008.jpg', 'image_0009.jpg', 'image_0035.jpg', 'image_0021.jpg', 'image_0037.jpg', 'image_0023.jpg', 'image_0022.jpg', 'image_0036.jpg', 'image_0051.jpg', 'image_0045.jpg', 'image_0044.jpg', 'image_0050.jpg', 'image_0046.jpg', 'image_0052.jpg', 'image_0053.jpg', 'image_0047.jpg', 'image_0043.jpg', 'image_0057.jpg', 'image_0056.jpg', 'image_0042.jpg', 'image_0054.jpg', 'image_0040.jpg', 'image_0041.jpg', 'image_0055.jpg', 'image_0058.jpg', 'image_0064.jpg', 'image_0065.jpg', 'image_0059.jpg', 'image_0062.jpg', 'image_0063.jpg', 'image_0061.jpg', 'image_0049.jpg', 'image_0048.jpg', 'image_0060.jpg', 'image_0013.jpg', 'image_0007.jpg', 'image_0006.jpg', 'image_0012.jpg', 'image_0038.jpg', 'image_0004.jpg', 'image_0010.jpg', 'image_0011.jpg', 'image_0005.jpg', 'image_0039.jpg', 'image_0001.jpg', 'image_0015.jpg', 'image_0029.jpg', 'image_0028.jpg', 'image_0014.jpg', 'image_0016.jpg', 'image_0002.jpg', 'image_0003.jpg', 'image_0017.jpg']\n",
      "ROOT: data/caltech101/soccer_ball\n",
      "DIRECTORIES: []\n",
      "FILE:['image_0032.jpg', 'image_0026.jpg', 'image_0027.jpg', 'image_0033.jpg', 'image_0019.jpg', 'image_0025.jpg', 'image_0031.jpg', 'image_0030.jpg', 'image_0024.jpg', 'image_0018.jpg', 'image_0020.jpg', 'image_0034.jpg', 'image_0008.jpg', 'image_0009.jpg', 'image_0035.jpg', 'image_0021.jpg', 'image_0037.jpg', 'image_0023.jpg', 'image_0022.jpg', 'image_0036.jpg', 'image_0051.jpg', 'image_0045.jpg', 'image_0044.jpg', 'image_0050.jpg', 'image_0046.jpg', 'image_0052.jpg', 'image_0053.jpg', 'image_0047.jpg', 'image_0043.jpg', 'image_0057.jpg', 'image_0056.jpg', 'image_0042.jpg', 'image_0054.jpg', 'image_0040.jpg', 'image_0041.jpg', 'image_0055.jpg', 'image_0058.jpg', 'image_0064.jpg', 'image_0059.jpg', 'image_0062.jpg', 'image_0063.jpg', 'image_0061.jpg', 'image_0049.jpg', 'image_0048.jpg', 'image_0060.jpg', 'image_0013.jpg', 'image_0007.jpg', 'image_0006.jpg', 'image_0012.jpg', 'image_0038.jpg', 'image_0004.jpg', 'image_0010.jpg', 'image_0011.jpg', 'image_0005.jpg', 'image_0039.jpg', 'image_0001.jpg', 'image_0015.jpg', 'image_0029.jpg', 'image_0028.jpg', 'image_0014.jpg', 'image_0016.jpg', 'image_0002.jpg', 'image_0003.jpg', 'image_0017.jpg']\n",
      "ROOT: data/caltech101/wrench\n",
      "DIRECTORIES: []\n",
      "FILE:['image_0032.jpg', 'image_0026.jpg', 'image_0027.jpg', 'image_0033.jpg', 'image_0019.jpg', 'image_0025.jpg', 'image_0031.jpg', 'image_0030.jpg', 'image_0024.jpg', 'image_0018.jpg', 'image_0020.jpg', 'image_0034.jpg', 'image_0008.jpg', 'image_0009.jpg', 'image_0035.jpg', 'image_0021.jpg', 'image_0037.jpg', 'image_0023.jpg', 'image_0022.jpg', 'image_0036.jpg', 'image_0013.jpg', 'image_0007.jpg', 'image_0006.jpg', 'image_0012.jpg', 'image_0038.jpg', 'image_0004.jpg', 'image_0010.jpg', 'image_0011.jpg', 'image_0005.jpg', 'image_0039.jpg', 'image_0001.jpg', 'image_0015.jpg', 'image_0029.jpg', 'image_0028.jpg', 'image_0014.jpg', 'image_0016.jpg', 'image_0002.jpg', 'image_0003.jpg', 'image_0017.jpg']\n",
      "ROOT: data/caltech101/scorpion\n",
      "DIRECTORIES: []\n",
      "FILE:['image_0032.jpg', 'image_0026.jpg', 'image_0027.jpg', 'image_0033.jpg', 'image_0019.jpg', 'image_0025.jpg', 'image_0031.jpg', 'image_0030.jpg', 'image_0024.jpg', 'image_0018.jpg', 'image_0020.jpg', 'image_0034.jpg', 'image_0008.jpg', 'image_0009.jpg', 'image_0035.jpg', 'image_0021.jpg', 'image_0037.jpg', 'image_0023.jpg', 'image_0022.jpg', 'image_0036.jpg', 'image_0079.jpg', 'image_0051.jpg', 'image_0045.jpg', 'image_0044.jpg', 'image_0050.jpg', 'image_0078.jpg', 'image_0046.jpg', 'image_0052.jpg', 'image_0084.jpg', 'image_0053.jpg', 'image_0047.jpg', 'image_0043.jpg', 'image_0057.jpg', 'image_0080.jpg', 'image_0081.jpg', 'image_0056.jpg', 'image_0042.jpg', 'image_0054.jpg', 'image_0040.jpg', 'image_0068.jpg', 'image_0083.jpg', 'image_0082.jpg', 'image_0069.jpg', 'image_0041.jpg', 'image_0055.jpg', 'image_0058.jpg', 'image_0070.jpg', 'image_0064.jpg', 'image_0065.jpg', 'image_0071.jpg', 'image_0059.jpg', 'image_0067.jpg', 'image_0073.jpg', 'image_0072.jpg', 'image_0066.jpg', 'image_0062.jpg', 'image_0076.jpg', 'image_0077.jpg', 'image_0063.jpg', 'image_0075.jpg', 'image_0061.jpg', 'image_0049.jpg', 'image_0048.jpg', 'image_0060.jpg', 'image_0074.jpg', 'image_0013.jpg', 'image_0007.jpg', 'image_0006.jpg', 'image_0012.jpg', 'image_0038.jpg', 'image_0004.jpg', 'image_0010.jpg', 'image_0011.jpg', 'image_0005.jpg', 'image_0039.jpg', 'image_0001.jpg', 'image_0015.jpg', 'image_0029.jpg', 'image_0028.jpg', 'image_0014.jpg', 'image_0016.jpg', 'image_0002.jpg', 'image_0003.jpg', 'image_0017.jpg']\n",
      "ROOT: data/caltech101/flamingo_head\n",
      "DIRECTORIES: []\n",
      "FILE:['image_0032.jpg', 'image_0026.jpg', 'image_0027.jpg', 'image_0033.jpg', 'image_0019.jpg', 'image_0025.jpg', 'image_0031.jpg', 'image_0030.jpg', 'image_0024.jpg', 'image_0018.jpg', 'image_0020.jpg', 'image_0034.jpg', 'image_0008.jpg', 'image_0009.jpg', 'image_0035.jpg', 'image_0021.jpg', 'image_0037.jpg', 'image_0023.jpg', 'image_0022.jpg', 'image_0036.jpg', 'image_0045.jpg', 'image_0044.jpg', 'image_0043.jpg', 'image_0042.jpg', 'image_0040.jpg', 'image_0041.jpg', 'image_0013.jpg', 'image_0007.jpg', 'image_0006.jpg', 'image_0012.jpg', 'image_0038.jpg', 'image_0004.jpg', 'image_0010.jpg', 'image_0011.jpg', 'image_0005.jpg', 'image_0039.jpg', 'image_0001.jpg', 'image_0015.jpg', 'image_0029.jpg', 'image_0028.jpg', 'image_0014.jpg', 'image_0016.jpg', 'image_0002.jpg', 'image_0003.jpg', 'image_0017.jpg']\n",
      "ROOT: data/caltech101/nautilus\n",
      "DIRECTORIES: []\n",
      "FILE:['image_0032.jpg', 'image_0026.jpg', 'image_0027.jpg', 'image_0033.jpg', 'image_0019.jpg', 'image_0025.jpg', 'image_0031.jpg', 'image_0030.jpg', 'image_0024.jpg', 'image_0018.jpg', 'image_0020.jpg', 'image_0034.jpg', 'image_0008.jpg', 'image_0009.jpg', 'image_0035.jpg', 'image_0021.jpg', 'image_0037.jpg', 'image_0023.jpg', 'image_0022.jpg', 'image_0036.jpg', 'image_0051.jpg', 'image_0045.jpg', 'image_0044.jpg', 'image_0050.jpg', 'image_0046.jpg', 'image_0052.jpg', 'image_0053.jpg', 'image_0047.jpg', 'image_0043.jpg', 'image_0042.jpg', 'image_0054.jpg', 'image_0040.jpg', 'image_0041.jpg', 'image_0055.jpg', 'image_0049.jpg', 'image_0048.jpg', 'image_0013.jpg', 'image_0007.jpg', 'image_0006.jpg', 'image_0012.jpg', 'image_0038.jpg', 'image_0004.jpg', 'image_0010.jpg', 'image_0011.jpg', 'image_0005.jpg', 'image_0039.jpg', 'image_0001.jpg', 'image_0015.jpg', 'image_0029.jpg', 'image_0028.jpg', 'image_0014.jpg', 'image_0016.jpg', 'image_0002.jpg', 'image_0003.jpg', 'image_0017.jpg']\n",
      "ROOT: data/caltech101/accordion\n",
      "DIRECTORIES: []\n",
      "FILE:['image_0032.jpg', 'image_0026.jpg', 'image_0027.jpg', 'image_0033.jpg', 'image_0019.jpg', 'image_0025.jpg', 'image_0031.jpg', 'image_0030.jpg', 'image_0024.jpg', 'image_0018.jpg', 'image_0020.jpg', 'image_0034.jpg', 'image_0008.jpg', 'image_0009.jpg', 'image_0035.jpg', 'image_0021.jpg', 'image_0037.jpg', 'image_0023.jpg', 'image_0022.jpg', 'image_0036.jpg', 'image_0051.jpg', 'image_0045.jpg', 'image_0044.jpg', 'image_0050.jpg', 'image_0046.jpg', 'image_0052.jpg', 'image_0053.jpg', 'image_0047.jpg', 'image_0043.jpg', 'image_0042.jpg', 'image_0054.jpg', 'image_0040.jpg', 'image_0041.jpg', 'image_0055.jpg', 'image_0049.jpg', 'image_0048.jpg', 'image_0013.jpg', 'image_0007.jpg', 'image_0006.jpg', 'image_0012.jpg', 'image_0038.jpg', 'image_0004.jpg', 'image_0010.jpg', 'image_0011.jpg', 'image_0005.jpg', 'image_0039.jpg', 'image_0001.jpg', 'image_0015.jpg', 'image_0029.jpg', 'image_0028.jpg', 'image_0014.jpg', 'image_0016.jpg', 'image_0002.jpg', 'image_0003.jpg', 'image_0017.jpg']\n",
      "ROOT: data/caltech101/cougar_face\n",
      "DIRECTORIES: []\n",
      "FILE:['image_0032.jpg', 'image_0026.jpg', 'image_0027.jpg', 'image_0033.jpg', 'image_0019.jpg', 'image_0025.jpg', 'image_0031.jpg', 'image_0030.jpg', 'image_0024.jpg', 'image_0018.jpg', 'image_0020.jpg', 'image_0034.jpg', 'image_0008.jpg', 'image_0009.jpg', 'image_0035.jpg', 'image_0021.jpg', 'image_0037.jpg', 'image_0023.jpg', 'image_0022.jpg', 'image_0036.jpg', 'image_0051.jpg', 'image_0045.jpg', 'image_0044.jpg', 'image_0050.jpg', 'image_0046.jpg', 'image_0052.jpg', 'image_0053.jpg', 'image_0047.jpg', 'image_0043.jpg', 'image_0057.jpg', 'image_0056.jpg', 'image_0042.jpg', 'image_0054.jpg', 'image_0040.jpg', 'image_0068.jpg', 'image_0069.jpg', 'image_0041.jpg', 'image_0055.jpg', 'image_0058.jpg', 'image_0064.jpg', 'image_0065.jpg', 'image_0059.jpg', 'image_0067.jpg', 'image_0066.jpg', 'image_0062.jpg', 'image_0063.jpg', 'image_0061.jpg', 'image_0049.jpg', 'image_0048.jpg', 'image_0060.jpg', 'image_0013.jpg', 'image_0007.jpg', 'image_0006.jpg', 'image_0012.jpg', 'image_0038.jpg', 'image_0004.jpg', 'image_0010.jpg', 'image_0011.jpg', 'image_0005.jpg', 'image_0039.jpg', 'image_0001.jpg', 'image_0015.jpg', 'image_0029.jpg', 'image_0028.jpg', 'image_0014.jpg', 'image_0016.jpg', 'image_0002.jpg', 'image_0003.jpg', 'image_0017.jpg']\n",
      "ROOT: data/caltech101/pyramid\n",
      "DIRECTORIES: []\n",
      "FILE:['image_0032.jpg', 'image_0026.jpg', 'image_0027.jpg', 'image_0033.jpg', 'image_0019.jpg', 'image_0025.jpg', 'image_0031.jpg', 'image_0030.jpg', 'image_0024.jpg', 'image_0018.jpg', 'image_0020.jpg', 'image_0034.jpg', 'image_0008.jpg', 'image_0009.jpg', 'image_0035.jpg', 'image_0021.jpg', 'image_0037.jpg', 'image_0023.jpg', 'image_0022.jpg', 'image_0036.jpg', 'image_0051.jpg', 'image_0045.jpg', 'image_0044.jpg', 'image_0050.jpg', 'image_0046.jpg', 'image_0052.jpg', 'image_0053.jpg', 'image_0047.jpg', 'image_0043.jpg', 'image_0057.jpg', 'image_0056.jpg', 'image_0042.jpg', 'image_0054.jpg', 'image_0040.jpg', 'image_0041.jpg', 'image_0055.jpg', 'image_0049.jpg', 'image_0048.jpg', 'image_0013.jpg', 'image_0007.jpg', 'image_0006.jpg', 'image_0012.jpg', 'image_0038.jpg', 'image_0004.jpg', 'image_0010.jpg', 'image_0011.jpg', 'image_0005.jpg', 'image_0039.jpg', 'image_0001.jpg', 'image_0015.jpg', 'image_0029.jpg', 'image_0028.jpg', 'image_0014.jpg', 'image_0016.jpg', 'image_0002.jpg', 'image_0003.jpg', 'image_0017.jpg']\n",
      "ROOT: data/caltech101/camera\n",
      "DIRECTORIES: []\n",
      "FILE:['image_0032.jpg', 'image_0026.jpg', 'image_0027.jpg', 'image_0033.jpg', 'image_0019.jpg', 'image_0025.jpg', 'image_0031.jpg', 'image_0030.jpg', 'image_0024.jpg', 'image_0018.jpg', 'image_0020.jpg', 'image_0034.jpg', 'image_0008.jpg', 'image_0009.jpg', 'image_0035.jpg', 'image_0021.jpg', 'image_0037.jpg', 'image_0023.jpg', 'image_0022.jpg', 'image_0036.jpg', 'image_0045.jpg', 'image_0044.jpg', 'image_0050.jpg', 'image_0046.jpg', 'image_0047.jpg', 'image_0043.jpg', 'image_0042.jpg', 'image_0040.jpg', 'image_0041.jpg', 'image_0049.jpg', 'image_0048.jpg', 'image_0013.jpg', 'image_0007.jpg', 'image_0006.jpg', 'image_0012.jpg', 'image_0038.jpg', 'image_0004.jpg', 'image_0010.jpg', 'image_0011.jpg', 'image_0005.jpg', 'image_0039.jpg', 'image_0001.jpg', 'image_0015.jpg', 'image_0029.jpg', 'image_0028.jpg', 'image_0014.jpg', 'image_0016.jpg', 'image_0002.jpg', 'image_0003.jpg', 'image_0017.jpg']\n",
      "ROOT: data/caltech101/barrel\n",
      "DIRECTORIES: []\n",
      "FILE:['image_0032.jpg', 'image_0026.jpg', 'image_0027.jpg', 'image_0033.jpg', 'image_0019.jpg', 'image_0025.jpg', 'image_0031.jpg', 'image_0030.jpg', 'image_0024.jpg', 'image_0018.jpg', 'image_0020.jpg', 'image_0034.jpg', 'image_0008.jpg', 'image_0009.jpg', 'image_0035.jpg', 'image_0021.jpg', 'image_0037.jpg', 'image_0023.jpg', 'image_0022.jpg', 'image_0036.jpg', 'image_0045.jpg', 'image_0044.jpg', 'image_0046.jpg', 'image_0047.jpg', 'image_0043.jpg', 'image_0042.jpg', 'image_0040.jpg', 'image_0041.jpg', 'image_0013.jpg', 'image_0007.jpg', 'image_0006.jpg', 'image_0012.jpg', 'image_0038.jpg', 'image_0004.jpg', 'image_0010.jpg', 'image_0011.jpg', 'image_0005.jpg', 'image_0039.jpg', 'image_0001.jpg', 'image_0015.jpg', 'image_0029.jpg', 'image_0028.jpg', 'image_0014.jpg', 'image_0016.jpg', 'image_0002.jpg', 'image_0003.jpg', 'image_0017.jpg']\n",
      "ROOT: data/caltech101/schooner\n",
      "DIRECTORIES: []\n",
      "FILE:['image_0032.jpg', 'image_0026.jpg', 'image_0027.jpg', 'image_0033.jpg', 'image_0019.jpg', 'image_0025.jpg', 'image_0031.jpg', 'image_0030.jpg', 'image_0024.jpg', 'image_0018.jpg', 'image_0020.jpg', 'image_0034.jpg', 'image_0008.jpg', 'image_0009.jpg', 'image_0035.jpg', 'image_0021.jpg', 'image_0037.jpg', 'image_0023.jpg', 'image_0022.jpg', 'image_0036.jpg', 'image_0051.jpg', 'image_0045.jpg', 'image_0044.jpg', 'image_0050.jpg', 'image_0046.jpg', 'image_0052.jpg', 'image_0053.jpg', 'image_0047.jpg', 'image_0043.jpg', 'image_0057.jpg', 'image_0056.jpg', 'image_0042.jpg', 'image_0054.jpg', 'image_0040.jpg', 'image_0041.jpg', 'image_0055.jpg', 'image_0058.jpg', 'image_0059.jpg', 'image_0062.jpg', 'image_0063.jpg', 'image_0061.jpg', 'image_0049.jpg', 'image_0048.jpg', 'image_0060.jpg', 'image_0013.jpg', 'image_0007.jpg', 'image_0006.jpg', 'image_0012.jpg', 'image_0038.jpg', 'image_0004.jpg', 'image_0010.jpg', 'image_0011.jpg', 'image_0005.jpg', 'image_0039.jpg', 'image_0001.jpg', 'image_0015.jpg', 'image_0029.jpg', 'image_0028.jpg', 'image_0014.jpg', 'image_0016.jpg', 'image_0002.jpg', 'image_0003.jpg', 'image_0017.jpg']\n",
      "ROOT: data/caltech101/cellphone\n",
      "DIRECTORIES: []\n",
      "FILE:['image_0032.jpg', 'image_0026.jpg', 'image_0027.jpg', 'image_0033.jpg', 'image_0019.jpg', 'image_0025.jpg', 'image_0031.jpg', 'image_0030.jpg', 'image_0024.jpg', 'image_0018.jpg', 'image_0020.jpg', 'image_0034.jpg', 'image_0008.jpg', 'image_0009.jpg', 'image_0035.jpg', 'image_0021.jpg', 'image_0037.jpg', 'image_0023.jpg', 'image_0022.jpg', 'image_0036.jpg', 'image_0051.jpg', 'image_0045.jpg', 'image_0044.jpg', 'image_0050.jpg', 'image_0046.jpg', 'image_0052.jpg', 'image_0053.jpg', 'image_0047.jpg', 'image_0043.jpg', 'image_0057.jpg', 'image_0056.jpg', 'image_0042.jpg', 'image_0054.jpg', 'image_0040.jpg', 'image_0041.jpg', 'image_0055.jpg', 'image_0058.jpg', 'image_0059.jpg', 'image_0049.jpg', 'image_0048.jpg', 'image_0013.jpg', 'image_0007.jpg', 'image_0006.jpg', 'image_0012.jpg', 'image_0038.jpg', 'image_0004.jpg', 'image_0010.jpg', 'image_0011.jpg', 'image_0005.jpg', 'image_0039.jpg', 'image_0001.jpg', 'image_0015.jpg', 'image_0029.jpg', 'image_0028.jpg', 'image_0014.jpg', 'image_0016.jpg', 'image_0002.jpg', 'image_0003.jpg', 'image_0017.jpg']\n",
      "ROOT: data/caltech101/panda\n",
      "DIRECTORIES: []\n",
      "FILE:['image_0032.jpg', 'image_0026.jpg', 'image_0027.jpg', 'image_0033.jpg', 'image_0019.jpg', 'image_0025.jpg', 'image_0031.jpg', 'image_0030.jpg', 'image_0024.jpg', 'image_0018.jpg', 'image_0020.jpg', 'image_0034.jpg', 'image_0008.jpg', 'image_0009.jpg', 'image_0035.jpg', 'image_0021.jpg', 'image_0037.jpg', 'image_0023.jpg', 'image_0022.jpg', 'image_0036.jpg', 'image_0013.jpg', 'image_0007.jpg', 'image_0006.jpg', 'image_0012.jpg', 'image_0038.jpg', 'image_0004.jpg', 'image_0010.jpg', 'image_0011.jpg', 'image_0005.jpg', 'image_0001.jpg', 'image_0015.jpg', 'image_0029.jpg', 'image_0028.jpg', 'image_0014.jpg', 'image_0016.jpg', 'image_0002.jpg', 'image_0003.jpg', 'image_0017.jpg']\n",
      "ROOT: data/caltech101/revolver\n",
      "DIRECTORIES: []\n",
      "FILE:['image_0032.jpg', 'image_0026.jpg', 'image_0027.jpg', 'image_0033.jpg', 'image_0019.jpg', 'image_0025.jpg', 'image_0031.jpg', 'image_0030.jpg', 'image_0024.jpg', 'image_0018.jpg', 'image_0020.jpg', 'image_0034.jpg', 'image_0008.jpg', 'image_0009.jpg', 'image_0035.jpg', 'image_0021.jpg', 'image_0037.jpg', 'image_0023.jpg', 'image_0022.jpg', 'image_0036.jpg', 'image_0079.jpg', 'image_0051.jpg', 'image_0045.jpg', 'image_0044.jpg', 'image_0050.jpg', 'image_0078.jpg', 'image_0046.jpg', 'image_0052.jpg', 'image_0053.jpg', 'image_0047.jpg', 'image_0043.jpg', 'image_0057.jpg', 'image_0080.jpg', 'image_0081.jpg', 'image_0056.jpg', 'image_0042.jpg', 'image_0054.jpg', 'image_0040.jpg', 'image_0068.jpg', 'image_0082.jpg', 'image_0069.jpg', 'image_0041.jpg', 'image_0055.jpg', 'image_0058.jpg', 'image_0070.jpg', 'image_0064.jpg', 'image_0065.jpg', 'image_0071.jpg', 'image_0059.jpg', 'image_0067.jpg', 'image_0073.jpg', 'image_0072.jpg', 'image_0066.jpg', 'image_0062.jpg', 'image_0076.jpg', 'image_0077.jpg', 'image_0063.jpg', 'image_0075.jpg', 'image_0061.jpg', 'image_0049.jpg', 'image_0048.jpg', 'image_0060.jpg', 'image_0074.jpg', 'image_0013.jpg', 'image_0007.jpg', 'image_0006.jpg', 'image_0012.jpg', 'image_0038.jpg', 'image_0004.jpg', 'image_0010.jpg', 'image_0011.jpg', 'image_0005.jpg', 'image_0039.jpg', 'image_0001.jpg', 'image_0015.jpg', 'image_0029.jpg', 'image_0028.jpg', 'image_0014.jpg', 'image_0016.jpg', 'image_0002.jpg', 'image_0003.jpg', 'image_0017.jpg']\n",
      "ROOT: data/caltech101/lobster\n",
      "DIRECTORIES: []\n",
      "FILE:['image_0032.jpg', 'image_0026.jpg', 'image_0027.jpg', 'image_0033.jpg', 'image_0019.jpg', 'image_0025.jpg', 'image_0031.jpg', 'image_0030.jpg', 'image_0024.jpg', 'image_0018.jpg', 'image_0020.jpg', 'image_0034.jpg', 'image_0008.jpg', 'image_0009.jpg', 'image_0035.jpg', 'image_0021.jpg', 'image_0037.jpg', 'image_0023.jpg', 'image_0022.jpg', 'image_0036.jpg', 'image_0040.jpg', 'image_0041.jpg', 'image_0013.jpg', 'image_0007.jpg', 'image_0006.jpg', 'image_0012.jpg', 'image_0038.jpg', 'image_0004.jpg', 'image_0010.jpg', 'image_0011.jpg', 'image_0005.jpg', 'image_0039.jpg', 'image_0001.jpg', 'image_0015.jpg', 'image_0029.jpg', 'image_0028.jpg', 'image_0014.jpg', 'image_0016.jpg', 'image_0002.jpg', 'image_0003.jpg', 'image_0017.jpg']\n",
      "ROOT: data/caltech101/menorah\n",
      "DIRECTORIES: []\n",
      "FILE:['image_0032.jpg', 'image_0026.jpg', 'image_0027.jpg', 'image_0033.jpg', 'image_0019.jpg', 'image_0025.jpg', 'image_0031.jpg', 'image_0030.jpg', 'image_0024.jpg', 'image_0018.jpg', 'image_0020.jpg', 'image_0034.jpg', 'image_0008.jpg', 'image_0009.jpg', 'image_0035.jpg', 'image_0021.jpg', 'image_0037.jpg', 'image_0023.jpg', 'image_0022.jpg', 'image_0036.jpg', 'image_0079.jpg', 'image_0051.jpg', 'image_0045.jpg', 'image_0086.jpg', 'image_0087.jpg', 'image_0044.jpg', 'image_0050.jpg', 'image_0078.jpg', 'image_0046.jpg', 'image_0052.jpg', 'image_0085.jpg', 'image_0084.jpg', 'image_0053.jpg', 'image_0047.jpg', 'image_0043.jpg', 'image_0057.jpg', 'image_0080.jpg', 'image_0081.jpg', 'image_0056.jpg', 'image_0042.jpg', 'image_0054.jpg', 'image_0040.jpg', 'image_0068.jpg', 'image_0083.jpg', 'image_0082.jpg', 'image_0069.jpg', 'image_0041.jpg', 'image_0055.jpg', 'image_0058.jpg', 'image_0070.jpg', 'image_0064.jpg', 'image_0065.jpg', 'image_0071.jpg', 'image_0059.jpg', 'image_0067.jpg', 'image_0073.jpg', 'image_0072.jpg', 'image_0066.jpg', 'image_0062.jpg', 'image_0076.jpg', 'image_0077.jpg', 'image_0063.jpg', 'image_0075.jpg', 'image_0061.jpg', 'image_0049.jpg', 'image_0048.jpg', 'image_0060.jpg', 'image_0074.jpg', 'image_0013.jpg', 'image_0007.jpg', 'image_0006.jpg', 'image_0012.jpg', 'image_0038.jpg', 'image_0004.jpg', 'image_0010.jpg', 'image_0011.jpg', 'image_0005.jpg', 'image_0039.jpg', 'image_0001.jpg', 'image_0015.jpg', 'image_0029.jpg', 'image_0028.jpg', 'image_0014.jpg', 'image_0016.jpg', 'image_0002.jpg', 'image_0003.jpg', 'image_0017.jpg']\n",
      "ROOT: data/caltech101/lotus\n",
      "DIRECTORIES: []\n",
      "FILE:['image_0032.jpg', 'image_0026.jpg', 'image_0027.jpg', 'image_0033.jpg', 'image_0019.jpg', 'image_0025.jpg', 'image_0031.jpg', 'image_0030.jpg', 'image_0024.jpg', 'image_0018.jpg', 'image_0020.jpg', 'image_0034.jpg', 'image_0008.jpg', 'image_0009.jpg', 'image_0035.jpg', 'image_0021.jpg', 'image_0037.jpg', 'image_0023.jpg', 'image_0022.jpg', 'image_0036.jpg', 'image_0051.jpg', 'image_0045.jpg', 'image_0044.jpg', 'image_0050.jpg', 'image_0046.jpg', 'image_0052.jpg', 'image_0053.jpg', 'image_0047.jpg', 'image_0043.jpg', 'image_0057.jpg', 'image_0056.jpg', 'image_0042.jpg', 'image_0054.jpg', 'image_0040.jpg', 'image_0041.jpg', 'image_0055.jpg', 'image_0058.jpg', 'image_0064.jpg', 'image_0065.jpg', 'image_0059.jpg', 'image_0066.jpg', 'image_0062.jpg', 'image_0063.jpg', 'image_0061.jpg', 'image_0049.jpg', 'image_0048.jpg', 'image_0060.jpg', 'image_0013.jpg', 'image_0007.jpg', 'image_0006.jpg', 'image_0012.jpg', 'image_0038.jpg', 'image_0004.jpg', 'image_0010.jpg', 'image_0011.jpg', 'image_0005.jpg', 'image_0039.jpg', 'image_0001.jpg', 'image_0015.jpg', 'image_0029.jpg', 'image_0028.jpg', 'image_0014.jpg', 'image_0016.jpg', 'image_0002.jpg', 'image_0003.jpg', 'image_0017.jpg']\n",
      "ROOT: data/caltech101/stapler\n",
      "DIRECTORIES: []\n",
      "FILE:['image_0032.jpg', 'image_0026.jpg', 'image_0027.jpg', 'image_0033.jpg', 'image_0019.jpg', 'image_0025.jpg', 'image_0031.jpg', 'image_0030.jpg', 'image_0024.jpg', 'image_0018.jpg', 'image_0020.jpg', 'image_0034.jpg', 'image_0008.jpg', 'image_0009.jpg', 'image_0035.jpg', 'image_0021.jpg', 'image_0037.jpg', 'image_0023.jpg', 'image_0022.jpg', 'image_0036.jpg', 'image_0045.jpg', 'image_0044.jpg', 'image_0043.jpg', 'image_0042.jpg', 'image_0040.jpg', 'image_0041.jpg', 'image_0013.jpg', 'image_0007.jpg', 'image_0006.jpg', 'image_0012.jpg', 'image_0038.jpg', 'image_0004.jpg', 'image_0010.jpg', 'image_0011.jpg', 'image_0005.jpg', 'image_0039.jpg', 'image_0001.jpg', 'image_0015.jpg', 'image_0029.jpg', 'image_0028.jpg', 'image_0014.jpg', 'image_0016.jpg', 'image_0002.jpg', 'image_0003.jpg', 'image_0017.jpg']\n",
      "ROOT: data/caltech101/crocodile\n",
      "DIRECTORIES: []\n",
      "FILE:['image_0032.jpg', 'image_0026.jpg', 'image_0027.jpg', 'image_0033.jpg', 'image_0019.jpg', 'image_0025.jpg', 'image_0031.jpg', 'image_0030.jpg', 'image_0024.jpg', 'image_0018.jpg', 'image_0020.jpg', 'image_0034.jpg', 'image_0008.jpg', 'image_0009.jpg', 'image_0035.jpg', 'image_0021.jpg', 'image_0037.jpg', 'image_0023.jpg', 'image_0022.jpg', 'image_0036.jpg', 'image_0045.jpg', 'image_0044.jpg', 'image_0050.jpg', 'image_0046.jpg', 'image_0047.jpg', 'image_0043.jpg', 'image_0042.jpg', 'image_0040.jpg', 'image_0041.jpg', 'image_0049.jpg', 'image_0048.jpg', 'image_0013.jpg', 'image_0007.jpg', 'image_0006.jpg', 'image_0012.jpg', 'image_0038.jpg', 'image_0004.jpg', 'image_0010.jpg', 'image_0011.jpg', 'image_0005.jpg', 'image_0039.jpg', 'image_0001.jpg', 'image_0015.jpg', 'image_0029.jpg', 'image_0028.jpg', 'image_0014.jpg', 'image_0016.jpg', 'image_0002.jpg', 'image_0003.jpg', 'image_0017.jpg']\n",
      "ROOT: data/caltech101/chair\n",
      "DIRECTORIES: []\n",
      "FILE:['image_0032.jpg', 'image_0026.jpg', 'image_0027.jpg', 'image_0033.jpg', 'image_0019.jpg', 'image_0025.jpg', 'image_0031.jpg', 'image_0030.jpg', 'image_0024.jpg', 'image_0018.jpg', 'image_0020.jpg', 'image_0034.jpg', 'image_0008.jpg', 'image_0009.jpg', 'image_0035.jpg', 'image_0021.jpg', 'image_0037.jpg', 'image_0023.jpg', 'image_0022.jpg', 'image_0036.jpg', 'image_0051.jpg', 'image_0045.jpg', 'image_0044.jpg', 'image_0050.jpg', 'image_0046.jpg', 'image_0052.jpg', 'image_0053.jpg', 'image_0047.jpg', 'image_0043.jpg', 'image_0057.jpg', 'image_0056.jpg', 'image_0042.jpg', 'image_0054.jpg', 'image_0040.jpg', 'image_0041.jpg', 'image_0055.jpg', 'image_0058.jpg', 'image_0059.jpg', 'image_0062.jpg', 'image_0061.jpg', 'image_0049.jpg', 'image_0048.jpg', 'image_0060.jpg', 'image_0013.jpg', 'image_0007.jpg', 'image_0006.jpg', 'image_0012.jpg', 'image_0038.jpg', 'image_0004.jpg', 'image_0010.jpg', 'image_0011.jpg', 'image_0005.jpg', 'image_0039.jpg', 'image_0001.jpg', 'image_0015.jpg', 'image_0029.jpg', 'image_0028.jpg', 'image_0014.jpg', 'image_0016.jpg', 'image_0002.jpg', 'image_0003.jpg', 'image_0017.jpg']\n",
      "ROOT: data/caltech101/helicopter\n",
      "DIRECTORIES: []\n",
      "FILE:['image_0032.jpg', 'image_0026.jpg', 'image_0027.jpg', 'image_0033.jpg', 'image_0019.jpg', 'image_0025.jpg', 'image_0031.jpg', 'image_0030.jpg', 'image_0024.jpg', 'image_0018.jpg', 'image_0020.jpg', 'image_0034.jpg', 'image_0008.jpg', 'image_0009.jpg', 'image_0035.jpg', 'image_0021.jpg', 'image_0037.jpg', 'image_0023.jpg', 'image_0022.jpg', 'image_0036.jpg', 'image_0079.jpg', 'image_0051.jpg', 'image_0045.jpg', 'image_0086.jpg', 'image_0087.jpg', 'image_0044.jpg', 'image_0050.jpg', 'image_0078.jpg', 'image_0046.jpg', 'image_0052.jpg', 'image_0085.jpg', 'image_0084.jpg', 'image_0053.jpg', 'image_0047.jpg', 'image_0043.jpg', 'image_0057.jpg', 'image_0080.jpg', 'image_0081.jpg', 'image_0056.jpg', 'image_0042.jpg', 'image_0054.jpg', 'image_0040.jpg', 'image_0068.jpg', 'image_0083.jpg', 'image_0082.jpg', 'image_0069.jpg', 'image_0041.jpg', 'image_0055.jpg', 'image_0058.jpg', 'image_0070.jpg', 'image_0064.jpg', 'image_0065.jpg', 'image_0071.jpg', 'image_0059.jpg', 'image_0067.jpg', 'image_0073.jpg', 'image_0072.jpg', 'image_0066.jpg', 'image_0062.jpg', 'image_0076.jpg', 'image_0088.jpg', 'image_0077.jpg', 'image_0063.jpg', 'image_0075.jpg', 'image_0061.jpg', 'image_0049.jpg', 'image_0048.jpg', 'image_0060.jpg', 'image_0074.jpg', 'image_0013.jpg', 'image_0007.jpg', 'image_0006.jpg', 'image_0012.jpg', 'image_0038.jpg', 'image_0004.jpg', 'image_0010.jpg', 'image_0011.jpg', 'image_0005.jpg', 'image_0039.jpg', 'image_0001.jpg', 'image_0015.jpg', 'image_0029.jpg', 'image_0028.jpg', 'image_0014.jpg', 'image_0016.jpg', 'image_0002.jpg', 'image_0003.jpg', 'image_0017.jpg']\n",
      "ROOT: data/caltech101/minaret\n",
      "DIRECTORIES: []\n",
      "FILE:['image_0032.jpg', 'image_0026.jpg', 'image_0027.jpg', 'image_0033.jpg', 'image_0019.jpg', 'image_0025.jpg', 'image_0031.jpg', 'image_0030.jpg', 'image_0024.jpg', 'image_0018.jpg', 'image_0020.jpg', 'image_0034.jpg', 'image_0008.jpg', 'image_0009.jpg', 'image_0035.jpg', 'image_0021.jpg', 'image_0037.jpg', 'image_0023.jpg', 'image_0022.jpg', 'image_0036.jpg', 'image_0051.jpg', 'image_0045.jpg', 'image_0044.jpg', 'image_0050.jpg', 'image_0046.jpg', 'image_0052.jpg', 'image_0053.jpg', 'image_0047.jpg', 'image_0043.jpg', 'image_0057.jpg', 'image_0056.jpg', 'image_0042.jpg', 'image_0054.jpg', 'image_0040.jpg', 'image_0068.jpg', 'image_0069.jpg', 'image_0041.jpg', 'image_0055.jpg', 'image_0058.jpg', 'image_0070.jpg', 'image_0064.jpg', 'image_0065.jpg', 'image_0071.jpg', 'image_0059.jpg', 'image_0067.jpg', 'image_0073.jpg', 'image_0072.jpg', 'image_0066.jpg', 'image_0062.jpg', 'image_0076.jpg', 'image_0063.jpg', 'image_0075.jpg', 'image_0061.jpg', 'image_0049.jpg', 'image_0048.jpg', 'image_0060.jpg', 'image_0074.jpg', 'image_0013.jpg', 'image_0007.jpg', 'image_0006.jpg', 'image_0012.jpg', 'image_0038.jpg', 'image_0004.jpg', 'image_0010.jpg', 'image_0011.jpg', 'image_0005.jpg', 'image_0039.jpg', 'image_0001.jpg', 'image_0015.jpg', 'image_0029.jpg', 'image_0028.jpg', 'image_0014.jpg', 'image_0016.jpg', 'image_0002.jpg', 'image_0003.jpg', 'image_0017.jpg']\n",
      "ROOT: data/caltech101/starfish\n",
      "DIRECTORIES: []\n",
      "FILE:['image_0032.jpg', 'image_0026.jpg', 'image_0027.jpg', 'image_0033.jpg', 'image_0019.jpg', 'image_0025.jpg', 'image_0031.jpg', 'image_0030.jpg', 'image_0024.jpg', 'image_0018.jpg', 'image_0020.jpg', 'image_0034.jpg', 'image_0008.jpg', 'image_0009.jpg', 'image_0035.jpg', 'image_0021.jpg', 'image_0037.jpg', 'image_0023.jpg', 'image_0022.jpg', 'image_0036.jpg', 'image_0079.jpg', 'image_0051.jpg', 'image_0045.jpg', 'image_0086.jpg', 'image_0044.jpg', 'image_0050.jpg', 'image_0078.jpg', 'image_0046.jpg', 'image_0052.jpg', 'image_0085.jpg', 'image_0084.jpg', 'image_0053.jpg', 'image_0047.jpg', 'image_0043.jpg', 'image_0057.jpg', 'image_0080.jpg', 'image_0081.jpg', 'image_0056.jpg', 'image_0042.jpg', 'image_0054.jpg', 'image_0040.jpg', 'image_0068.jpg', 'image_0083.jpg', 'image_0082.jpg', 'image_0069.jpg', 'image_0041.jpg', 'image_0055.jpg', 'image_0058.jpg', 'image_0070.jpg', 'image_0064.jpg', 'image_0065.jpg', 'image_0071.jpg', 'image_0059.jpg', 'image_0067.jpg', 'image_0073.jpg', 'image_0072.jpg', 'image_0066.jpg', 'image_0062.jpg', 'image_0076.jpg', 'image_0077.jpg', 'image_0063.jpg', 'image_0075.jpg', 'image_0061.jpg', 'image_0049.jpg', 'image_0048.jpg', 'image_0060.jpg', 'image_0074.jpg', 'image_0013.jpg', 'image_0007.jpg', 'image_0006.jpg', 'image_0012.jpg', 'image_0038.jpg', 'image_0004.jpg', 'image_0010.jpg', 'image_0011.jpg', 'image_0005.jpg', 'image_0039.jpg', 'image_0001.jpg', 'image_0015.jpg', 'image_0029.jpg', 'image_0028.jpg', 'image_0014.jpg', 'image_0016.jpg', 'image_0002.jpg', 'image_0003.jpg', 'image_0017.jpg']\n",
      "ROOT: data/caltech101/ceiling_fan\n",
      "DIRECTORIES: []\n",
      "FILE:['image_0032.jpg', 'image_0026.jpg', 'image_0027.jpg', 'image_0033.jpg', 'image_0019.jpg', 'image_0025.jpg', 'image_0031.jpg', 'image_0030.jpg', 'image_0024.jpg', 'image_0018.jpg', 'image_0020.jpg', 'image_0034.jpg', 'image_0008.jpg', 'image_0009.jpg', 'image_0035.jpg', 'image_0021.jpg', 'image_0037.jpg', 'image_0023.jpg', 'image_0022.jpg', 'image_0036.jpg', 'image_0045.jpg', 'image_0044.jpg', 'image_0046.jpg', 'image_0047.jpg', 'image_0043.jpg', 'image_0042.jpg', 'image_0040.jpg', 'image_0041.jpg', 'image_0013.jpg', 'image_0007.jpg', 'image_0006.jpg', 'image_0012.jpg', 'image_0038.jpg', 'image_0004.jpg', 'image_0010.jpg', 'image_0011.jpg', 'image_0005.jpg', 'image_0039.jpg', 'image_0001.jpg', 'image_0015.jpg', 'image_0029.jpg', 'image_0028.jpg', 'image_0014.jpg', 'image_0016.jpg', 'image_0002.jpg', 'image_0003.jpg', 'image_0017.jpg']\n",
      "ROOT: data/caltech101/ketch\n",
      "DIRECTORIES: []\n",
      "FILE:['image_0032.jpg', 'image_0026.jpg', 'image_0027.jpg', 'image_0033.jpg', 'image_0019.jpg', 'image_0025.jpg', 'image_0031.jpg', 'image_0030.jpg', 'image_0024.jpg', 'image_0018.jpg', 'image_0020.jpg', 'image_0034.jpg', 'image_0008.jpg', 'image_0009.jpg', 'image_0035.jpg', 'image_0021.jpg', 'image_0037.jpg', 'image_0023.jpg', 'image_0022.jpg', 'image_0036.jpg', 'image_0079.jpg', 'image_0051.jpg', 'image_0045.jpg', 'image_0092.jpg', 'image_0086.jpg', 'image_0087.jpg', 'image_0093.jpg', 'image_0044.jpg', 'image_0050.jpg', 'image_0078.jpg', 'image_0046.jpg', 'image_0052.jpg', 'image_0085.jpg', 'image_0091.jpg', 'image_0090.jpg', 'image_0084.jpg', 'image_0053.jpg', 'image_0047.jpg', 'image_0043.jpg', 'image_0057.jpg', 'image_0080.jpg', 'image_0094.jpg', 'image_0095.jpg', 'image_0081.jpg', 'image_0056.jpg', 'image_0042.jpg', 'image_0108.jpg', 'image_0054.jpg', 'image_0040.jpg', 'image_0068.jpg', 'image_0097.jpg', 'image_0083.jpg', 'image_0082.jpg', 'image_0096.jpg', 'image_0069.jpg', 'image_0041.jpg', 'image_0055.jpg', 'image_0109.jpg', 'image_0104.jpg', 'image_0110.jpg', 'image_0058.jpg', 'image_0070.jpg', 'image_0064.jpg', 'image_0065.jpg', 'image_0071.jpg', 'image_0059.jpg', 'image_0111.jpg', 'image_0105.jpg', 'image_0113.jpg', 'image_0107.jpg', 'image_0067.jpg', 'image_0073.jpg', 'image_0098.jpg', 'image_0099.jpg', 'image_0072.jpg', 'image_0066.jpg', 'image_0106.jpg', 'image_0112.jpg', 'image_0102.jpg', 'image_0062.jpg', 'image_0076.jpg', 'image_0089.jpg', 'image_0088.jpg', 'image_0077.jpg', 'image_0063.jpg', 'image_0103.jpg', 'image_0101.jpg', 'image_0075.jpg', 'image_0061.jpg', 'image_0049.jpg', 'image_0048.jpg', 'image_0060.jpg', 'image_0074.jpg', 'image_0114.jpg', 'image_0100.jpg', 'image_0013.jpg', 'image_0007.jpg', 'image_0006.jpg', 'image_0012.jpg', 'image_0038.jpg', 'image_0004.jpg', 'image_0010.jpg', 'image_0011.jpg', 'image_0005.jpg', 'image_0039.jpg', 'image_0001.jpg', 'image_0015.jpg', 'image_0029.jpg', 'image_0028.jpg', 'image_0014.jpg', 'image_0016.jpg', 'image_0002.jpg', 'image_0003.jpg', 'image_0017.jpg']\n",
      "ROOT: data/caltech101/mayfly\n",
      "DIRECTORIES: []\n",
      "FILE:['image_0032.jpg', 'image_0026.jpg', 'image_0027.jpg', 'image_0033.jpg', 'image_0019.jpg', 'image_0025.jpg', 'image_0031.jpg', 'image_0030.jpg', 'image_0024.jpg', 'image_0018.jpg', 'image_0020.jpg', 'image_0034.jpg', 'image_0008.jpg', 'image_0009.jpg', 'image_0035.jpg', 'image_0021.jpg', 'image_0037.jpg', 'image_0023.jpg', 'image_0022.jpg', 'image_0036.jpg', 'image_0040.jpg', 'image_0013.jpg', 'image_0007.jpg', 'image_0006.jpg', 'image_0012.jpg', 'image_0038.jpg', 'image_0004.jpg', 'image_0010.jpg', 'image_0011.jpg', 'image_0005.jpg', 'image_0039.jpg', 'image_0001.jpg', 'image_0015.jpg', 'image_0029.jpg', 'image_0028.jpg', 'image_0014.jpg', 'image_0016.jpg', 'image_0002.jpg', 'image_0003.jpg', 'image_0017.jpg']\n",
      "ROOT: data/caltech101/wheelchair\n",
      "DIRECTORIES: []\n",
      "FILE:['image_0032.jpg', 'image_0026.jpg', 'image_0027.jpg', 'image_0033.jpg', 'image_0019.jpg', 'image_0025.jpg', 'image_0031.jpg', 'image_0030.jpg', 'image_0024.jpg', 'image_0018.jpg', 'image_0020.jpg', 'image_0034.jpg', 'image_0008.jpg', 'image_0009.jpg', 'image_0035.jpg', 'image_0021.jpg', 'image_0037.jpg', 'image_0023.jpg', 'image_0022.jpg', 'image_0036.jpg', 'image_0051.jpg', 'image_0045.jpg', 'image_0044.jpg', 'image_0050.jpg', 'image_0046.jpg', 'image_0052.jpg', 'image_0053.jpg', 'image_0047.jpg', 'image_0043.jpg', 'image_0057.jpg', 'image_0056.jpg', 'image_0042.jpg', 'image_0054.jpg', 'image_0040.jpg', 'image_0041.jpg', 'image_0055.jpg', 'image_0058.jpg', 'image_0059.jpg', 'image_0049.jpg', 'image_0048.jpg', 'image_0013.jpg', 'image_0007.jpg', 'image_0006.jpg', 'image_0012.jpg', 'image_0038.jpg', 'image_0004.jpg', 'image_0010.jpg', 'image_0011.jpg', 'image_0005.jpg', 'image_0039.jpg', 'image_0001.jpg', 'image_0015.jpg', 'image_0029.jpg', 'image_0028.jpg', 'image_0014.jpg', 'image_0016.jpg', 'image_0002.jpg', 'image_0003.jpg', 'image_0017.jpg']\n",
      "ROOT: data/caltech101/bass\n",
      "DIRECTORIES: []\n",
      "FILE:['image_0032.jpg', 'image_0026.jpg', 'image_0027.jpg', 'image_0033.jpg', 'image_0019.jpg', 'image_0025.jpg', 'image_0031.jpg', 'image_0030.jpg', 'image_0024.jpg', 'image_0018.jpg', 'image_0020.jpg', 'image_0034.jpg', 'image_0008.jpg', 'image_0009.jpg', 'image_0035.jpg', 'image_0021.jpg', 'image_0037.jpg', 'image_0023.jpg', 'image_0022.jpg', 'image_0036.jpg', 'image_0051.jpg', 'image_0045.jpg', 'image_0044.jpg', 'image_0050.jpg', 'image_0046.jpg', 'image_0052.jpg', 'image_0053.jpg', 'image_0047.jpg', 'image_0043.jpg', 'image_0042.jpg', 'image_0054.jpg', 'image_0040.jpg', 'image_0041.jpg', 'image_0049.jpg', 'image_0048.jpg', 'image_0013.jpg', 'image_0007.jpg', 'image_0006.jpg', 'image_0012.jpg', 'image_0038.jpg', 'image_0004.jpg', 'image_0010.jpg', 'image_0011.jpg', 'image_0005.jpg', 'image_0039.jpg', 'image_0001.jpg', 'image_0015.jpg', 'image_0029.jpg', 'image_0028.jpg', 'image_0014.jpg', 'image_0016.jpg', 'image_0002.jpg', 'image_0003.jpg', 'image_0017.jpg']\n",
      "ROOT: data/caltech101/yin_yang\n",
      "DIRECTORIES: []\n",
      "FILE:['image_0032.jpg', 'image_0026.jpg', 'image_0027.jpg', 'image_0033.jpg', 'image_0019.jpg', 'image_0025.jpg', 'image_0031.jpg', 'image_0030.jpg', 'image_0024.jpg', 'image_0018.jpg', 'image_0020.jpg', 'image_0034.jpg', 'image_0008.jpg', 'image_0009.jpg', 'image_0035.jpg', 'image_0021.jpg', 'image_0037.jpg', 'image_0023.jpg', 'image_0022.jpg', 'image_0036.jpg', 'image_0051.jpg', 'image_0045.jpg', 'image_0044.jpg', 'image_0050.jpg', 'image_0046.jpg', 'image_0052.jpg', 'image_0053.jpg', 'image_0047.jpg', 'image_0043.jpg', 'image_0057.jpg', 'image_0056.jpg', 'image_0042.jpg', 'image_0054.jpg', 'image_0040.jpg', 'image_0041.jpg', 'image_0055.jpg', 'image_0058.jpg', 'image_0059.jpg', 'image_0049.jpg', 'image_0048.jpg', 'image_0060.jpg', 'image_0013.jpg', 'image_0007.jpg', 'image_0006.jpg', 'image_0012.jpg', 'image_0038.jpg', 'image_0004.jpg', 'image_0010.jpg', 'image_0011.jpg', 'image_0005.jpg', 'image_0039.jpg', 'image_0001.jpg', 'image_0015.jpg', 'image_0029.jpg', 'image_0028.jpg', 'image_0014.jpg', 'image_0016.jpg', 'image_0002.jpg', 'image_0003.jpg', 'image_0017.jpg']\n",
      "ROOT: data/caltech101/crocodile_head\n",
      "DIRECTORIES: []\n",
      "FILE:['image_0032.jpg', 'image_0026.jpg', 'image_0027.jpg', 'image_0033.jpg', 'image_0019.jpg', 'image_0025.jpg', 'image_0031.jpg', 'image_0030.jpg', 'image_0024.jpg', 'image_0018.jpg', 'image_0020.jpg', 'image_0034.jpg', 'image_0008.jpg', 'image_0009.jpg', 'image_0035.jpg', 'image_0021.jpg', 'image_0037.jpg', 'image_0023.jpg', 'image_0022.jpg', 'image_0036.jpg', 'image_0051.jpg', 'image_0045.jpg', 'image_0044.jpg', 'image_0050.jpg', 'image_0046.jpg', 'image_0047.jpg', 'image_0043.jpg', 'image_0042.jpg', 'image_0040.jpg', 'image_0041.jpg', 'image_0049.jpg', 'image_0048.jpg', 'image_0013.jpg', 'image_0007.jpg', 'image_0006.jpg', 'image_0012.jpg', 'image_0038.jpg', 'image_0004.jpg', 'image_0010.jpg', 'image_0011.jpg', 'image_0005.jpg', 'image_0039.jpg', 'image_0001.jpg', 'image_0015.jpg', 'image_0029.jpg', 'image_0028.jpg', 'image_0014.jpg', 'image_0016.jpg', 'image_0002.jpg', 'image_0003.jpg', 'image_0017.jpg']\n",
      "ROOT: data/caltech101/saxophone\n",
      "DIRECTORIES: []\n",
      "FILE:['image_0032.jpg', 'image_0026.jpg', 'image_0027.jpg', 'image_0033.jpg', 'image_0019.jpg', 'image_0025.jpg', 'image_0031.jpg', 'image_0030.jpg', 'image_0024.jpg', 'image_0018.jpg', 'image_0020.jpg', 'image_0034.jpg', 'image_0008.jpg', 'image_0009.jpg', 'image_0035.jpg', 'image_0021.jpg', 'image_0037.jpg', 'image_0023.jpg', 'image_0022.jpg', 'image_0036.jpg', 'image_0040.jpg', 'image_0013.jpg', 'image_0007.jpg', 'image_0006.jpg', 'image_0012.jpg', 'image_0038.jpg', 'image_0004.jpg', 'image_0010.jpg', 'image_0011.jpg', 'image_0005.jpg', 'image_0039.jpg', 'image_0001.jpg', 'image_0015.jpg', 'image_0029.jpg', 'image_0028.jpg', 'image_0014.jpg', 'image_0016.jpg', 'image_0002.jpg', 'image_0003.jpg', 'image_0017.jpg']\n",
      "ROOT: data/caltech101/beaver\n",
      "DIRECTORIES: []\n",
      "FILE:['image_0032.jpg', 'image_0026.jpg', 'image_0027.jpg', 'image_0033.jpg', 'image_0019.jpg', 'image_0025.jpg', 'image_0031.jpg', 'image_0030.jpg', 'image_0024.jpg', 'image_0018.jpg', 'image_0020.jpg', 'image_0034.jpg', 'image_0008.jpg', 'image_0009.jpg', 'image_0035.jpg', 'image_0021.jpg', 'image_0037.jpg', 'image_0023.jpg', 'image_0022.jpg', 'image_0036.jpg', 'image_0045.jpg', 'image_0044.jpg', 'image_0046.jpg', 'image_0043.jpg', 'image_0042.jpg', 'image_0040.jpg', 'image_0041.jpg', 'image_0013.jpg', 'image_0007.jpg', 'image_0006.jpg', 'image_0012.jpg', 'image_0038.jpg', 'image_0004.jpg', 'image_0010.jpg', 'image_0011.jpg', 'image_0005.jpg', 'image_0039.jpg', 'image_0001.jpg', 'image_0015.jpg', 'image_0029.jpg', 'image_0028.jpg', 'image_0014.jpg', 'image_0016.jpg', 'image_0002.jpg', 'image_0003.jpg', 'image_0017.jpg']\n",
      "ROOT: data/caltech101/mandolin\n",
      "DIRECTORIES: []\n",
      "FILE:['image_0032.jpg', 'image_0026.jpg', 'image_0027.jpg', 'image_0033.jpg', 'image_0019.jpg', 'image_0025.jpg', 'image_0031.jpg', 'image_0030.jpg', 'image_0024.jpg', 'image_0018.jpg', 'image_0020.jpg', 'image_0034.jpg', 'image_0008.jpg', 'image_0009.jpg', 'image_0035.jpg', 'image_0021.jpg', 'image_0037.jpg', 'image_0023.jpg', 'image_0022.jpg', 'image_0036.jpg', 'image_0043.jpg', 'image_0042.jpg', 'image_0040.jpg', 'image_0041.jpg', 'image_0013.jpg', 'image_0007.jpg', 'image_0006.jpg', 'image_0012.jpg', 'image_0038.jpg', 'image_0004.jpg', 'image_0010.jpg', 'image_0011.jpg', 'image_0005.jpg', 'image_0039.jpg', 'image_0001.jpg', 'image_0015.jpg', 'image_0029.jpg', 'image_0028.jpg', 'image_0014.jpg', 'image_0016.jpg', 'image_0002.jpg', 'image_0003.jpg', 'image_0017.jpg']\n",
      "ROOT: data/caltech101/bonsai\n",
      "DIRECTORIES: []\n",
      "FILE:['image_0032.jpg', 'image_0026.jpg', 'image_0027.jpg', 'image_0033.jpg', 'image_0019.jpg', 'image_0025.jpg', 'image_0031.jpg', 'image_0030.jpg', 'image_0024.jpg', 'image_0018.jpg', 'image_0020.jpg', 'image_0034.jpg', 'image_0008.jpg', 'image_0009.jpg', 'image_0035.jpg', 'image_0021.jpg', 'image_0037.jpg', 'image_0023.jpg', 'image_0022.jpg', 'image_0036.jpg', 'image_0119.jpg', 'image_0125.jpg', 'image_0079.jpg', 'image_0051.jpg', 'image_0045.jpg', 'image_0092.jpg', 'image_0086.jpg', 'image_0087.jpg', 'image_0093.jpg', 'image_0044.jpg', 'image_0050.jpg', 'image_0078.jpg', 'image_0124.jpg', 'image_0118.jpg', 'image_0126.jpg', 'image_0046.jpg', 'image_0052.jpg', 'image_0085.jpg', 'image_0091.jpg', 'image_0090.jpg', 'image_0084.jpg', 'image_0053.jpg', 'image_0047.jpg', 'image_0127.jpg', 'image_0123.jpg', 'image_0043.jpg', 'image_0057.jpg', 'image_0080.jpg', 'image_0094.jpg', 'image_0095.jpg', 'image_0081.jpg', 'image_0056.jpg', 'image_0042.jpg', 'image_0122.jpg', 'image_0120.jpg', 'image_0108.jpg', 'image_0054.jpg', 'image_0040.jpg', 'image_0068.jpg', 'image_0097.jpg', 'image_0083.jpg', 'image_0082.jpg', 'image_0096.jpg', 'image_0069.jpg', 'image_0041.jpg', 'image_0055.jpg', 'image_0109.jpg', 'image_0121.jpg', 'image_0104.jpg', 'image_0110.jpg', 'image_0058.jpg', 'image_0070.jpg', 'image_0064.jpg', 'image_0065.jpg', 'image_0071.jpg', 'image_0059.jpg', 'image_0111.jpg', 'image_0105.jpg', 'image_0113.jpg', 'image_0107.jpg', 'image_0067.jpg', 'image_0073.jpg', 'image_0098.jpg', 'image_0099.jpg', 'image_0072.jpg', 'image_0066.jpg', 'image_0106.jpg', 'image_0112.jpg', 'image_0116.jpg', 'image_0102.jpg', 'image_0062.jpg', 'image_0076.jpg', 'image_0089.jpg', 'image_0088.jpg', 'image_0077.jpg', 'image_0063.jpg', 'image_0103.jpg', 'image_0117.jpg', 'image_0101.jpg', 'image_0115.jpg', 'image_0075.jpg', 'image_0061.jpg', 'image_0049.jpg', 'image_0048.jpg', 'image_0060.jpg', 'image_0074.jpg', 'image_0128.jpg', 'image_0114.jpg', 'image_0100.jpg', 'image_0013.jpg', 'image_0007.jpg', 'image_0006.jpg', 'image_0012.jpg', 'image_0038.jpg', 'image_0004.jpg', 'image_0010.jpg', 'image_0011.jpg', 'image_0005.jpg', 'image_0039.jpg', 'image_0001.jpg', 'image_0015.jpg', 'image_0029.jpg', 'image_0028.jpg', 'image_0014.jpg', 'image_0016.jpg', 'image_0002.jpg', 'image_0003.jpg', 'image_0017.jpg']\n",
      "ROOT: data/caltech101/Leopards\n",
      "DIRECTORIES: []\n",
      "FILE:['image_0146.jpg', 'image_0152.jpg', 'image_0185.jpg', 'image_0191.jpg', 'image_0032.jpg', 'image_0026.jpg', 'image_0027.jpg', 'image_0033.jpg', 'image_0190.jpg', 'image_0184.jpg', 'image_0153.jpg', 'image_0147.jpg', 'image_0179.jpg', 'image_0151.jpg', 'image_0145.jpg', 'image_0192.jpg', 'image_0186.jpg', 'image_0019.jpg', 'image_0025.jpg', 'image_0031.jpg', 'image_0030.jpg', 'image_0024.jpg', 'image_0018.jpg', 'image_0187.jpg', 'image_0193.jpg', 'image_0144.jpg', 'image_0150.jpg', 'image_0178.jpg', 'image_0154.jpg', 'image_0140.jpg', 'image_0168.jpg', 'image_0197.jpg', 'image_0183.jpg', 'image_0020.jpg', 'image_0034.jpg', 'image_0008.jpg', 'image_0009.jpg', 'image_0035.jpg', 'image_0021.jpg', 'image_0182.jpg', 'image_0196.jpg', 'image_0169.jpg', 'image_0141.jpg', 'image_0155.jpg', 'image_0143.jpg', 'image_0157.jpg', 'image_0180.jpg', 'image_0194.jpg', 'image_0037.jpg', 'image_0023.jpg', 'image_0022.jpg', 'image_0036.jpg', 'image_0195.jpg', 'image_0181.jpg', 'image_0156.jpg', 'image_0142.jpg', 'image_0119.jpg', 'image_0125.jpg', 'image_0131.jpg', 'image_0079.jpg', 'image_0051.jpg', 'image_0045.jpg', 'image_0092.jpg', 'image_0086.jpg', 'image_0087.jpg', 'image_0093.jpg', 'image_0044.jpg', 'image_0050.jpg', 'image_0078.jpg', 'image_0130.jpg', 'image_0124.jpg', 'image_0118.jpg', 'image_0132.jpg', 'image_0126.jpg', 'image_0046.jpg', 'image_0052.jpg', 'image_0085.jpg', 'image_0091.jpg', 'image_0090.jpg', 'image_0084.jpg', 'image_0053.jpg', 'image_0047.jpg', 'image_0127.jpg', 'image_0133.jpg', 'image_0137.jpg', 'image_0123.jpg', 'image_0043.jpg', 'image_0057.jpg', 'image_0080.jpg', 'image_0094.jpg', 'image_0095.jpg', 'image_0081.jpg', 'image_0056.jpg', 'image_0042.jpg', 'image_0122.jpg', 'image_0136.jpg', 'image_0120.jpg', 'image_0134.jpg', 'image_0108.jpg', 'image_0054.jpg', 'image_0040.jpg', 'image_0068.jpg', 'image_0097.jpg', 'image_0083.jpg', 'image_0082.jpg', 'image_0096.jpg', 'image_0069.jpg', 'image_0041.jpg', 'image_0055.jpg', 'image_0109.jpg', 'image_0135.jpg', 'image_0121.jpg', 'image_0138.jpg', 'image_0104.jpg', 'image_0110.jpg', 'image_0058.jpg', 'image_0070.jpg', 'image_0064.jpg', 'image_0065.jpg', 'image_0071.jpg', 'image_0059.jpg', 'image_0111.jpg', 'image_0105.jpg', 'image_0139.jpg', 'image_0113.jpg', 'image_0107.jpg', 'image_0067.jpg', 'image_0073.jpg', 'image_0098.jpg', 'image_0099.jpg', 'image_0072.jpg', 'image_0066.jpg', 'image_0106.jpg', 'image_0112.jpg', 'image_0116.jpg', 'image_0102.jpg', 'image_0062.jpg', 'image_0076.jpg', 'image_0089.jpg', 'image_0088.jpg', 'image_0077.jpg', 'image_0063.jpg', 'image_0103.jpg', 'image_0117.jpg', 'image_0101.jpg', 'image_0115.jpg', 'image_0129.jpg', 'image_0075.jpg', 'image_0061.jpg', 'image_0049.jpg', 'image_0048.jpg', 'image_0060.jpg', 'image_0074.jpg', 'image_0128.jpg', 'image_0114.jpg', 'image_0100.jpg', 'image_0167.jpg', 'image_0173.jpg', 'image_0198.jpg', 'image_0013.jpg', 'image_0007.jpg', 'image_0006.jpg', 'image_0012.jpg', 'image_0199.jpg', 'image_0172.jpg', 'image_0166.jpg', 'image_0158.jpg', 'image_0170.jpg', 'image_0164.jpg', 'image_0038.jpg', 'image_0004.jpg', 'image_0010.jpg', 'image_0011.jpg', 'image_0005.jpg', 'image_0039.jpg', 'image_0165.jpg', 'image_0171.jpg', 'image_0159.jpg', 'image_0175.jpg', 'image_0161.jpg', 'image_0149.jpg', 'image_0001.jpg', 'image_0015.jpg', 'image_0029.jpg', 'image_0028.jpg', 'image_0014.jpg', 'image_0148.jpg', 'image_0160.jpg', 'image_0174.jpg', 'image_0162.jpg', 'image_0176.jpg', 'image_0189.jpg', 'image_0200.jpg', 'image_0016.jpg', 'image_0002.jpg', 'image_0003.jpg', 'image_0017.jpg', 'image_0188.jpg', 'image_0177.jpg', 'image_0163.jpg']\n",
      "ROOT: data/caltech101/car_side\n",
      "DIRECTORIES: []\n",
      "FILE:['image_0032.jpg', 'image_0026.jpg', 'image_0027.jpg', 'image_0033.jpg', 'image_0019.jpg', 'image_0025.jpg', 'image_0031.jpg', 'image_0030.jpg', 'image_0024.jpg', 'image_0018.jpg', 'image_0020.jpg', 'image_0034.jpg', 'image_0008.jpg', 'image_0009.jpg', 'image_0035.jpg', 'image_0021.jpg', 'image_0037.jpg', 'image_0023.jpg', 'image_0022.jpg', 'image_0036.jpg', 'image_0119.jpg', 'image_0079.jpg', 'image_0051.jpg', 'image_0045.jpg', 'image_0092.jpg', 'image_0086.jpg', 'image_0087.jpg', 'image_0093.jpg', 'image_0044.jpg', 'image_0050.jpg', 'image_0078.jpg', 'image_0118.jpg', 'image_0046.jpg', 'image_0052.jpg', 'image_0085.jpg', 'image_0091.jpg', 'image_0090.jpg', 'image_0084.jpg', 'image_0053.jpg', 'image_0047.jpg', 'image_0123.jpg', 'image_0043.jpg', 'image_0057.jpg', 'image_0080.jpg', 'image_0094.jpg', 'image_0095.jpg', 'image_0081.jpg', 'image_0056.jpg', 'image_0042.jpg', 'image_0122.jpg', 'image_0120.jpg', 'image_0108.jpg', 'image_0054.jpg', 'image_0040.jpg', 'image_0068.jpg', 'image_0097.jpg', 'image_0083.jpg', 'image_0082.jpg', 'image_0096.jpg', 'image_0069.jpg', 'image_0041.jpg', 'image_0055.jpg', 'image_0109.jpg', 'image_0121.jpg', 'image_0104.jpg', 'image_0110.jpg', 'image_0058.jpg', 'image_0070.jpg', 'image_0064.jpg', 'image_0065.jpg', 'image_0071.jpg', 'image_0059.jpg', 'image_0111.jpg', 'image_0105.jpg', 'image_0113.jpg', 'image_0107.jpg', 'image_0067.jpg', 'image_0073.jpg', 'image_0098.jpg', 'image_0099.jpg', 'image_0072.jpg', 'image_0066.jpg', 'image_0106.jpg', 'image_0112.jpg', 'image_0116.jpg', 'image_0102.jpg', 'image_0062.jpg', 'image_0076.jpg', 'image_0089.jpg', 'image_0088.jpg', 'image_0077.jpg', 'image_0063.jpg', 'image_0103.jpg', 'image_0117.jpg', 'image_0101.jpg', 'image_0115.jpg', 'image_0075.jpg', 'image_0061.jpg', 'image_0049.jpg', 'image_0048.jpg', 'image_0060.jpg', 'image_0074.jpg', 'image_0114.jpg', 'image_0100.jpg', 'image_0013.jpg', 'image_0007.jpg', 'image_0006.jpg', 'image_0012.jpg', 'image_0038.jpg', 'image_0004.jpg', 'image_0010.jpg', 'image_0011.jpg', 'image_0005.jpg', 'image_0039.jpg', 'image_0001.jpg', 'image_0015.jpg', 'image_0029.jpg', 'image_0028.jpg', 'image_0014.jpg', 'image_0016.jpg', 'image_0002.jpg', 'image_0003.jpg', 'image_0017.jpg']\n",
      "ROOT: data/caltech101/ibis\n",
      "DIRECTORIES: []\n",
      "FILE:['image_0032.jpg', 'image_0026.jpg', 'image_0027.jpg', 'image_0033.jpg', 'image_0019.jpg', 'image_0025.jpg', 'image_0031.jpg', 'image_0030.jpg', 'image_0024.jpg', 'image_0018.jpg', 'image_0020.jpg', 'image_0034.jpg', 'image_0008.jpg', 'image_0009.jpg', 'image_0035.jpg', 'image_0021.jpg', 'image_0037.jpg', 'image_0023.jpg', 'image_0022.jpg', 'image_0036.jpg', 'image_0079.jpg', 'image_0051.jpg', 'image_0045.jpg', 'image_0044.jpg', 'image_0050.jpg', 'image_0078.jpg', 'image_0046.jpg', 'image_0052.jpg', 'image_0053.jpg', 'image_0047.jpg', 'image_0043.jpg', 'image_0057.jpg', 'image_0080.jpg', 'image_0056.jpg', 'image_0042.jpg', 'image_0054.jpg', 'image_0040.jpg', 'image_0068.jpg', 'image_0069.jpg', 'image_0041.jpg', 'image_0055.jpg', 'image_0058.jpg', 'image_0070.jpg', 'image_0064.jpg', 'image_0065.jpg', 'image_0071.jpg', 'image_0059.jpg', 'image_0067.jpg', 'image_0073.jpg', 'image_0072.jpg', 'image_0066.jpg', 'image_0062.jpg', 'image_0076.jpg', 'image_0077.jpg', 'image_0063.jpg', 'image_0075.jpg', 'image_0061.jpg', 'image_0049.jpg', 'image_0048.jpg', 'image_0060.jpg', 'image_0074.jpg', 'image_0013.jpg', 'image_0007.jpg', 'image_0006.jpg', 'image_0012.jpg', 'image_0038.jpg', 'image_0004.jpg', 'image_0010.jpg', 'image_0011.jpg', 'image_0005.jpg', 'image_0039.jpg', 'image_0001.jpg', 'image_0015.jpg', 'image_0029.jpg', 'image_0028.jpg', 'image_0014.jpg', 'image_0016.jpg', 'image_0002.jpg', 'image_0003.jpg', 'image_0017.jpg']\n",
      "ROOT: data/caltech101/electric_guitar\n",
      "DIRECTORIES: []\n",
      "FILE:['image_0032.jpg', 'image_0026.jpg', 'image_0027.jpg', 'image_0033.jpg', 'image_0019.jpg', 'image_0025.jpg', 'image_0031.jpg', 'image_0030.jpg', 'image_0024.jpg', 'image_0018.jpg', 'image_0020.jpg', 'image_0034.jpg', 'image_0008.jpg', 'image_0009.jpg', 'image_0035.jpg', 'image_0021.jpg', 'image_0037.jpg', 'image_0023.jpg', 'image_0022.jpg', 'image_0036.jpg', 'image_0051.jpg', 'image_0045.jpg', 'image_0044.jpg', 'image_0050.jpg', 'image_0046.jpg', 'image_0052.jpg', 'image_0053.jpg', 'image_0047.jpg', 'image_0043.jpg', 'image_0057.jpg', 'image_0056.jpg', 'image_0042.jpg', 'image_0054.jpg', 'image_0040.jpg', 'image_0068.jpg', 'image_0069.jpg', 'image_0041.jpg', 'image_0055.jpg', 'image_0058.jpg', 'image_0070.jpg', 'image_0064.jpg', 'image_0065.jpg', 'image_0071.jpg', 'image_0059.jpg', 'image_0067.jpg', 'image_0073.jpg', 'image_0072.jpg', 'image_0066.jpg', 'image_0062.jpg', 'image_0063.jpg', 'image_0075.jpg', 'image_0061.jpg', 'image_0049.jpg', 'image_0048.jpg', 'image_0060.jpg', 'image_0074.jpg', 'image_0013.jpg', 'image_0007.jpg', 'image_0006.jpg', 'image_0012.jpg', 'image_0038.jpg', 'image_0004.jpg', 'image_0010.jpg', 'image_0011.jpg', 'image_0005.jpg', 'image_0039.jpg', 'image_0001.jpg', 'image_0015.jpg', 'image_0029.jpg', 'image_0028.jpg', 'image_0014.jpg', 'image_0016.jpg', 'image_0002.jpg', 'image_0003.jpg', 'image_0017.jpg']\n",
      "ROOT: data/caltech101/kangaroo\n",
      "DIRECTORIES: []\n",
      "FILE:['image_0032.jpg', 'image_0026.jpg', 'image_0027.jpg', 'image_0033.jpg', 'image_0019.jpg', 'image_0025.jpg', 'image_0031.jpg', 'image_0030.jpg', 'image_0024.jpg', 'image_0018.jpg', 'image_0020.jpg', 'image_0034.jpg', 'image_0008.jpg', 'image_0009.jpg', 'image_0035.jpg', 'image_0021.jpg', 'image_0037.jpg', 'image_0023.jpg', 'image_0022.jpg', 'image_0036.jpg', 'image_0079.jpg', 'image_0051.jpg', 'image_0045.jpg', 'image_0086.jpg', 'image_0044.jpg', 'image_0050.jpg', 'image_0078.jpg', 'image_0046.jpg', 'image_0052.jpg', 'image_0085.jpg', 'image_0084.jpg', 'image_0053.jpg', 'image_0047.jpg', 'image_0043.jpg', 'image_0057.jpg', 'image_0080.jpg', 'image_0081.jpg', 'image_0056.jpg', 'image_0042.jpg', 'image_0054.jpg', 'image_0040.jpg', 'image_0068.jpg', 'image_0083.jpg', 'image_0082.jpg', 'image_0069.jpg', 'image_0041.jpg', 'image_0055.jpg', 'image_0058.jpg', 'image_0070.jpg', 'image_0064.jpg', 'image_0065.jpg', 'image_0071.jpg', 'image_0059.jpg', 'image_0067.jpg', 'image_0073.jpg', 'image_0072.jpg', 'image_0066.jpg', 'image_0062.jpg', 'image_0076.jpg', 'image_0077.jpg', 'image_0063.jpg', 'image_0075.jpg', 'image_0061.jpg', 'image_0049.jpg', 'image_0048.jpg', 'image_0060.jpg', 'image_0074.jpg', 'image_0013.jpg', 'image_0007.jpg', 'image_0006.jpg', 'image_0012.jpg', 'image_0038.jpg', 'image_0004.jpg', 'image_0010.jpg', 'image_0011.jpg', 'image_0005.jpg', 'image_0039.jpg', 'image_0001.jpg', 'image_0015.jpg', 'image_0029.jpg', 'image_0028.jpg', 'image_0014.jpg', 'image_0016.jpg', 'image_0002.jpg', 'image_0003.jpg', 'image_0017.jpg']\n",
      "ROOT: data/caltech101/stegosaurus\n",
      "DIRECTORIES: []\n",
      "FILE:['image_0032.jpg', 'image_0026.jpg', 'image_0027.jpg', 'image_0033.jpg', 'image_0019.jpg', 'image_0025.jpg', 'image_0031.jpg', 'image_0030.jpg', 'image_0024.jpg', 'image_0018.jpg', 'image_0020.jpg', 'image_0034.jpg', 'image_0008.jpg', 'image_0009.jpg', 'image_0035.jpg', 'image_0021.jpg', 'image_0037.jpg', 'image_0023.jpg', 'image_0022.jpg', 'image_0036.jpg', 'image_0051.jpg', 'image_0045.jpg', 'image_0044.jpg', 'image_0050.jpg', 'image_0046.jpg', 'image_0052.jpg', 'image_0053.jpg', 'image_0047.jpg', 'image_0043.jpg', 'image_0057.jpg', 'image_0056.jpg', 'image_0042.jpg', 'image_0054.jpg', 'image_0040.jpg', 'image_0041.jpg', 'image_0055.jpg', 'image_0058.jpg', 'image_0059.jpg', 'image_0049.jpg', 'image_0048.jpg', 'image_0013.jpg', 'image_0007.jpg', 'image_0006.jpg', 'image_0012.jpg', 'image_0038.jpg', 'image_0004.jpg', 'image_0010.jpg', 'image_0011.jpg', 'image_0005.jpg', 'image_0039.jpg', 'image_0001.jpg', 'image_0015.jpg', 'image_0029.jpg', 'image_0028.jpg', 'image_0014.jpg', 'image_0016.jpg', 'image_0002.jpg', 'image_0003.jpg', 'image_0017.jpg']\n",
      "ROOT: data/caltech101/ferry\n",
      "DIRECTORIES: []\n",
      "FILE:['image_0032.jpg', 'image_0026.jpg', 'image_0027.jpg', 'image_0033.jpg', 'image_0019.jpg', 'image_0025.jpg', 'image_0031.jpg', 'image_0030.jpg', 'image_0024.jpg', 'image_0018.jpg', 'image_0020.jpg', 'image_0034.jpg', 'image_0008.jpg', 'image_0009.jpg', 'image_0035.jpg', 'image_0021.jpg', 'image_0037.jpg', 'image_0023.jpg', 'image_0022.jpg', 'image_0036.jpg', 'image_0051.jpg', 'image_0045.jpg', 'image_0044.jpg', 'image_0050.jpg', 'image_0046.jpg', 'image_0052.jpg', 'image_0053.jpg', 'image_0047.jpg', 'image_0043.jpg', 'image_0057.jpg', 'image_0056.jpg', 'image_0042.jpg', 'image_0054.jpg', 'image_0040.jpg', 'image_0041.jpg', 'image_0055.jpg', 'image_0058.jpg', 'image_0064.jpg', 'image_0065.jpg', 'image_0059.jpg', 'image_0067.jpg', 'image_0066.jpg', 'image_0062.jpg', 'image_0063.jpg', 'image_0061.jpg', 'image_0049.jpg', 'image_0048.jpg', 'image_0060.jpg', 'image_0013.jpg', 'image_0007.jpg', 'image_0006.jpg', 'image_0012.jpg', 'image_0038.jpg', 'image_0004.jpg', 'image_0010.jpg', 'image_0011.jpg', 'image_0005.jpg', 'image_0039.jpg', 'image_0001.jpg', 'image_0015.jpg', 'image_0029.jpg', 'image_0028.jpg', 'image_0014.jpg', 'image_0016.jpg', 'image_0002.jpg', 'image_0003.jpg', 'image_0017.jpg']\n",
      "ROOT: data/caltech101/snoopy\n",
      "DIRECTORIES: []\n",
      "FILE:['image_0032.jpg', 'image_0026.jpg', 'image_0027.jpg', 'image_0033.jpg', 'image_0019.jpg', 'image_0025.jpg', 'image_0031.jpg', 'image_0030.jpg', 'image_0024.jpg', 'image_0018.jpg', 'image_0020.jpg', 'image_0034.jpg', 'image_0008.jpg', 'image_0009.jpg', 'image_0035.jpg', 'image_0021.jpg', 'image_0023.jpg', 'image_0022.jpg', 'image_0013.jpg', 'image_0007.jpg', 'image_0006.jpg', 'image_0012.jpg', 'image_0004.jpg', 'image_0010.jpg', 'image_0011.jpg', 'image_0005.jpg', 'image_0001.jpg', 'image_0015.jpg', 'image_0029.jpg', 'image_0028.jpg', 'image_0014.jpg', 'image_0016.jpg', 'image_0002.jpg', 'image_0003.jpg', 'image_0017.jpg']\n",
      "ROOT: data/caltech101/umbrella\n",
      "DIRECTORIES: []\n",
      "FILE:['image_0032.jpg', 'image_0026.jpg', 'image_0027.jpg', 'image_0033.jpg', 'image_0019.jpg', 'image_0025.jpg', 'image_0031.jpg', 'image_0030.jpg', 'image_0024.jpg', 'image_0018.jpg', 'image_0020.jpg', 'image_0034.jpg', 'image_0008.jpg', 'image_0009.jpg', 'image_0035.jpg', 'image_0021.jpg', 'image_0037.jpg', 'image_0023.jpg', 'image_0022.jpg', 'image_0036.jpg', 'image_0051.jpg', 'image_0045.jpg', 'image_0044.jpg', 'image_0050.jpg', 'image_0046.jpg', 'image_0052.jpg', 'image_0053.jpg', 'image_0047.jpg', 'image_0043.jpg', 'image_0057.jpg', 'image_0056.jpg', 'image_0042.jpg', 'image_0054.jpg', 'image_0040.jpg', 'image_0068.jpg', 'image_0069.jpg', 'image_0041.jpg', 'image_0055.jpg', 'image_0058.jpg', 'image_0070.jpg', 'image_0064.jpg', 'image_0065.jpg', 'image_0071.jpg', 'image_0059.jpg', 'image_0067.jpg', 'image_0073.jpg', 'image_0072.jpg', 'image_0066.jpg', 'image_0062.jpg', 'image_0063.jpg', 'image_0075.jpg', 'image_0061.jpg', 'image_0049.jpg', 'image_0048.jpg', 'image_0060.jpg', 'image_0074.jpg', 'image_0013.jpg', 'image_0007.jpg', 'image_0006.jpg', 'image_0012.jpg', 'image_0038.jpg', 'image_0004.jpg', 'image_0010.jpg', 'image_0011.jpg', 'image_0005.jpg', 'image_0039.jpg', 'image_0001.jpg', 'image_0015.jpg', 'image_0029.jpg', 'image_0028.jpg', 'image_0014.jpg', 'image_0016.jpg', 'image_0002.jpg', 'image_0003.jpg', 'image_0017.jpg']\n",
      "ROOT: data/caltech101/rhino\n",
      "DIRECTORIES: []\n",
      "FILE:['image_0032.jpg', 'image_0026.jpg', 'image_0027.jpg', 'image_0033.jpg', 'image_0019.jpg', 'image_0025.jpg', 'image_0031.jpg', 'image_0030.jpg', 'image_0024.jpg', 'image_0018.jpg', 'image_0020.jpg', 'image_0034.jpg', 'image_0008.jpg', 'image_0009.jpg', 'image_0035.jpg', 'image_0021.jpg', 'image_0037.jpg', 'image_0023.jpg', 'image_0022.jpg', 'image_0036.jpg', 'image_0051.jpg', 'image_0045.jpg', 'image_0044.jpg', 'image_0050.jpg', 'image_0046.jpg', 'image_0052.jpg', 'image_0053.jpg', 'image_0047.jpg', 'image_0043.jpg', 'image_0057.jpg', 'image_0056.jpg', 'image_0042.jpg', 'image_0054.jpg', 'image_0040.jpg', 'image_0041.jpg', 'image_0055.jpg', 'image_0058.jpg', 'image_0059.jpg', 'image_0049.jpg', 'image_0048.jpg', 'image_0013.jpg', 'image_0007.jpg', 'image_0006.jpg', 'image_0012.jpg', 'image_0038.jpg', 'image_0004.jpg', 'image_0010.jpg', 'image_0011.jpg', 'image_0005.jpg', 'image_0039.jpg', 'image_0001.jpg', 'image_0015.jpg', 'image_0029.jpg', 'image_0028.jpg', 'image_0014.jpg', 'image_0016.jpg', 'image_0002.jpg', 'image_0003.jpg', 'image_0017.jpg']\n",
      "ROOT: data/caltech101/okapi\n",
      "DIRECTORIES: []\n",
      "FILE:['image_0032.jpg', 'image_0026.jpg', 'image_0027.jpg', 'image_0033.jpg', 'image_0019.jpg', 'image_0025.jpg', 'image_0031.jpg', 'image_0030.jpg', 'image_0024.jpg', 'image_0018.jpg', 'image_0020.jpg', 'image_0034.jpg', 'image_0008.jpg', 'image_0009.jpg', 'image_0035.jpg', 'image_0021.jpg', 'image_0037.jpg', 'image_0023.jpg', 'image_0022.jpg', 'image_0036.jpg', 'image_0013.jpg', 'image_0007.jpg', 'image_0006.jpg', 'image_0012.jpg', 'image_0038.jpg', 'image_0004.jpg', 'image_0010.jpg', 'image_0011.jpg', 'image_0005.jpg', 'image_0039.jpg', 'image_0001.jpg', 'image_0015.jpg', 'image_0029.jpg', 'image_0028.jpg', 'image_0014.jpg', 'image_0016.jpg', 'image_0002.jpg', 'image_0003.jpg', 'image_0017.jpg']\n",
      "ROOT: data/caltech101/watch\n",
      "DIRECTORIES: []\n",
      "FILE:['image_0146.jpg', 'image_0152.jpg', 'image_0185.jpg', 'image_0191.jpg', 'image_0218.jpg', 'image_0230.jpg', 'image_0224.jpg', 'image_0032.jpg', 'image_0026.jpg', 'image_0027.jpg', 'image_0033.jpg', 'image_0225.jpg', 'image_0231.jpg', 'image_0219.jpg', 'image_0190.jpg', 'image_0184.jpg', 'image_0153.jpg', 'image_0147.jpg', 'image_0179.jpg', 'image_0151.jpg', 'image_0145.jpg', 'image_0192.jpg', 'image_0186.jpg', 'image_0227.jpg', 'image_0233.jpg', 'image_0019.jpg', 'image_0025.jpg', 'image_0031.jpg', 'image_0030.jpg', 'image_0024.jpg', 'image_0018.jpg', 'image_0232.jpg', 'image_0226.jpg', 'image_0187.jpg', 'image_0193.jpg', 'image_0144.jpg', 'image_0150.jpg', 'image_0178.jpg', 'image_0154.jpg', 'image_0140.jpg', 'image_0168.jpg', 'image_0197.jpg', 'image_0183.jpg', 'image_0222.jpg', 'image_0236.jpg', 'image_0020.jpg', 'image_0034.jpg', 'image_0008.jpg', 'image_0009.jpg', 'image_0035.jpg', 'image_0021.jpg', 'image_0237.jpg', 'image_0223.jpg', 'image_0182.jpg', 'image_0196.jpg', 'image_0169.jpg', 'image_0141.jpg', 'image_0155.jpg', 'image_0143.jpg', 'image_0157.jpg', 'image_0180.jpg', 'image_0194.jpg', 'image_0235.jpg', 'image_0221.jpg', 'image_0209.jpg', 'image_0037.jpg', 'image_0023.jpg', 'image_0022.jpg', 'image_0036.jpg', 'image_0208.jpg', 'image_0220.jpg', 'image_0234.jpg', 'image_0195.jpg', 'image_0181.jpg', 'image_0156.jpg', 'image_0142.jpg', 'image_0119.jpg', 'image_0125.jpg', 'image_0131.jpg', 'image_0079.jpg', 'image_0051.jpg', 'image_0045.jpg', 'image_0092.jpg', 'image_0086.jpg', 'image_0087.jpg', 'image_0093.jpg', 'image_0044.jpg', 'image_0050.jpg', 'image_0078.jpg', 'image_0130.jpg', 'image_0124.jpg', 'image_0118.jpg', 'image_0132.jpg', 'image_0126.jpg', 'image_0046.jpg', 'image_0052.jpg', 'image_0085.jpg', 'image_0091.jpg', 'image_0090.jpg', 'image_0084.jpg', 'image_0053.jpg', 'image_0047.jpg', 'image_0127.jpg', 'image_0133.jpg', 'image_0137.jpg', 'image_0123.jpg', 'image_0043.jpg', 'image_0057.jpg', 'image_0080.jpg', 'image_0094.jpg', 'image_0095.jpg', 'image_0081.jpg', 'image_0056.jpg', 'image_0042.jpg', 'image_0122.jpg', 'image_0136.jpg', 'image_0120.jpg', 'image_0134.jpg', 'image_0108.jpg', 'image_0054.jpg', 'image_0040.jpg', 'image_0068.jpg', 'image_0097.jpg', 'image_0083.jpg', 'image_0082.jpg', 'image_0096.jpg', 'image_0069.jpg', 'image_0041.jpg', 'image_0055.jpg', 'image_0109.jpg', 'image_0135.jpg', 'image_0121.jpg', 'image_0138.jpg', 'image_0104.jpg', 'image_0110.jpg', 'image_0058.jpg', 'image_0070.jpg', 'image_0064.jpg', 'image_0065.jpg', 'image_0071.jpg', 'image_0059.jpg', 'image_0111.jpg', 'image_0105.jpg', 'image_0139.jpg', 'image_0113.jpg', 'image_0107.jpg', 'image_0067.jpg', 'image_0073.jpg', 'image_0098.jpg', 'image_0099.jpg', 'image_0072.jpg', 'image_0066.jpg', 'image_0106.jpg', 'image_0112.jpg', 'image_0116.jpg', 'image_0102.jpg', 'image_0062.jpg', 'image_0076.jpg', 'image_0089.jpg', 'image_0088.jpg', 'image_0077.jpg', 'image_0063.jpg', 'image_0103.jpg', 'image_0117.jpg', 'image_0101.jpg', 'image_0115.jpg', 'image_0129.jpg', 'image_0075.jpg', 'image_0061.jpg', 'image_0049.jpg', 'image_0048.jpg', 'image_0060.jpg', 'image_0074.jpg', 'image_0128.jpg', 'image_0114.jpg', 'image_0100.jpg', 'image_0167.jpg', 'image_0173.jpg', 'image_0198.jpg', 'image_0239.jpg', 'image_0211.jpg', 'image_0205.jpg', 'image_0013.jpg', 'image_0007.jpg', 'image_0006.jpg', 'image_0012.jpg', 'image_0204.jpg', 'image_0210.jpg', 'image_0238.jpg', 'image_0199.jpg', 'image_0172.jpg', 'image_0166.jpg', 'image_0158.jpg', 'image_0170.jpg', 'image_0164.jpg', 'image_0206.jpg', 'image_0212.jpg', 'image_0038.jpg', 'image_0004.jpg', 'image_0010.jpg', 'image_0011.jpg', 'image_0005.jpg', 'image_0039.jpg', 'image_0213.jpg', 'image_0207.jpg', 'image_0165.jpg', 'image_0171.jpg', 'image_0159.jpg', 'image_0175.jpg', 'image_0161.jpg', 'image_0149.jpg', 'image_0203.jpg', 'image_0217.jpg', 'image_0001.jpg', 'image_0015.jpg', 'image_0029.jpg', 'image_0028.jpg', 'image_0014.jpg', 'image_0216.jpg', 'image_0202.jpg', 'image_0148.jpg', 'image_0160.jpg', 'image_0174.jpg', 'image_0162.jpg', 'image_0176.jpg', 'image_0189.jpg', 'image_0214.jpg', 'image_0200.jpg', 'image_0228.jpg', 'image_0016.jpg', 'image_0002.jpg', 'image_0003.jpg', 'image_0017.jpg', 'image_0229.jpg', 'image_0201.jpg', 'image_0215.jpg', 'image_0188.jpg', 'image_0177.jpg', 'image_0163.jpg']\n",
      "ROOT: data/caltech101/brain\n",
      "DIRECTORIES: []\n",
      "FILE:['image_0032.jpg', 'image_0026.jpg', 'image_0027.jpg', 'image_0033.jpg', 'image_0019.jpg', 'image_0025.jpg', 'image_0031.jpg', 'image_0030.jpg', 'image_0024.jpg', 'image_0018.jpg', 'image_0020.jpg', 'image_0034.jpg', 'image_0008.jpg', 'image_0009.jpg', 'image_0035.jpg', 'image_0021.jpg', 'image_0037.jpg', 'image_0023.jpg', 'image_0022.jpg', 'image_0036.jpg', 'image_0079.jpg', 'image_0051.jpg', 'image_0045.jpg', 'image_0092.jpg', 'image_0086.jpg', 'image_0087.jpg', 'image_0093.jpg', 'image_0044.jpg', 'image_0050.jpg', 'image_0078.jpg', 'image_0046.jpg', 'image_0052.jpg', 'image_0085.jpg', 'image_0091.jpg', 'image_0090.jpg', 'image_0084.jpg', 'image_0053.jpg', 'image_0047.jpg', 'image_0043.jpg', 'image_0057.jpg', 'image_0080.jpg', 'image_0094.jpg', 'image_0095.jpg', 'image_0081.jpg', 'image_0056.jpg', 'image_0042.jpg', 'image_0054.jpg', 'image_0040.jpg', 'image_0068.jpg', 'image_0097.jpg', 'image_0083.jpg', 'image_0082.jpg', 'image_0096.jpg', 'image_0069.jpg', 'image_0041.jpg', 'image_0055.jpg', 'image_0058.jpg', 'image_0070.jpg', 'image_0064.jpg', 'image_0065.jpg', 'image_0071.jpg', 'image_0059.jpg', 'image_0067.jpg', 'image_0073.jpg', 'image_0098.jpg', 'image_0072.jpg', 'image_0066.jpg', 'image_0062.jpg', 'image_0076.jpg', 'image_0089.jpg', 'image_0088.jpg', 'image_0077.jpg', 'image_0063.jpg', 'image_0075.jpg', 'image_0061.jpg', 'image_0049.jpg', 'image_0048.jpg', 'image_0060.jpg', 'image_0074.jpg', 'image_0013.jpg', 'image_0007.jpg', 'image_0006.jpg', 'image_0012.jpg', 'image_0038.jpg', 'image_0004.jpg', 'image_0010.jpg', 'image_0011.jpg', 'image_0005.jpg', 'image_0039.jpg', 'image_0001.jpg', 'image_0015.jpg', 'image_0029.jpg', 'image_0028.jpg', 'image_0014.jpg', 'image_0016.jpg', 'image_0002.jpg', 'image_0003.jpg', 'image_0017.jpg']\n",
      "ROOT: data/caltech101/gramophone\n",
      "DIRECTORIES: []\n",
      "FILE:['image_0032.jpg', 'image_0026.jpg', 'image_0027.jpg', 'image_0033.jpg', 'image_0019.jpg', 'image_0025.jpg', 'image_0031.jpg', 'image_0030.jpg', 'image_0024.jpg', 'image_0018.jpg', 'image_0020.jpg', 'image_0034.jpg', 'image_0008.jpg', 'image_0009.jpg', 'image_0035.jpg', 'image_0021.jpg', 'image_0037.jpg', 'image_0023.jpg', 'image_0022.jpg', 'image_0036.jpg', 'image_0051.jpg', 'image_0045.jpg', 'image_0044.jpg', 'image_0050.jpg', 'image_0046.jpg', 'image_0047.jpg', 'image_0043.jpg', 'image_0042.jpg', 'image_0040.jpg', 'image_0041.jpg', 'image_0049.jpg', 'image_0048.jpg', 'image_0013.jpg', 'image_0007.jpg', 'image_0006.jpg', 'image_0012.jpg', 'image_0038.jpg', 'image_0004.jpg', 'image_0010.jpg', 'image_0011.jpg', 'image_0005.jpg', 'image_0039.jpg', 'image_0001.jpg', 'image_0015.jpg', 'image_0029.jpg', 'image_0028.jpg', 'image_0014.jpg', 'image_0016.jpg', 'image_0002.jpg', 'image_0003.jpg', 'image_0017.jpg']\n",
      "ROOT: data/caltech101/scissors\n",
      "DIRECTORIES: []\n",
      "FILE:['image_0032.jpg', 'image_0026.jpg', 'image_0027.jpg', 'image_0033.jpg', 'image_0019.jpg', 'image_0025.jpg', 'image_0031.jpg', 'image_0030.jpg', 'image_0024.jpg', 'image_0018.jpg', 'image_0020.jpg', 'image_0034.jpg', 'image_0008.jpg', 'image_0009.jpg', 'image_0035.jpg', 'image_0021.jpg', 'image_0037.jpg', 'image_0023.jpg', 'image_0022.jpg', 'image_0036.jpg', 'image_0013.jpg', 'image_0007.jpg', 'image_0006.jpg', 'image_0012.jpg', 'image_0038.jpg', 'image_0004.jpg', 'image_0010.jpg', 'image_0011.jpg', 'image_0005.jpg', 'image_0039.jpg', 'image_0001.jpg', 'image_0015.jpg', 'image_0029.jpg', 'image_0028.jpg', 'image_0014.jpg', 'image_0016.jpg', 'image_0002.jpg', 'image_0003.jpg', 'image_0017.jpg']\n",
      "ROOT: data/caltech101/rooster\n",
      "DIRECTORIES: []\n",
      "FILE:['image_0032.jpg', 'image_0026.jpg', 'image_0027.jpg', 'image_0033.jpg', 'image_0019.jpg', 'image_0025.jpg', 'image_0031.jpg', 'image_0030.jpg', 'image_0024.jpg', 'image_0018.jpg', 'image_0020.jpg', 'image_0034.jpg', 'image_0008.jpg', 'image_0009.jpg', 'image_0035.jpg', 'image_0021.jpg', 'image_0037.jpg', 'image_0023.jpg', 'image_0022.jpg', 'image_0036.jpg', 'image_0045.jpg', 'image_0044.jpg', 'image_0046.jpg', 'image_0047.jpg', 'image_0043.jpg', 'image_0042.jpg', 'image_0040.jpg', 'image_0041.jpg', 'image_0049.jpg', 'image_0048.jpg', 'image_0013.jpg', 'image_0007.jpg', 'image_0006.jpg', 'image_0012.jpg', 'image_0038.jpg', 'image_0004.jpg', 'image_0010.jpg', 'image_0011.jpg', 'image_0005.jpg', 'image_0039.jpg', 'image_0001.jpg', 'image_0015.jpg', 'image_0029.jpg', 'image_0028.jpg', 'image_0014.jpg', 'image_0016.jpg', 'image_0002.jpg', 'image_0003.jpg', 'image_0017.jpg']\n",
      "ROOT: data/caltech101/cannon\n",
      "DIRECTORIES: []\n",
      "FILE:['image_0032.jpg', 'image_0026.jpg', 'image_0027.jpg', 'image_0033.jpg', 'image_0019.jpg', 'image_0025.jpg', 'image_0031.jpg', 'image_0030.jpg', 'image_0024.jpg', 'image_0018.jpg', 'image_0020.jpg', 'image_0034.jpg', 'image_0008.jpg', 'image_0009.jpg', 'image_0035.jpg', 'image_0021.jpg', 'image_0037.jpg', 'image_0023.jpg', 'image_0022.jpg', 'image_0036.jpg', 'image_0043.jpg', 'image_0042.jpg', 'image_0040.jpg', 'image_0041.jpg', 'image_0013.jpg', 'image_0007.jpg', 'image_0006.jpg', 'image_0012.jpg', 'image_0038.jpg', 'image_0004.jpg', 'image_0010.jpg', 'image_0011.jpg', 'image_0005.jpg', 'image_0039.jpg', 'image_0001.jpg', 'image_0015.jpg', 'image_0029.jpg', 'image_0028.jpg', 'image_0014.jpg', 'image_0016.jpg', 'image_0002.jpg', 'image_0003.jpg', 'image_0017.jpg']\n",
      "ROOT: data/caltech101/binocular\n",
      "DIRECTORIES: []\n",
      "FILE:['image_0032.jpg', 'image_0026.jpg', 'image_0027.jpg', 'image_0033.jpg', 'image_0019.jpg', 'image_0025.jpg', 'image_0031.jpg', 'image_0030.jpg', 'image_0024.jpg', 'image_0018.jpg', 'image_0020.jpg', 'image_0008.jpg', 'image_0009.jpg', 'image_0021.jpg', 'image_0023.jpg', 'image_0022.jpg', 'image_0013.jpg', 'image_0007.jpg', 'image_0006.jpg', 'image_0012.jpg', 'image_0004.jpg', 'image_0010.jpg', 'image_0011.jpg', 'image_0005.jpg', 'image_0001.jpg', 'image_0015.jpg', 'image_0029.jpg', 'image_0028.jpg', 'image_0014.jpg', 'image_0016.jpg', 'image_0002.jpg', 'image_0003.jpg', 'image_0017.jpg']\n",
      "ROOT: data/caltech101/anchor\n",
      "DIRECTORIES: []\n",
      "FILE:['image_0032.jpg', 'image_0026.jpg', 'image_0027.jpg', 'image_0033.jpg', 'image_0019.jpg', 'image_0025.jpg', 'image_0031.jpg', 'image_0030.jpg', 'image_0024.jpg', 'image_0018.jpg', 'image_0020.jpg', 'image_0034.jpg', 'image_0008.jpg', 'image_0009.jpg', 'image_0035.jpg', 'image_0021.jpg', 'image_0037.jpg', 'image_0023.jpg', 'image_0022.jpg', 'image_0036.jpg', 'image_0042.jpg', 'image_0040.jpg', 'image_0041.jpg', 'image_0013.jpg', 'image_0007.jpg', 'image_0006.jpg', 'image_0012.jpg', 'image_0038.jpg', 'image_0004.jpg', 'image_0010.jpg', 'image_0011.jpg', 'image_0005.jpg', 'image_0039.jpg', 'image_0001.jpg', 'image_0015.jpg', 'image_0029.jpg', 'image_0028.jpg', 'image_0014.jpg', 'image_0016.jpg', 'image_0002.jpg', 'image_0003.jpg', 'image_0017.jpg']\n",
      "ROOT: data/caltech101/octopus\n",
      "DIRECTORIES: []\n",
      "FILE:['image_0032.jpg', 'image_0026.jpg', 'image_0027.jpg', 'image_0033.jpg', 'image_0019.jpg', 'image_0025.jpg', 'image_0031.jpg', 'image_0030.jpg', 'image_0024.jpg', 'image_0018.jpg', 'image_0020.jpg', 'image_0034.jpg', 'image_0008.jpg', 'image_0009.jpg', 'image_0035.jpg', 'image_0021.jpg', 'image_0023.jpg', 'image_0022.jpg', 'image_0013.jpg', 'image_0007.jpg', 'image_0006.jpg', 'image_0012.jpg', 'image_0004.jpg', 'image_0010.jpg', 'image_0011.jpg', 'image_0005.jpg', 'image_0001.jpg', 'image_0015.jpg', 'image_0029.jpg', 'image_0028.jpg', 'image_0014.jpg', 'image_0016.jpg', 'image_0002.jpg', 'image_0003.jpg', 'image_0017.jpg']\n",
      "ROOT: data/caltech101/buddha\n",
      "DIRECTORIES: []\n",
      "FILE:['image_0032.jpg', 'image_0026.jpg', 'image_0027.jpg', 'image_0033.jpg', 'image_0019.jpg', 'image_0025.jpg', 'image_0031.jpg', 'image_0030.jpg', 'image_0024.jpg', 'image_0018.jpg', 'image_0020.jpg', 'image_0034.jpg', 'image_0008.jpg', 'image_0009.jpg', 'image_0035.jpg', 'image_0021.jpg', 'image_0037.jpg', 'image_0023.jpg', 'image_0022.jpg', 'image_0036.jpg', 'image_0079.jpg', 'image_0051.jpg', 'image_0045.jpg', 'image_0044.jpg', 'image_0050.jpg', 'image_0078.jpg', 'image_0046.jpg', 'image_0052.jpg', 'image_0085.jpg', 'image_0084.jpg', 'image_0053.jpg', 'image_0047.jpg', 'image_0043.jpg', 'image_0057.jpg', 'image_0080.jpg', 'image_0081.jpg', 'image_0056.jpg', 'image_0042.jpg', 'image_0054.jpg', 'image_0040.jpg', 'image_0068.jpg', 'image_0083.jpg', 'image_0082.jpg', 'image_0069.jpg', 'image_0041.jpg', 'image_0055.jpg', 'image_0058.jpg', 'image_0070.jpg', 'image_0064.jpg', 'image_0065.jpg', 'image_0071.jpg', 'image_0059.jpg', 'image_0067.jpg', 'image_0073.jpg', 'image_0072.jpg', 'image_0066.jpg', 'image_0062.jpg', 'image_0076.jpg', 'image_0077.jpg', 'image_0063.jpg', 'image_0075.jpg', 'image_0061.jpg', 'image_0049.jpg', 'image_0048.jpg', 'image_0060.jpg', 'image_0074.jpg', 'image_0013.jpg', 'image_0007.jpg', 'image_0006.jpg', 'image_0012.jpg', 'image_0038.jpg', 'image_0004.jpg', 'image_0010.jpg', 'image_0011.jpg', 'image_0005.jpg', 'image_0039.jpg', 'image_0001.jpg', 'image_0015.jpg', 'image_0029.jpg', 'image_0028.jpg', 'image_0014.jpg', 'image_0016.jpg', 'image_0002.jpg', 'image_0003.jpg', 'image_0017.jpg']\n",
      "ROOT: data/caltech101/laptop\n",
      "DIRECTORIES: []\n",
      "FILE:['image_0032.jpg', 'image_0026.jpg', 'image_0027.jpg', 'image_0033.jpg', 'image_0019.jpg', 'image_0025.jpg', 'image_0031.jpg', 'image_0030.jpg', 'image_0024.jpg', 'image_0018.jpg', 'image_0020.jpg', 'image_0034.jpg', 'image_0008.jpg', 'image_0009.jpg', 'image_0035.jpg', 'image_0021.jpg', 'image_0037.jpg', 'image_0023.jpg', 'image_0022.jpg', 'image_0036.jpg', 'image_0079.jpg', 'image_0051.jpg', 'image_0045.jpg', 'image_0044.jpg', 'image_0050.jpg', 'image_0078.jpg', 'image_0046.jpg', 'image_0052.jpg', 'image_0053.jpg', 'image_0047.jpg', 'image_0043.jpg', 'image_0057.jpg', 'image_0080.jpg', 'image_0081.jpg', 'image_0056.jpg', 'image_0042.jpg', 'image_0054.jpg', 'image_0040.jpg', 'image_0068.jpg', 'image_0069.jpg', 'image_0041.jpg', 'image_0055.jpg', 'image_0058.jpg', 'image_0070.jpg', 'image_0064.jpg', 'image_0065.jpg', 'image_0071.jpg', 'image_0059.jpg', 'image_0067.jpg', 'image_0073.jpg', 'image_0072.jpg', 'image_0066.jpg', 'image_0062.jpg', 'image_0076.jpg', 'image_0077.jpg', 'image_0063.jpg', 'image_0075.jpg', 'image_0061.jpg', 'image_0049.jpg', 'image_0048.jpg', 'image_0060.jpg', 'image_0074.jpg', 'image_0013.jpg', 'image_0007.jpg', 'image_0006.jpg', 'image_0012.jpg', 'image_0038.jpg', 'image_0004.jpg', 'image_0010.jpg', 'image_0011.jpg', 'image_0005.jpg', 'image_0039.jpg', 'image_0001.jpg', 'image_0015.jpg', 'image_0029.jpg', 'image_0028.jpg', 'image_0014.jpg', 'image_0016.jpg', 'image_0002.jpg', 'image_0003.jpg', 'image_0017.jpg']\n",
      "ROOT: data/caltech101/windsor_chair\n",
      "DIRECTORIES: []\n",
      "FILE:['image_0032.jpg', 'image_0026.jpg', 'image_0027.jpg', 'image_0033.jpg', 'image_0019.jpg', 'image_0025.jpg', 'image_0031.jpg', 'image_0030.jpg', 'image_0024.jpg', 'image_0018.jpg', 'image_0020.jpg', 'image_0034.jpg', 'image_0008.jpg', 'image_0009.jpg', 'image_0035.jpg', 'image_0021.jpg', 'image_0037.jpg', 'image_0023.jpg', 'image_0022.jpg', 'image_0036.jpg', 'image_0051.jpg', 'image_0045.jpg', 'image_0044.jpg', 'image_0050.jpg', 'image_0046.jpg', 'image_0052.jpg', 'image_0053.jpg', 'image_0047.jpg', 'image_0043.jpg', 'image_0056.jpg', 'image_0042.jpg', 'image_0054.jpg', 'image_0040.jpg', 'image_0041.jpg', 'image_0055.jpg', 'image_0049.jpg', 'image_0048.jpg', 'image_0013.jpg', 'image_0007.jpg', 'image_0006.jpg', 'image_0012.jpg', 'image_0038.jpg', 'image_0004.jpg', 'image_0010.jpg', 'image_0011.jpg', 'image_0005.jpg', 'image_0039.jpg', 'image_0001.jpg', 'image_0015.jpg', 'image_0029.jpg', 'image_0028.jpg', 'image_0014.jpg', 'image_0016.jpg', 'image_0002.jpg', 'image_0003.jpg', 'image_0017.jpg']\n",
      "ROOT: data/caltech101/hedgehog\n",
      "DIRECTORIES: []\n",
      "FILE:['image_0032.jpg', 'image_0026.jpg', 'image_0027.jpg', 'image_0033.jpg', 'image_0019.jpg', 'image_0025.jpg', 'image_0031.jpg', 'image_0030.jpg', 'image_0024.jpg', 'image_0018.jpg', 'image_0020.jpg', 'image_0034.jpg', 'image_0008.jpg', 'image_0009.jpg', 'image_0035.jpg', 'image_0021.jpg', 'image_0037.jpg', 'image_0023.jpg', 'image_0022.jpg', 'image_0036.jpg', 'image_0051.jpg', 'image_0045.jpg', 'image_0044.jpg', 'image_0050.jpg', 'image_0046.jpg', 'image_0052.jpg', 'image_0053.jpg', 'image_0047.jpg', 'image_0043.jpg', 'image_0042.jpg', 'image_0054.jpg', 'image_0040.jpg', 'image_0041.jpg', 'image_0049.jpg', 'image_0048.jpg', 'image_0013.jpg', 'image_0007.jpg', 'image_0006.jpg', 'image_0012.jpg', 'image_0038.jpg', 'image_0004.jpg', 'image_0010.jpg', 'image_0011.jpg', 'image_0005.jpg', 'image_0039.jpg', 'image_0001.jpg', 'image_0015.jpg', 'image_0029.jpg', 'image_0028.jpg', 'image_0014.jpg', 'image_0016.jpg', 'image_0002.jpg', 'image_0003.jpg', 'image_0017.jpg']\n",
      "ROOT: data/caltech101/pizza\n",
      "DIRECTORIES: []\n",
      "FILE:['image_0032.jpg', 'image_0026.jpg', 'image_0027.jpg', 'image_0033.jpg', 'image_0019.jpg', 'image_0025.jpg', 'image_0031.jpg', 'image_0030.jpg', 'image_0024.jpg', 'image_0018.jpg', 'image_0020.jpg', 'image_0034.jpg', 'image_0008.jpg', 'image_0009.jpg', 'image_0035.jpg', 'image_0021.jpg', 'image_0037.jpg', 'image_0023.jpg', 'image_0022.jpg', 'image_0036.jpg', 'image_0051.jpg', 'image_0045.jpg', 'image_0044.jpg', 'image_0050.jpg', 'image_0046.jpg', 'image_0052.jpg', 'image_0053.jpg', 'image_0047.jpg', 'image_0043.jpg', 'image_0042.jpg', 'image_0040.jpg', 'image_0041.jpg', 'image_0049.jpg', 'image_0048.jpg', 'image_0013.jpg', 'image_0007.jpg', 'image_0006.jpg', 'image_0012.jpg', 'image_0038.jpg', 'image_0004.jpg', 'image_0010.jpg', 'image_0011.jpg', 'image_0005.jpg', 'image_0039.jpg', 'image_0001.jpg', 'image_0015.jpg', 'image_0029.jpg', 'image_0028.jpg', 'image_0014.jpg', 'image_0016.jpg', 'image_0002.jpg', 'image_0003.jpg', 'image_0017.jpg']\n",
      "ROOT: data/caltech101/euphonium\n",
      "DIRECTORIES: []\n",
      "FILE:['image_0032.jpg', 'image_0026.jpg', 'image_0027.jpg', 'image_0033.jpg', 'image_0019.jpg', 'image_0025.jpg', 'image_0031.jpg', 'image_0030.jpg', 'image_0024.jpg', 'image_0018.jpg', 'image_0020.jpg', 'image_0034.jpg', 'image_0008.jpg', 'image_0009.jpg', 'image_0035.jpg', 'image_0021.jpg', 'image_0037.jpg', 'image_0023.jpg', 'image_0022.jpg', 'image_0036.jpg', 'image_0051.jpg', 'image_0045.jpg', 'image_0044.jpg', 'image_0050.jpg', 'image_0046.jpg', 'image_0052.jpg', 'image_0053.jpg', 'image_0047.jpg', 'image_0043.jpg', 'image_0057.jpg', 'image_0056.jpg', 'image_0042.jpg', 'image_0054.jpg', 'image_0040.jpg', 'image_0041.jpg', 'image_0055.jpg', 'image_0058.jpg', 'image_0064.jpg', 'image_0059.jpg', 'image_0062.jpg', 'image_0063.jpg', 'image_0061.jpg', 'image_0049.jpg', 'image_0048.jpg', 'image_0060.jpg', 'image_0013.jpg', 'image_0007.jpg', 'image_0006.jpg', 'image_0012.jpg', 'image_0038.jpg', 'image_0004.jpg', 'image_0010.jpg', 'image_0011.jpg', 'image_0005.jpg', 'image_0039.jpg', 'image_0001.jpg', 'image_0015.jpg', 'image_0029.jpg', 'image_0028.jpg', 'image_0014.jpg', 'image_0016.jpg', 'image_0002.jpg', 'image_0003.jpg', 'image_0017.jpg']\n",
      "ROOT: data/caltech101/stop_sign\n",
      "DIRECTORIES: []\n",
      "FILE:['image_0032.jpg', 'image_0026.jpg', 'image_0027.jpg', 'image_0033.jpg', 'image_0019.jpg', 'image_0025.jpg', 'image_0031.jpg', 'image_0030.jpg', 'image_0024.jpg', 'image_0018.jpg', 'image_0020.jpg', 'image_0034.jpg', 'image_0008.jpg', 'image_0009.jpg', 'image_0035.jpg', 'image_0021.jpg', 'image_0037.jpg', 'image_0023.jpg', 'image_0022.jpg', 'image_0036.jpg', 'image_0051.jpg', 'image_0045.jpg', 'image_0044.jpg', 'image_0050.jpg', 'image_0046.jpg', 'image_0052.jpg', 'image_0053.jpg', 'image_0047.jpg', 'image_0043.jpg', 'image_0057.jpg', 'image_0056.jpg', 'image_0042.jpg', 'image_0054.jpg', 'image_0040.jpg', 'image_0041.jpg', 'image_0055.jpg', 'image_0058.jpg', 'image_0064.jpg', 'image_0059.jpg', 'image_0062.jpg', 'image_0063.jpg', 'image_0061.jpg', 'image_0049.jpg', 'image_0048.jpg', 'image_0060.jpg', 'image_0013.jpg', 'image_0007.jpg', 'image_0006.jpg', 'image_0012.jpg', 'image_0038.jpg', 'image_0004.jpg', 'image_0010.jpg', 'image_0011.jpg', 'image_0005.jpg', 'image_0039.jpg', 'image_0001.jpg', 'image_0015.jpg', 'image_0029.jpg', 'image_0028.jpg', 'image_0014.jpg', 'image_0016.jpg', 'image_0002.jpg', 'image_0003.jpg', 'image_0017.jpg']\n",
      "ROOT: data/caltech101/Motorbikes\n",
      "DIRECTORIES: []\n",
      "FILE:['image_0608.jpg', 'image_0620.jpg', 'image_0146.jpg', 'image_0152.jpg', 'image_0634.jpg', 'image_0185.jpg', 'image_0191.jpg', 'image_0378.jpg', 'image_0344.jpg', 'image_0422.jpg', 'image_0436.jpg', 'image_0350.jpg', 'image_0387.jpg', 'image_0393.jpg', 'image_0218.jpg', 'image_0230.jpg', 'image_0556.jpg', 'image_0542.jpg', 'image_0224.jpg', 'image_0595.jpg', 'image_0581.jpg', 'image_0768.jpg', 'image_0754.jpg', 'image_0032.jpg', 'image_0026.jpg', 'image_0740.jpg', 'image_0797.jpg', 'image_0783.jpg', 'image_0782.jpg', 'image_0796.jpg', 'image_0027.jpg', 'image_0741.jpg', 'image_0755.jpg', 'image_0033.jpg', 'image_0769.jpg', 'image_0580.jpg', 'image_0594.jpg', 'image_0543.jpg', 'image_0225.jpg', 'image_0231.jpg', 'image_0557.jpg', 'image_0219.jpg', 'image_0392.jpg', 'image_0386.jpg', 'image_0437.jpg', 'image_0351.jpg', 'image_0345.jpg', 'image_0423.jpg', 'image_0379.jpg', 'image_0190.jpg', 'image_0184.jpg', 'image_0153.jpg', 'image_0635.jpg', 'image_0621.jpg', 'image_0147.jpg', 'image_0609.jpg', 'image_0179.jpg', 'image_0637.jpg', 'image_0151.jpg', 'image_0145.jpg', 'image_0623.jpg', 'image_0192.jpg', 'image_0186.jpg', 'image_0409.jpg', 'image_0353.jpg', 'image_0435.jpg', 'image_0421.jpg', 'image_0347.jpg', 'image_0390.jpg', 'image_0384.jpg', 'image_0569.jpg', 'image_0227.jpg', 'image_0541.jpg', 'image_0555.jpg', 'image_0233.jpg', 'image_0582.jpg', 'image_0596.jpg', 'image_0019.jpg', 'image_0743.jpg', 'image_0025.jpg', 'image_0031.jpg', 'image_0757.jpg', 'image_0780.jpg', 'image_0794.jpg', 'image_0795.jpg', 'image_0781.jpg', 'image_0030.jpg', 'image_0756.jpg', 'image_0742.jpg', 'image_0024.jpg', 'image_0018.jpg', 'image_0597.jpg', 'image_0583.jpg', 'image_0554.jpg', 'image_0232.jpg', 'image_0226.jpg', 'image_0540.jpg', 'image_0568.jpg', 'image_0385.jpg', 'image_0391.jpg', 'image_0420.jpg', 'image_0346.jpg', 'image_0352.jpg', 'image_0434.jpg', 'image_0408.jpg', 'image_0187.jpg', 'image_0193.jpg', 'image_0144.jpg', 'image_0622.jpg', 'image_0636.jpg', 'image_0150.jpg', 'image_0178.jpg', 'image_0154.jpg', 'image_0632.jpg', 'image_0626.jpg', 'image_0140.jpg', 'image_0168.jpg', 'image_0197.jpg', 'image_0183.jpg', 'image_0430.jpg', 'image_0356.jpg', 'image_0342.jpg', 'image_0424.jpg', 'image_0418.jpg', 'image_0395.jpg', 'image_0381.jpg', 'image_0544.jpg', 'image_0222.jpg', 'image_0236.jpg', 'image_0550.jpg', 'image_0578.jpg', 'image_0587.jpg', 'image_0593.jpg', 'image_0020.jpg', 'image_0746.jpg', 'image_0752.jpg', 'image_0034.jpg', 'image_0008.jpg', 'image_0785.jpg', 'image_0791.jpg', 'image_0790.jpg', 'image_0784.jpg', 'image_0009.jpg', 'image_0753.jpg', 'image_0035.jpg', 'image_0021.jpg', 'image_0747.jpg', 'image_0592.jpg', 'image_0586.jpg', 'image_0579.jpg', 'image_0237.jpg', 'image_0551.jpg', 'image_0545.jpg', 'image_0223.jpg', 'image_0380.jpg', 'image_0394.jpg', 'image_0419.jpg', 'image_0343.jpg', 'image_0425.jpg', 'image_0431.jpg', 'image_0357.jpg', 'image_0182.jpg', 'image_0196.jpg', 'image_0169.jpg', 'image_0627.jpg', 'image_0141.jpg', 'image_0155.jpg', 'image_0633.jpg', 'image_0143.jpg', 'image_0625.jpg', 'image_0631.jpg', 'image_0157.jpg', 'image_0619.jpg', 'image_0180.jpg', 'image_0194.jpg', 'image_0427.jpg', 'image_0341.jpg', 'image_0355.jpg', 'image_0433.jpg', 'image_0369.jpg', 'image_0382.jpg', 'image_0396.jpg', 'image_0553.jpg', 'image_0235.jpg', 'image_0221.jpg', 'image_0547.jpg', 'image_0209.jpg', 'image_0590.jpg', 'image_0584.jpg', 'image_0037.jpg', 'image_0751.jpg', 'image_0745.jpg', 'image_0023.jpg', 'image_0779.jpg', 'image_0792.jpg', 'image_0786.jpg', 'image_0787.jpg', 'image_0793.jpg', 'image_0778.jpg', 'image_0744.jpg', 'image_0022.jpg', 'image_0036.jpg', 'image_0750.jpg', 'image_0585.jpg', 'image_0591.jpg', 'image_0208.jpg', 'image_0220.jpg', 'image_0546.jpg', 'image_0552.jpg', 'image_0234.jpg', 'image_0397.jpg', 'image_0383.jpg', 'image_0368.jpg', 'image_0354.jpg', 'image_0432.jpg', 'image_0426.jpg', 'image_0340.jpg', 'image_0195.jpg', 'image_0181.jpg', 'image_0618.jpg', 'image_0630.jpg', 'image_0156.jpg', 'image_0142.jpg', 'image_0624.jpg', 'image_0119.jpg', 'image_0125.jpg', 'image_0643.jpg', 'image_0657.jpg', 'image_0131.jpg', 'image_0680.jpg', 'image_0694.jpg', 'image_0469.jpg', 'image_0441.jpg', 'image_0327.jpg', 'image_0333.jpg', 'image_0455.jpg', 'image_0482.jpg', 'image_0496.jpg', 'image_0509.jpg', 'image_0535.jpg', 'image_0253.jpg', 'image_0247.jpg', 'image_0521.jpg', 'image_0290.jpg', 'image_0284.jpg', 'image_0079.jpg', 'image_0051.jpg', 'image_0737.jpg', 'image_0723.jpg', 'image_0045.jpg', 'image_0092.jpg', 'image_0086.jpg', 'image_0087.jpg', 'image_0093.jpg', 'image_0722.jpg', 'image_0044.jpg', 'image_0050.jpg', 'image_0736.jpg', 'image_0078.jpg', 'image_0285.jpg', 'image_0291.jpg', 'image_0246.jpg', 'image_0520.jpg', 'image_0534.jpg', 'image_0252.jpg', 'image_0508.jpg', 'image_0497.jpg', 'image_0483.jpg', 'image_0332.jpg', 'image_0454.jpg', 'image_0440.jpg', 'image_0326.jpg', 'image_0468.jpg', 'image_0695.jpg', 'image_0681.jpg', 'image_0656.jpg', 'image_0130.jpg', 'image_0124.jpg', 'image_0642.jpg', 'image_0118.jpg', 'image_0668.jpg', 'image_0132.jpg', 'image_0654.jpg', 'image_0640.jpg', 'image_0126.jpg', 'image_0697.jpg', 'image_0683.jpg', 'image_0318.jpg', 'image_0456.jpg', 'image_0330.jpg', 'image_0324.jpg', 'image_0442.jpg', 'image_0495.jpg', 'image_0481.jpg', 'image_0278.jpg', 'image_0522.jpg', 'image_0244.jpg', 'image_0250.jpg', 'image_0536.jpg', 'image_0287.jpg', 'image_0293.jpg', 'image_0708.jpg', 'image_0046.jpg', 'image_0720.jpg', 'image_0734.jpg', 'image_0052.jpg', 'image_0085.jpg', 'image_0091.jpg', 'image_0090.jpg', 'image_0084.jpg', 'image_0735.jpg', 'image_0053.jpg', 'image_0047.jpg', 'image_0721.jpg', 'image_0709.jpg', 'image_0292.jpg', 'image_0286.jpg', 'image_0251.jpg', 'image_0537.jpg', 'image_0523.jpg', 'image_0245.jpg', 'image_0279.jpg', 'image_0480.jpg', 'image_0494.jpg', 'image_0325.jpg', 'image_0443.jpg', 'image_0457.jpg', 'image_0331.jpg', 'image_0319.jpg', 'image_0682.jpg', 'image_0696.jpg', 'image_0641.jpg', 'image_0127.jpg', 'image_0133.jpg', 'image_0655.jpg', 'image_0669.jpg', 'image_0651.jpg', 'image_0137.jpg', 'image_0123.jpg', 'image_0645.jpg', 'image_0679.jpg', 'image_0692.jpg', 'image_0686.jpg', 'image_0335.jpg', 'image_0453.jpg', 'image_0447.jpg', 'image_0321.jpg', 'image_0309.jpg', 'image_0490.jpg', 'image_0484.jpg', 'image_0241.jpg', 'image_0527.jpg', 'image_0533.jpg', 'image_0255.jpg', 'image_0269.jpg', 'image_0282.jpg', 'image_0296.jpg', 'image_0725.jpg', 'image_0043.jpg', 'image_0057.jpg', 'image_0731.jpg', 'image_0719.jpg', 'image_0080.jpg', 'image_0094.jpg', 'image_0095.jpg', 'image_0081.jpg', 'image_0718.jpg', 'image_0056.jpg', 'image_0730.jpg', 'image_0724.jpg', 'image_0042.jpg', 'image_0297.jpg', 'image_0283.jpg', 'image_0268.jpg', 'image_0532.jpg', 'image_0254.jpg', 'image_0240.jpg', 'image_0526.jpg', 'image_0485.jpg', 'image_0491.jpg', 'image_0308.jpg', 'image_0446.jpg', 'image_0320.jpg', 'image_0334.jpg', 'image_0452.jpg', 'image_0687.jpg', 'image_0693.jpg', 'image_0678.jpg', 'image_0122.jpg', 'image_0644.jpg', 'image_0650.jpg', 'image_0136.jpg', 'image_0646.jpg', 'image_0120.jpg', 'image_0134.jpg', 'image_0652.jpg', 'image_0108.jpg', 'image_0685.jpg', 'image_0691.jpg', 'image_0322.jpg', 'image_0444.jpg', 'image_0450.jpg', 'image_0336.jpg', 'image_0478.jpg', 'image_0487.jpg', 'image_0493.jpg', 'image_0256.jpg', 'image_0530.jpg', 'image_0524.jpg', 'image_0242.jpg', 'image_0518.jpg', 'image_0295.jpg', 'image_0281.jpg', 'image_0732.jpg', 'image_0054.jpg', 'image_0040.jpg', 'image_0726.jpg', 'image_0068.jpg', 'image_0097.jpg', 'image_0083.jpg', 'image_0082.jpg', 'image_0096.jpg', 'image_0069.jpg', 'image_0041.jpg', 'image_0727.jpg', 'image_0733.jpg', 'image_0055.jpg', 'image_0280.jpg', 'image_0294.jpg', 'image_0519.jpg', 'image_0525.jpg', 'image_0243.jpg', 'image_0257.jpg', 'image_0531.jpg', 'image_0492.jpg', 'image_0486.jpg', 'image_0479.jpg', 'image_0451.jpg', 'image_0337.jpg', 'image_0323.jpg', 'image_0445.jpg', 'image_0690.jpg', 'image_0684.jpg', 'image_0109.jpg', 'image_0135.jpg', 'image_0653.jpg', 'image_0647.jpg', 'image_0121.jpg', 'image_0138.jpg', 'image_0104.jpg', 'image_0662.jpg', 'image_0676.jpg', 'image_0110.jpg', 'image_0689.jpg', 'image_0448.jpg', 'image_0460.jpg', 'image_0306.jpg', 'image_0312.jpg', 'image_0474.jpg', 'image_0528.jpg', 'image_0514.jpg', 'image_0272.jpg', 'image_0266.jpg', 'image_0500.jpg', 'image_0299.jpg', 'image_0058.jpg', 'image_0070.jpg', 'image_0716.jpg', 'image_0702.jpg', 'image_0064.jpg', 'image_0703.jpg', 'image_0065.jpg', 'image_0071.jpg', 'image_0717.jpg', 'image_0059.jpg', 'image_0298.jpg', 'image_0267.jpg', 'image_0501.jpg', 'image_0515.jpg', 'image_0273.jpg', 'image_0529.jpg', 'image_0313.jpg', 'image_0475.jpg', 'image_0461.jpg', 'image_0307.jpg', 'image_0449.jpg', 'image_0688.jpg', 'image_0677.jpg', 'image_0111.jpg', 'image_0105.jpg', 'image_0663.jpg', 'image_0139.jpg', 'image_0649.jpg', 'image_0113.jpg', 'image_0675.jpg', 'image_0661.jpg', 'image_0107.jpg', 'image_0339.jpg', 'image_0477.jpg', 'image_0311.jpg', 'image_0305.jpg', 'image_0463.jpg', 'image_0488.jpg', 'image_0259.jpg', 'image_0503.jpg', 'image_0265.jpg', 'image_0271.jpg', 'image_0517.jpg', 'image_0729.jpg', 'image_0067.jpg', 'image_0701.jpg', 'image_0715.jpg', 'image_0073.jpg', 'image_0098.jpg', 'image_0099.jpg', 'image_0714.jpg', 'image_0072.jpg', 'image_0066.jpg', 'image_0700.jpg', 'image_0728.jpg', 'image_0270.jpg', 'image_0516.jpg', 'image_0502.jpg', 'image_0264.jpg', 'image_0258.jpg', 'image_0489.jpg', 'image_0304.jpg', 'image_0462.jpg', 'image_0476.jpg', 'image_0310.jpg', 'image_0338.jpg', 'image_0660.jpg', 'image_0106.jpg', 'image_0112.jpg', 'image_0674.jpg', 'image_0648.jpg', 'image_0670.jpg', 'image_0116.jpg', 'image_0102.jpg', 'image_0664.jpg', 'image_0658.jpg', 'image_0314.jpg', 'image_0472.jpg', 'image_0466.jpg', 'image_0300.jpg', 'image_0328.jpg', 'image_0499.jpg', 'image_0260.jpg', 'image_0506.jpg', 'image_0512.jpg', 'image_0274.jpg', 'image_0248.jpg', 'image_0704.jpg', 'image_0062.jpg', 'image_0076.jpg', 'image_0710.jpg', 'image_0738.jpg', 'image_0089.jpg', 'image_0088.jpg', 'image_0739.jpg', 'image_0077.jpg', 'image_0711.jpg', 'image_0705.jpg', 'image_0063.jpg', 'image_0249.jpg', 'image_0513.jpg', 'image_0275.jpg', 'image_0261.jpg', 'image_0507.jpg', 'image_0498.jpg', 'image_0329.jpg', 'image_0467.jpg', 'image_0301.jpg', 'image_0315.jpg', 'image_0473.jpg', 'image_0659.jpg', 'image_0103.jpg', 'image_0665.jpg', 'image_0671.jpg', 'image_0117.jpg', 'image_0667.jpg', 'image_0101.jpg', 'image_0115.jpg', 'image_0673.jpg', 'image_0129.jpg', 'image_0698.jpg', 'image_0303.jpg', 'image_0465.jpg', 'image_0471.jpg', 'image_0317.jpg', 'image_0459.jpg', 'image_0277.jpg', 'image_0511.jpg', 'image_0505.jpg', 'image_0263.jpg', 'image_0539.jpg', 'image_0288.jpg', 'image_0713.jpg', 'image_0075.jpg', 'image_0061.jpg', 'image_0707.jpg', 'image_0049.jpg', 'image_0048.jpg', 'image_0060.jpg', 'image_0706.jpg', 'image_0712.jpg', 'image_0074.jpg', 'image_0289.jpg', 'image_0538.jpg', 'image_0504.jpg', 'image_0262.jpg', 'image_0276.jpg', 'image_0510.jpg', 'image_0458.jpg', 'image_0470.jpg', 'image_0316.jpg', 'image_0302.jpg', 'image_0464.jpg', 'image_0699.jpg', 'image_0128.jpg', 'image_0114.jpg', 'image_0672.jpg', 'image_0666.jpg', 'image_0100.jpg', 'image_0629.jpg', 'image_0601.jpg', 'image_0167.jpg', 'image_0173.jpg', 'image_0615.jpg', 'image_0198.jpg', 'image_0359.jpg', 'image_0365.jpg', 'image_0403.jpg', 'image_0417.jpg', 'image_0371.jpg', 'image_0239.jpg', 'image_0211.jpg', 'image_0577.jpg', 'image_0563.jpg', 'image_0205.jpg', 'image_0588.jpg', 'image_0749.jpg', 'image_0775.jpg', 'image_0013.jpg', 'image_0007.jpg', 'image_0761.jpg', 'image_0006.jpg', 'image_0760.jpg', 'image_0774.jpg', 'image_0012.jpg', 'image_0748.jpg', 'image_0589.jpg', 'image_0562.jpg', 'image_0204.jpg', 'image_0210.jpg', 'image_0576.jpg', 'image_0238.jpg', 'image_0416.jpg', 'image_0370.jpg', 'image_0364.jpg', 'image_0402.jpg', 'image_0358.jpg', 'image_0199.jpg', 'image_0172.jpg', 'image_0614.jpg', 'image_0600.jpg', 'image_0166.jpg', 'image_0628.jpg', 'image_0158.jpg', 'image_0616.jpg', 'image_0170.jpg', 'image_0164.jpg', 'image_0602.jpg', 'image_0428.jpg', 'image_0372.jpg', 'image_0414.jpg', 'image_0400.jpg', 'image_0366.jpg', 'image_0399.jpg', 'image_0548.jpg', 'image_0206.jpg', 'image_0560.jpg', 'image_0574.jpg', 'image_0212.jpg', 'image_0038.jpg', 'image_0762.jpg', 'image_0004.jpg', 'image_0010.jpg', 'image_0776.jpg', 'image_0789.jpg', 'image_0788.jpg', 'image_0011.jpg', 'image_0777.jpg', 'image_0763.jpg', 'image_0005.jpg', 'image_0039.jpg', 'image_0575.jpg', 'image_0213.jpg', 'image_0207.jpg', 'image_0561.jpg', 'image_0549.jpg', 'image_0398.jpg', 'image_0401.jpg', 'image_0367.jpg', 'image_0373.jpg', 'image_0415.jpg', 'image_0429.jpg', 'image_0165.jpg', 'image_0603.jpg', 'image_0617.jpg', 'image_0171.jpg', 'image_0159.jpg', 'image_0175.jpg', 'image_0613.jpg', 'image_0607.jpg', 'image_0161.jpg', 'image_0149.jpg', 'image_0411.jpg', 'image_0377.jpg', 'image_0363.jpg', 'image_0405.jpg', 'image_0439.jpg', 'image_0388.jpg', 'image_0565.jpg', 'image_0203.jpg', 'image_0217.jpg', 'image_0571.jpg', 'image_0559.jpg', 'image_0001.jpg', 'image_0767.jpg', 'image_0773.jpg', 'image_0015.jpg', 'image_0029.jpg', 'image_0798.jpg', 'image_0028.jpg', 'image_0772.jpg', 'image_0014.jpg', 'image_0766.jpg', 'image_0558.jpg', 'image_0216.jpg', 'image_0570.jpg', 'image_0564.jpg', 'image_0202.jpg', 'image_0389.jpg', 'image_0438.jpg', 'image_0362.jpg', 'image_0404.jpg', 'image_0410.jpg', 'image_0376.jpg', 'image_0148.jpg', 'image_0606.jpg', 'image_0160.jpg', 'image_0174.jpg', 'image_0612.jpg', 'image_0162.jpg', 'image_0604.jpg', 'image_0610.jpg', 'image_0176.jpg', 'image_0638.jpg', 'image_0189.jpg', 'image_0406.jpg', 'image_0360.jpg', 'image_0374.jpg', 'image_0412.jpg', 'image_0348.jpg', 'image_0572.jpg', 'image_0214.jpg', 'image_0200.jpg', 'image_0566.jpg', 'image_0228.jpg', 'image_0599.jpg', 'image_0016.jpg', 'image_0770.jpg', 'image_0764.jpg', 'image_0002.jpg', 'image_0758.jpg', 'image_0759.jpg', 'image_0765.jpg', 'image_0003.jpg', 'image_0017.jpg', 'image_0771.jpg', 'image_0598.jpg', 'image_0229.jpg', 'image_0201.jpg', 'image_0567.jpg', 'image_0573.jpg', 'image_0215.jpg', 'image_0349.jpg', 'image_0375.jpg', 'image_0413.jpg', 'image_0407.jpg', 'image_0361.jpg', 'image_0188.jpg', 'image_0639.jpg', 'image_0611.jpg', 'image_0177.jpg', 'image_0163.jpg', 'image_0605.jpg']\n",
      "ROOT: data/caltech101/sea_horse\n",
      "DIRECTORIES: []\n",
      "FILE:['image_0032.jpg', 'image_0026.jpg', 'image_0027.jpg', 'image_0033.jpg', 'image_0019.jpg', 'image_0025.jpg', 'image_0031.jpg', 'image_0030.jpg', 'image_0024.jpg', 'image_0018.jpg', 'image_0020.jpg', 'image_0034.jpg', 'image_0008.jpg', 'image_0009.jpg', 'image_0035.jpg', 'image_0021.jpg', 'image_0037.jpg', 'image_0023.jpg', 'image_0022.jpg', 'image_0036.jpg', 'image_0051.jpg', 'image_0045.jpg', 'image_0044.jpg', 'image_0050.jpg', 'image_0046.jpg', 'image_0052.jpg', 'image_0053.jpg', 'image_0047.jpg', 'image_0043.jpg', 'image_0057.jpg', 'image_0056.jpg', 'image_0042.jpg', 'image_0054.jpg', 'image_0040.jpg', 'image_0041.jpg', 'image_0055.jpg', 'image_0049.jpg', 'image_0048.jpg', 'image_0013.jpg', 'image_0007.jpg', 'image_0006.jpg', 'image_0012.jpg', 'image_0038.jpg', 'image_0004.jpg', 'image_0010.jpg', 'image_0011.jpg', 'image_0005.jpg', 'image_0039.jpg', 'image_0001.jpg', 'image_0015.jpg', 'image_0029.jpg', 'image_0028.jpg', 'image_0014.jpg', 'image_0016.jpg', 'image_0002.jpg', 'image_0003.jpg', 'image_0017.jpg']\n",
      "ROOT: data/caltech101/flamingo\n",
      "DIRECTORIES: []\n",
      "FILE:['image_0032.jpg', 'image_0026.jpg', 'image_0027.jpg', 'image_0033.jpg', 'image_0019.jpg', 'image_0025.jpg', 'image_0031.jpg', 'image_0030.jpg', 'image_0024.jpg', 'image_0018.jpg', 'image_0020.jpg', 'image_0034.jpg', 'image_0008.jpg', 'image_0009.jpg', 'image_0035.jpg', 'image_0021.jpg', 'image_0037.jpg', 'image_0023.jpg', 'image_0022.jpg', 'image_0036.jpg', 'image_0051.jpg', 'image_0045.jpg', 'image_0044.jpg', 'image_0050.jpg', 'image_0046.jpg', 'image_0052.jpg', 'image_0053.jpg', 'image_0047.jpg', 'image_0043.jpg', 'image_0057.jpg', 'image_0056.jpg', 'image_0042.jpg', 'image_0054.jpg', 'image_0040.jpg', 'image_0041.jpg', 'image_0055.jpg', 'image_0058.jpg', 'image_0064.jpg', 'image_0065.jpg', 'image_0059.jpg', 'image_0067.jpg', 'image_0066.jpg', 'image_0062.jpg', 'image_0063.jpg', 'image_0061.jpg', 'image_0049.jpg', 'image_0048.jpg', 'image_0060.jpg', 'image_0013.jpg', 'image_0007.jpg', 'image_0006.jpg', 'image_0012.jpg', 'image_0038.jpg', 'image_0004.jpg', 'image_0010.jpg', 'image_0011.jpg', 'image_0005.jpg', 'image_0039.jpg', 'image_0001.jpg', 'image_0015.jpg', 'image_0029.jpg', 'image_0028.jpg', 'image_0014.jpg', 'image_0016.jpg', 'image_0002.jpg', 'image_0003.jpg', 'image_0017.jpg']\n",
      "ROOT: data/caltech101/ewer\n",
      "DIRECTORIES: []\n",
      "FILE:['image_0032.jpg', 'image_0026.jpg', 'image_0027.jpg', 'image_0033.jpg', 'image_0019.jpg', 'image_0025.jpg', 'image_0031.jpg', 'image_0030.jpg', 'image_0024.jpg', 'image_0018.jpg', 'image_0020.jpg', 'image_0034.jpg', 'image_0008.jpg', 'image_0009.jpg', 'image_0035.jpg', 'image_0021.jpg', 'image_0037.jpg', 'image_0023.jpg', 'image_0022.jpg', 'image_0036.jpg', 'image_0079.jpg', 'image_0051.jpg', 'image_0045.jpg', 'image_0044.jpg', 'image_0050.jpg', 'image_0078.jpg', 'image_0046.jpg', 'image_0052.jpg', 'image_0085.jpg', 'image_0084.jpg', 'image_0053.jpg', 'image_0047.jpg', 'image_0043.jpg', 'image_0057.jpg', 'image_0080.jpg', 'image_0081.jpg', 'image_0056.jpg', 'image_0042.jpg', 'image_0054.jpg', 'image_0040.jpg', 'image_0068.jpg', 'image_0083.jpg', 'image_0082.jpg', 'image_0069.jpg', 'image_0041.jpg', 'image_0055.jpg', 'image_0058.jpg', 'image_0070.jpg', 'image_0064.jpg', 'image_0065.jpg', 'image_0071.jpg', 'image_0059.jpg', 'image_0067.jpg', 'image_0073.jpg', 'image_0072.jpg', 'image_0066.jpg', 'image_0062.jpg', 'image_0076.jpg', 'image_0077.jpg', 'image_0063.jpg', 'image_0075.jpg', 'image_0061.jpg', 'image_0049.jpg', 'image_0048.jpg', 'image_0060.jpg', 'image_0074.jpg', 'image_0013.jpg', 'image_0007.jpg', 'image_0006.jpg', 'image_0012.jpg', 'image_0038.jpg', 'image_0004.jpg', 'image_0010.jpg', 'image_0011.jpg', 'image_0005.jpg', 'image_0039.jpg', 'image_0001.jpg', 'image_0015.jpg', 'image_0029.jpg', 'image_0028.jpg', 'image_0014.jpg', 'image_0016.jpg', 'image_0002.jpg', 'image_0003.jpg', 'image_0017.jpg']\n",
      "ROOT: data/caltech101/garfield\n",
      "DIRECTORIES: []\n",
      "FILE:['image_0032.jpg', 'image_0026.jpg', 'image_0027.jpg', 'image_0033.jpg', 'image_0019.jpg', 'image_0025.jpg', 'image_0031.jpg', 'image_0030.jpg', 'image_0024.jpg', 'image_0018.jpg', 'image_0020.jpg', 'image_0034.jpg', 'image_0008.jpg', 'image_0009.jpg', 'image_0021.jpg', 'image_0023.jpg', 'image_0022.jpg', 'image_0013.jpg', 'image_0007.jpg', 'image_0006.jpg', 'image_0012.jpg', 'image_0004.jpg', 'image_0010.jpg', 'image_0011.jpg', 'image_0005.jpg', 'image_0001.jpg', 'image_0015.jpg', 'image_0029.jpg', 'image_0028.jpg', 'image_0014.jpg', 'image_0016.jpg', 'image_0002.jpg', 'image_0003.jpg', 'image_0017.jpg']\n",
      "ROOT: data/caltech101/crayfish\n",
      "DIRECTORIES: []\n",
      "FILE:['image_0032.jpg', 'image_0026.jpg', 'image_0027.jpg', 'image_0033.jpg', 'image_0019.jpg', 'image_0025.jpg', 'image_0031.jpg', 'image_0030.jpg', 'image_0024.jpg', 'image_0018.jpg', 'image_0020.jpg', 'image_0034.jpg', 'image_0008.jpg', 'image_0009.jpg', 'image_0035.jpg', 'image_0021.jpg', 'image_0037.jpg', 'image_0023.jpg', 'image_0022.jpg', 'image_0036.jpg', 'image_0051.jpg', 'image_0045.jpg', 'image_0044.jpg', 'image_0050.jpg', 'image_0046.jpg', 'image_0052.jpg', 'image_0053.jpg', 'image_0047.jpg', 'image_0043.jpg', 'image_0057.jpg', 'image_0056.jpg', 'image_0042.jpg', 'image_0054.jpg', 'image_0040.jpg', 'image_0068.jpg', 'image_0069.jpg', 'image_0041.jpg', 'image_0055.jpg', 'image_0058.jpg', 'image_0070.jpg', 'image_0064.jpg', 'image_0065.jpg', 'image_0059.jpg', 'image_0067.jpg', 'image_0066.jpg', 'image_0062.jpg', 'image_0063.jpg', 'image_0061.jpg', 'image_0049.jpg', 'image_0048.jpg', 'image_0060.jpg', 'image_0013.jpg', 'image_0007.jpg', 'image_0006.jpg', 'image_0012.jpg', 'image_0038.jpg', 'image_0004.jpg', 'image_0010.jpg', 'image_0011.jpg', 'image_0005.jpg', 'image_0039.jpg', 'image_0001.jpg', 'image_0015.jpg', 'image_0029.jpg', 'image_0028.jpg', 'image_0014.jpg', 'image_0016.jpg', 'image_0002.jpg', 'image_0003.jpg', 'image_0017.jpg']\n",
      "ROOT: data/caltech101/Faces_easy\n",
      "DIRECTORIES: []\n",
      "FILE:['image_0146.jpg', 'image_0152.jpg', 'image_0185.jpg', 'image_0191.jpg', 'image_0378.jpg', 'image_0344.jpg', 'image_0422.jpg', 'image_0350.jpg', 'image_0387.jpg', 'image_0393.jpg', 'image_0218.jpg', 'image_0230.jpg', 'image_0224.jpg', 'image_0032.jpg', 'image_0026.jpg', 'image_0027.jpg', 'image_0033.jpg', 'image_0225.jpg', 'image_0231.jpg', 'image_0219.jpg', 'image_0392.jpg', 'image_0386.jpg', 'image_0351.jpg', 'image_0345.jpg', 'image_0423.jpg', 'image_0379.jpg', 'image_0190.jpg', 'image_0184.jpg', 'image_0153.jpg', 'image_0147.jpg', 'image_0179.jpg', 'image_0151.jpg', 'image_0145.jpg', 'image_0192.jpg', 'image_0186.jpg', 'image_0409.jpg', 'image_0353.jpg', 'image_0435.jpg', 'image_0421.jpg', 'image_0347.jpg', 'image_0390.jpg', 'image_0384.jpg', 'image_0227.jpg', 'image_0233.jpg', 'image_0019.jpg', 'image_0025.jpg', 'image_0031.jpg', 'image_0030.jpg', 'image_0024.jpg', 'image_0018.jpg', 'image_0232.jpg', 'image_0226.jpg', 'image_0385.jpg', 'image_0391.jpg', 'image_0420.jpg', 'image_0346.jpg', 'image_0352.jpg', 'image_0434.jpg', 'image_0408.jpg', 'image_0187.jpg', 'image_0193.jpg', 'image_0144.jpg', 'image_0150.jpg', 'image_0178.jpg', 'image_0154.jpg', 'image_0140.jpg', 'image_0168.jpg', 'image_0197.jpg', 'image_0183.jpg', 'image_0430.jpg', 'image_0356.jpg', 'image_0342.jpg', 'image_0424.jpg', 'image_0418.jpg', 'image_0395.jpg', 'image_0381.jpg', 'image_0222.jpg', 'image_0236.jpg', 'image_0020.jpg', 'image_0034.jpg', 'image_0008.jpg', 'image_0009.jpg', 'image_0035.jpg', 'image_0021.jpg', 'image_0237.jpg', 'image_0223.jpg', 'image_0380.jpg', 'image_0394.jpg', 'image_0419.jpg', 'image_0343.jpg', 'image_0425.jpg', 'image_0431.jpg', 'image_0357.jpg', 'image_0182.jpg', 'image_0196.jpg', 'image_0169.jpg', 'image_0141.jpg', 'image_0155.jpg', 'image_0143.jpg', 'image_0157.jpg', 'image_0180.jpg', 'image_0194.jpg', 'image_0427.jpg', 'image_0341.jpg', 'image_0355.jpg', 'image_0433.jpg', 'image_0369.jpg', 'image_0382.jpg', 'image_0396.jpg', 'image_0235.jpg', 'image_0221.jpg', 'image_0209.jpg', 'image_0037.jpg', 'image_0023.jpg', 'image_0022.jpg', 'image_0036.jpg', 'image_0208.jpg', 'image_0220.jpg', 'image_0234.jpg', 'image_0397.jpg', 'image_0383.jpg', 'image_0368.jpg', 'image_0354.jpg', 'image_0432.jpg', 'image_0426.jpg', 'image_0340.jpg', 'image_0195.jpg', 'image_0181.jpg', 'image_0156.jpg', 'image_0142.jpg', 'image_0119.jpg', 'image_0125.jpg', 'image_0131.jpg', 'image_0327.jpg', 'image_0333.jpg', 'image_0253.jpg', 'image_0247.jpg', 'image_0290.jpg', 'image_0284.jpg', 'image_0079.jpg', 'image_0051.jpg', 'image_0045.jpg', 'image_0092.jpg', 'image_0086.jpg', 'image_0087.jpg', 'image_0093.jpg', 'image_0044.jpg', 'image_0050.jpg', 'image_0078.jpg', 'image_0285.jpg', 'image_0291.jpg', 'image_0246.jpg', 'image_0252.jpg', 'image_0332.jpg', 'image_0326.jpg', 'image_0130.jpg', 'image_0124.jpg', 'image_0118.jpg', 'image_0132.jpg', 'image_0126.jpg', 'image_0318.jpg', 'image_0330.jpg', 'image_0324.jpg', 'image_0278.jpg', 'image_0244.jpg', 'image_0250.jpg', 'image_0287.jpg', 'image_0293.jpg', 'image_0046.jpg', 'image_0052.jpg', 'image_0085.jpg', 'image_0091.jpg', 'image_0090.jpg', 'image_0084.jpg', 'image_0053.jpg', 'image_0047.jpg', 'image_0292.jpg', 'image_0286.jpg', 'image_0251.jpg', 'image_0245.jpg', 'image_0279.jpg', 'image_0325.jpg', 'image_0331.jpg', 'image_0319.jpg', 'image_0127.jpg', 'image_0133.jpg', 'image_0137.jpg', 'image_0123.jpg', 'image_0335.jpg', 'image_0321.jpg', 'image_0309.jpg', 'image_0241.jpg', 'image_0255.jpg', 'image_0269.jpg', 'image_0282.jpg', 'image_0296.jpg', 'image_0043.jpg', 'image_0057.jpg', 'image_0080.jpg', 'image_0094.jpg', 'image_0095.jpg', 'image_0081.jpg', 'image_0056.jpg', 'image_0042.jpg', 'image_0297.jpg', 'image_0283.jpg', 'image_0268.jpg', 'image_0254.jpg', 'image_0240.jpg', 'image_0308.jpg', 'image_0320.jpg', 'image_0334.jpg', 'image_0122.jpg', 'image_0136.jpg', 'image_0120.jpg', 'image_0134.jpg', 'image_0108.jpg', 'image_0322.jpg', 'image_0336.jpg', 'image_0256.jpg', 'image_0242.jpg', 'image_0295.jpg', 'image_0281.jpg', 'image_0054.jpg', 'image_0040.jpg', 'image_0068.jpg', 'image_0097.jpg', 'image_0083.jpg', 'image_0082.jpg', 'image_0096.jpg', 'image_0069.jpg', 'image_0041.jpg', 'image_0055.jpg', 'image_0280.jpg', 'image_0294.jpg', 'image_0243.jpg', 'image_0257.jpg', 'image_0337.jpg', 'image_0323.jpg', 'image_0109.jpg', 'image_0135.jpg', 'image_0121.jpg', 'image_0138.jpg', 'image_0104.jpg', 'image_0110.jpg', 'image_0306.jpg', 'image_0312.jpg', 'image_0272.jpg', 'image_0266.jpg', 'image_0299.jpg', 'image_0058.jpg', 'image_0070.jpg', 'image_0064.jpg', 'image_0065.jpg', 'image_0071.jpg', 'image_0059.jpg', 'image_0298.jpg', 'image_0267.jpg', 'image_0273.jpg', 'image_0313.jpg', 'image_0307.jpg', 'image_0111.jpg', 'image_0105.jpg', 'image_0139.jpg', 'image_0113.jpg', 'image_0107.jpg', 'image_0339.jpg', 'image_0311.jpg', 'image_0305.jpg', 'image_0259.jpg', 'image_0265.jpg', 'image_0271.jpg', 'image_0067.jpg', 'image_0073.jpg', 'image_0098.jpg', 'image_0099.jpg', 'image_0072.jpg', 'image_0066.jpg', 'image_0270.jpg', 'image_0264.jpg', 'image_0258.jpg', 'image_0304.jpg', 'image_0310.jpg', 'image_0338.jpg', 'image_0106.jpg', 'image_0112.jpg', 'image_0116.jpg', 'image_0102.jpg', 'image_0314.jpg', 'image_0300.jpg', 'image_0328.jpg', 'image_0260.jpg', 'image_0274.jpg', 'image_0248.jpg', 'image_0062.jpg', 'image_0076.jpg', 'image_0089.jpg', 'image_0088.jpg', 'image_0077.jpg', 'image_0063.jpg', 'image_0249.jpg', 'image_0275.jpg', 'image_0261.jpg', 'image_0329.jpg', 'image_0301.jpg', 'image_0315.jpg', 'image_0103.jpg', 'image_0117.jpg', 'image_0101.jpg', 'image_0115.jpg', 'image_0129.jpg', 'image_0303.jpg', 'image_0317.jpg', 'image_0277.jpg', 'image_0263.jpg', 'image_0288.jpg', 'image_0075.jpg', 'image_0061.jpg', 'image_0049.jpg', 'image_0048.jpg', 'image_0060.jpg', 'image_0074.jpg', 'image_0289.jpg', 'image_0262.jpg', 'image_0276.jpg', 'image_0316.jpg', 'image_0302.jpg', 'image_0128.jpg', 'image_0114.jpg', 'image_0100.jpg', 'image_0167.jpg', 'image_0173.jpg', 'image_0198.jpg', 'image_0359.jpg', 'image_0365.jpg', 'image_0403.jpg', 'image_0417.jpg', 'image_0371.jpg', 'image_0239.jpg', 'image_0211.jpg', 'image_0205.jpg', 'image_0013.jpg', 'image_0007.jpg', 'image_0006.jpg', 'image_0012.jpg', 'image_0204.jpg', 'image_0210.jpg', 'image_0238.jpg', 'image_0416.jpg', 'image_0370.jpg', 'image_0364.jpg', 'image_0402.jpg', 'image_0358.jpg', 'image_0199.jpg', 'image_0172.jpg', 'image_0166.jpg', 'image_0158.jpg', 'image_0170.jpg', 'image_0164.jpg', 'image_0428.jpg', 'image_0372.jpg', 'image_0414.jpg', 'image_0400.jpg', 'image_0366.jpg', 'image_0399.jpg', 'image_0206.jpg', 'image_0212.jpg', 'image_0038.jpg', 'image_0004.jpg', 'image_0010.jpg', 'image_0011.jpg', 'image_0005.jpg', 'image_0039.jpg', 'image_0213.jpg', 'image_0207.jpg', 'image_0398.jpg', 'image_0401.jpg', 'image_0367.jpg', 'image_0373.jpg', 'image_0415.jpg', 'image_0429.jpg', 'image_0165.jpg', 'image_0171.jpg', 'image_0159.jpg', 'image_0175.jpg', 'image_0161.jpg', 'image_0149.jpg', 'image_0411.jpg', 'image_0377.jpg', 'image_0363.jpg', 'image_0405.jpg', 'image_0388.jpg', 'image_0203.jpg', 'image_0217.jpg', 'image_0001.jpg', 'image_0015.jpg', 'image_0029.jpg', 'image_0028.jpg', 'image_0014.jpg', 'image_0216.jpg', 'image_0202.jpg', 'image_0389.jpg', 'image_0362.jpg', 'image_0404.jpg', 'image_0410.jpg', 'image_0376.jpg', 'image_0148.jpg', 'image_0160.jpg', 'image_0174.jpg', 'image_0162.jpg', 'image_0176.jpg', 'image_0189.jpg', 'image_0406.jpg', 'image_0360.jpg', 'image_0374.jpg', 'image_0412.jpg', 'image_0348.jpg', 'image_0214.jpg', 'image_0200.jpg', 'image_0228.jpg', 'image_0016.jpg', 'image_0002.jpg', 'image_0003.jpg', 'image_0017.jpg', 'image_0229.jpg', 'image_0201.jpg', 'image_0215.jpg', 'image_0349.jpg', 'image_0375.jpg', 'image_0413.jpg', 'image_0407.jpg', 'image_0361.jpg', 'image_0188.jpg', 'image_0177.jpg', 'image_0163.jpg']\n",
      "ROOT: data/caltech101/Faces\n",
      "DIRECTORIES: []\n",
      "FILE:['image_0146.jpg', 'image_0152.jpg', 'image_0185.jpg', 'image_0191.jpg', 'image_0378.jpg', 'image_0344.jpg', 'image_0422.jpg', 'image_0350.jpg', 'image_0387.jpg', 'image_0393.jpg', 'image_0218.jpg', 'image_0230.jpg', 'image_0224.jpg', 'image_0032.jpg', 'image_0026.jpg', 'image_0027.jpg', 'image_0033.jpg', 'image_0225.jpg', 'image_0231.jpg', 'image_0219.jpg', 'image_0392.jpg', 'image_0386.jpg', 'image_0351.jpg', 'image_0345.jpg', 'image_0423.jpg', 'image_0379.jpg', 'image_0190.jpg', 'image_0184.jpg', 'image_0153.jpg', 'image_0147.jpg', 'image_0179.jpg', 'image_0151.jpg', 'image_0145.jpg', 'image_0192.jpg', 'image_0186.jpg', 'image_0409.jpg', 'image_0353.jpg', 'image_0435.jpg', 'image_0421.jpg', 'image_0347.jpg', 'image_0390.jpg', 'image_0384.jpg', 'image_0227.jpg', 'image_0233.jpg', 'image_0019.jpg', 'image_0025.jpg', 'image_0031.jpg', 'image_0030.jpg', 'image_0024.jpg', 'image_0018.jpg', 'image_0232.jpg', 'image_0226.jpg', 'image_0385.jpg', 'image_0391.jpg', 'image_0420.jpg', 'image_0346.jpg', 'image_0352.jpg', 'image_0434.jpg', 'image_0408.jpg', 'image_0187.jpg', 'image_0193.jpg', 'image_0144.jpg', 'image_0150.jpg', 'image_0178.jpg', 'image_0154.jpg', 'image_0140.jpg', 'image_0168.jpg', 'image_0197.jpg', 'image_0183.jpg', 'image_0430.jpg', 'image_0356.jpg', 'image_0342.jpg', 'image_0424.jpg', 'image_0418.jpg', 'image_0395.jpg', 'image_0381.jpg', 'image_0222.jpg', 'image_0236.jpg', 'image_0020.jpg', 'image_0034.jpg', 'image_0008.jpg', 'image_0009.jpg', 'image_0035.jpg', 'image_0021.jpg', 'image_0237.jpg', 'image_0223.jpg', 'image_0380.jpg', 'image_0394.jpg', 'image_0419.jpg', 'image_0343.jpg', 'image_0425.jpg', 'image_0431.jpg', 'image_0357.jpg', 'image_0182.jpg', 'image_0196.jpg', 'image_0169.jpg', 'image_0141.jpg', 'image_0155.jpg', 'image_0143.jpg', 'image_0157.jpg', 'image_0180.jpg', 'image_0194.jpg', 'image_0427.jpg', 'image_0341.jpg', 'image_0355.jpg', 'image_0433.jpg', 'image_0369.jpg', 'image_0382.jpg', 'image_0396.jpg', 'image_0235.jpg', 'image_0221.jpg', 'image_0209.jpg', 'image_0037.jpg', 'image_0023.jpg', 'image_0022.jpg', 'image_0036.jpg', 'image_0208.jpg', 'image_0220.jpg', 'image_0234.jpg', 'image_0397.jpg', 'image_0383.jpg', 'image_0368.jpg', 'image_0354.jpg', 'image_0432.jpg', 'image_0426.jpg', 'image_0340.jpg', 'image_0195.jpg', 'image_0181.jpg', 'image_0156.jpg', 'image_0142.jpg', 'image_0119.jpg', 'image_0125.jpg', 'image_0131.jpg', 'image_0327.jpg', 'image_0333.jpg', 'image_0253.jpg', 'image_0247.jpg', 'image_0290.jpg', 'image_0284.jpg', 'image_0079.jpg', 'image_0051.jpg', 'image_0045.jpg', 'image_0092.jpg', 'image_0086.jpg', 'image_0087.jpg', 'image_0093.jpg', 'image_0044.jpg', 'image_0050.jpg', 'image_0078.jpg', 'image_0285.jpg', 'image_0291.jpg', 'image_0246.jpg', 'image_0252.jpg', 'image_0332.jpg', 'image_0326.jpg', 'image_0130.jpg', 'image_0124.jpg', 'image_0118.jpg', 'image_0132.jpg', 'image_0126.jpg', 'image_0318.jpg', 'image_0330.jpg', 'image_0324.jpg', 'image_0278.jpg', 'image_0244.jpg', 'image_0250.jpg', 'image_0287.jpg', 'image_0293.jpg', 'image_0046.jpg', 'image_0052.jpg', 'image_0085.jpg', 'image_0091.jpg', 'image_0090.jpg', 'image_0084.jpg', 'image_0053.jpg', 'image_0047.jpg', 'image_0292.jpg', 'image_0286.jpg', 'image_0251.jpg', 'image_0245.jpg', 'image_0279.jpg', 'image_0325.jpg', 'image_0331.jpg', 'image_0319.jpg', 'image_0127.jpg', 'image_0133.jpg', 'image_0137.jpg', 'image_0123.jpg', 'image_0335.jpg', 'image_0321.jpg', 'image_0309.jpg', 'image_0241.jpg', 'image_0255.jpg', 'image_0269.jpg', 'image_0282.jpg', 'image_0296.jpg', 'image_0043.jpg', 'image_0057.jpg', 'image_0080.jpg', 'image_0094.jpg', 'image_0095.jpg', 'image_0081.jpg', 'image_0056.jpg', 'image_0042.jpg', 'image_0297.jpg', 'image_0283.jpg', 'image_0268.jpg', 'image_0254.jpg', 'image_0240.jpg', 'image_0308.jpg', 'image_0320.jpg', 'image_0334.jpg', 'image_0122.jpg', 'image_0136.jpg', 'image_0120.jpg', 'image_0134.jpg', 'image_0108.jpg', 'image_0322.jpg', 'image_0336.jpg', 'image_0256.jpg', 'image_0242.jpg', 'image_0295.jpg', 'image_0281.jpg', 'image_0054.jpg', 'image_0040.jpg', 'image_0068.jpg', 'image_0097.jpg', 'image_0083.jpg', 'image_0082.jpg', 'image_0096.jpg', 'image_0069.jpg', 'image_0041.jpg', 'image_0055.jpg', 'image_0280.jpg', 'image_0294.jpg', 'image_0243.jpg', 'image_0257.jpg', 'image_0337.jpg', 'image_0323.jpg', 'image_0109.jpg', 'image_0135.jpg', 'image_0121.jpg', 'image_0138.jpg', 'image_0104.jpg', 'image_0110.jpg', 'image_0306.jpg', 'image_0312.jpg', 'image_0272.jpg', 'image_0266.jpg', 'image_0299.jpg', 'image_0058.jpg', 'image_0070.jpg', 'image_0064.jpg', 'image_0065.jpg', 'image_0071.jpg', 'image_0059.jpg', 'image_0298.jpg', 'image_0267.jpg', 'image_0273.jpg', 'image_0313.jpg', 'image_0307.jpg', 'image_0111.jpg', 'image_0105.jpg', 'image_0139.jpg', 'image_0113.jpg', 'image_0107.jpg', 'image_0339.jpg', 'image_0311.jpg', 'image_0305.jpg', 'image_0259.jpg', 'image_0265.jpg', 'image_0271.jpg', 'image_0067.jpg', 'image_0073.jpg', 'image_0098.jpg', 'image_0099.jpg', 'image_0072.jpg', 'image_0066.jpg', 'image_0270.jpg', 'image_0264.jpg', 'image_0258.jpg', 'image_0304.jpg', 'image_0310.jpg', 'image_0338.jpg', 'image_0106.jpg', 'image_0112.jpg', 'image_0116.jpg', 'image_0102.jpg', 'image_0314.jpg', 'image_0300.jpg', 'image_0328.jpg', 'image_0260.jpg', 'image_0274.jpg', 'image_0248.jpg', 'image_0062.jpg', 'image_0076.jpg', 'image_0089.jpg', 'image_0088.jpg', 'image_0077.jpg', 'image_0063.jpg', 'image_0249.jpg', 'image_0275.jpg', 'image_0261.jpg', 'image_0329.jpg', 'image_0301.jpg', 'image_0315.jpg', 'image_0103.jpg', 'image_0117.jpg', 'image_0101.jpg', 'image_0115.jpg', 'image_0129.jpg', 'image_0303.jpg', 'image_0317.jpg', 'image_0277.jpg', 'image_0263.jpg', 'image_0288.jpg', 'image_0075.jpg', 'image_0061.jpg', 'image_0049.jpg', 'image_0048.jpg', 'image_0060.jpg', 'image_0074.jpg', 'image_0289.jpg', 'image_0262.jpg', 'image_0276.jpg', 'image_0316.jpg', 'image_0302.jpg', 'image_0128.jpg', 'image_0114.jpg', 'image_0100.jpg', 'image_0167.jpg', 'image_0173.jpg', 'image_0198.jpg', 'image_0359.jpg', 'image_0365.jpg', 'image_0403.jpg', 'image_0417.jpg', 'image_0371.jpg', 'image_0239.jpg', 'image_0211.jpg', 'image_0205.jpg', 'image_0013.jpg', 'image_0007.jpg', 'image_0006.jpg', 'image_0012.jpg', 'image_0204.jpg', 'image_0210.jpg', 'image_0238.jpg', 'image_0416.jpg', 'image_0370.jpg', 'image_0364.jpg', 'image_0402.jpg', 'image_0358.jpg', 'image_0199.jpg', 'image_0172.jpg', 'image_0166.jpg', 'image_0158.jpg', 'image_0170.jpg', 'image_0164.jpg', 'image_0428.jpg', 'image_0372.jpg', 'image_0414.jpg', 'image_0400.jpg', 'image_0366.jpg', 'image_0399.jpg', 'image_0206.jpg', 'image_0212.jpg', 'image_0038.jpg', 'image_0004.jpg', 'image_0010.jpg', 'image_0011.jpg', 'image_0005.jpg', 'image_0039.jpg', 'image_0213.jpg', 'image_0207.jpg', 'image_0398.jpg', 'image_0401.jpg', 'image_0367.jpg', 'image_0373.jpg', 'image_0415.jpg', 'image_0429.jpg', 'image_0165.jpg', 'image_0171.jpg', 'image_0159.jpg', 'image_0175.jpg', 'image_0161.jpg', 'image_0149.jpg', 'image_0411.jpg', 'image_0377.jpg', 'image_0363.jpg', 'image_0405.jpg', 'image_0388.jpg', 'image_0203.jpg', 'image_0217.jpg', 'image_0001.jpg', 'image_0015.jpg', 'image_0029.jpg', 'image_0028.jpg', 'image_0014.jpg', 'image_0216.jpg', 'image_0202.jpg', 'image_0389.jpg', 'image_0362.jpg', 'image_0404.jpg', 'image_0410.jpg', 'image_0376.jpg', 'image_0148.jpg', 'image_0160.jpg', 'image_0174.jpg', 'image_0162.jpg', 'image_0176.jpg', 'image_0189.jpg', 'image_0406.jpg', 'image_0360.jpg', 'image_0374.jpg', 'image_0412.jpg', 'image_0348.jpg', 'image_0214.jpg', 'image_0200.jpg', 'image_0228.jpg', 'image_0016.jpg', 'image_0002.jpg', 'image_0003.jpg', 'image_0017.jpg', 'image_0229.jpg', 'image_0201.jpg', 'image_0215.jpg', 'image_0349.jpg', 'image_0375.jpg', 'image_0413.jpg', 'image_0407.jpg', 'image_0361.jpg', 'image_0188.jpg', 'image_0177.jpg', 'image_0163.jpg']\n",
      "ROOT: data/caltech101/sunflower\n",
      "DIRECTORIES: []\n",
      "FILE:['image_0032.jpg', 'image_0026.jpg', 'image_0027.jpg', 'image_0033.jpg', 'image_0019.jpg', 'image_0025.jpg', 'image_0031.jpg', 'image_0030.jpg', 'image_0024.jpg', 'image_0018.jpg', 'image_0020.jpg', 'image_0034.jpg', 'image_0008.jpg', 'image_0009.jpg', 'image_0035.jpg', 'image_0021.jpg', 'image_0037.jpg', 'image_0023.jpg', 'image_0022.jpg', 'image_0036.jpg', 'image_0079.jpg', 'image_0051.jpg', 'image_0045.jpg', 'image_0044.jpg', 'image_0050.jpg', 'image_0078.jpg', 'image_0046.jpg', 'image_0052.jpg', 'image_0085.jpg', 'image_0084.jpg', 'image_0053.jpg', 'image_0047.jpg', 'image_0043.jpg', 'image_0057.jpg', 'image_0080.jpg', 'image_0081.jpg', 'image_0056.jpg', 'image_0042.jpg', 'image_0054.jpg', 'image_0040.jpg', 'image_0068.jpg', 'image_0083.jpg', 'image_0082.jpg', 'image_0069.jpg', 'image_0041.jpg', 'image_0055.jpg', 'image_0058.jpg', 'image_0070.jpg', 'image_0064.jpg', 'image_0065.jpg', 'image_0071.jpg', 'image_0059.jpg', 'image_0067.jpg', 'image_0073.jpg', 'image_0072.jpg', 'image_0066.jpg', 'image_0062.jpg', 'image_0076.jpg', 'image_0077.jpg', 'image_0063.jpg', 'image_0075.jpg', 'image_0061.jpg', 'image_0049.jpg', 'image_0048.jpg', 'image_0060.jpg', 'image_0074.jpg', 'image_0013.jpg', 'image_0007.jpg', 'image_0006.jpg', 'image_0012.jpg', 'image_0038.jpg', 'image_0004.jpg', 'image_0010.jpg', 'image_0011.jpg', 'image_0005.jpg', 'image_0039.jpg', 'image_0001.jpg', 'image_0015.jpg', 'image_0029.jpg', 'image_0028.jpg', 'image_0014.jpg', 'image_0016.jpg', 'image_0002.jpg', 'image_0003.jpg', 'image_0017.jpg']\n",
      "ROOT: data/caltech101/llama\n",
      "DIRECTORIES: []\n",
      "FILE:['image_0032.jpg', 'image_0026.jpg', 'image_0027.jpg', 'image_0033.jpg', 'image_0019.jpg', 'image_0025.jpg', 'image_0031.jpg', 'image_0030.jpg', 'image_0024.jpg', 'image_0018.jpg', 'image_0020.jpg', 'image_0034.jpg', 'image_0008.jpg', 'image_0009.jpg', 'image_0035.jpg', 'image_0021.jpg', 'image_0037.jpg', 'image_0023.jpg', 'image_0022.jpg', 'image_0036.jpg', 'image_0051.jpg', 'image_0045.jpg', 'image_0044.jpg', 'image_0050.jpg', 'image_0078.jpg', 'image_0046.jpg', 'image_0052.jpg', 'image_0053.jpg', 'image_0047.jpg', 'image_0043.jpg', 'image_0057.jpg', 'image_0056.jpg', 'image_0042.jpg', 'image_0054.jpg', 'image_0040.jpg', 'image_0068.jpg', 'image_0069.jpg', 'image_0041.jpg', 'image_0055.jpg', 'image_0058.jpg', 'image_0070.jpg', 'image_0064.jpg', 'image_0065.jpg', 'image_0071.jpg', 'image_0059.jpg', 'image_0067.jpg', 'image_0073.jpg', 'image_0072.jpg', 'image_0066.jpg', 'image_0062.jpg', 'image_0076.jpg', 'image_0077.jpg', 'image_0063.jpg', 'image_0075.jpg', 'image_0061.jpg', 'image_0049.jpg', 'image_0048.jpg', 'image_0060.jpg', 'image_0074.jpg', 'image_0013.jpg', 'image_0007.jpg', 'image_0006.jpg', 'image_0012.jpg', 'image_0038.jpg', 'image_0004.jpg', 'image_0010.jpg', 'image_0011.jpg', 'image_0005.jpg', 'image_0039.jpg', 'image_0001.jpg', 'image_0015.jpg', 'image_0029.jpg', 'image_0028.jpg', 'image_0014.jpg', 'image_0016.jpg', 'image_0002.jpg', 'image_0003.jpg', 'image_0017.jpg']\n",
      "ROOT: data/caltech101/elephant\n",
      "DIRECTORIES: []\n",
      "FILE:['image_0032.jpg', 'image_0026.jpg', 'image_0027.jpg', 'image_0033.jpg', 'image_0019.jpg', 'image_0025.jpg', 'image_0031.jpg', 'image_0030.jpg', 'image_0024.jpg', 'image_0018.jpg', 'image_0020.jpg', 'image_0034.jpg', 'image_0008.jpg', 'image_0009.jpg', 'image_0035.jpg', 'image_0021.jpg', 'image_0037.jpg', 'image_0023.jpg', 'image_0022.jpg', 'image_0036.jpg', 'image_0051.jpg', 'image_0045.jpg', 'image_0044.jpg', 'image_0050.jpg', 'image_0046.jpg', 'image_0052.jpg', 'image_0053.jpg', 'image_0047.jpg', 'image_0043.jpg', 'image_0057.jpg', 'image_0056.jpg', 'image_0042.jpg', 'image_0054.jpg', 'image_0040.jpg', 'image_0041.jpg', 'image_0055.jpg', 'image_0058.jpg', 'image_0064.jpg', 'image_0059.jpg', 'image_0062.jpg', 'image_0063.jpg', 'image_0061.jpg', 'image_0049.jpg', 'image_0048.jpg', 'image_0060.jpg', 'image_0013.jpg', 'image_0007.jpg', 'image_0006.jpg', 'image_0012.jpg', 'image_0038.jpg', 'image_0004.jpg', 'image_0010.jpg', 'image_0011.jpg', 'image_0005.jpg', 'image_0039.jpg', 'image_0001.jpg', 'image_0015.jpg', 'image_0029.jpg', 'image_0028.jpg', 'image_0014.jpg', 'image_0016.jpg', 'image_0002.jpg', 'image_0003.jpg', 'image_0017.jpg']\n",
      "ROOT: data/caltech101/tick\n",
      "DIRECTORIES: []\n",
      "FILE:['image_0032.jpg', 'image_0026.jpg', 'image_0027.jpg', 'image_0033.jpg', 'image_0019.jpg', 'image_0025.jpg', 'image_0031.jpg', 'image_0030.jpg', 'image_0024.jpg', 'image_0018.jpg', 'image_0020.jpg', 'image_0034.jpg', 'image_0008.jpg', 'image_0009.jpg', 'image_0035.jpg', 'image_0021.jpg', 'image_0037.jpg', 'image_0023.jpg', 'image_0022.jpg', 'image_0036.jpg', 'image_0045.jpg', 'image_0044.jpg', 'image_0046.jpg', 'image_0047.jpg', 'image_0043.jpg', 'image_0042.jpg', 'image_0040.jpg', 'image_0041.jpg', 'image_0049.jpg', 'image_0048.jpg', 'image_0013.jpg', 'image_0007.jpg', 'image_0006.jpg', 'image_0012.jpg', 'image_0038.jpg', 'image_0004.jpg', 'image_0010.jpg', 'image_0011.jpg', 'image_0005.jpg', 'image_0039.jpg', 'image_0001.jpg', 'image_0015.jpg', 'image_0029.jpg', 'image_0028.jpg', 'image_0014.jpg', 'image_0016.jpg', 'image_0002.jpg', 'image_0003.jpg', 'image_0017.jpg']\n",
      "ROOT: data/caltech101/metronome\n",
      "DIRECTORIES: []\n",
      "FILE:['image_0032.jpg', 'image_0026.jpg', 'image_0027.jpg', 'image_0019.jpg', 'image_0025.jpg', 'image_0031.jpg', 'image_0030.jpg', 'image_0024.jpg', 'image_0018.jpg', 'image_0020.jpg', 'image_0008.jpg', 'image_0009.jpg', 'image_0021.jpg', 'image_0023.jpg', 'image_0022.jpg', 'image_0013.jpg', 'image_0007.jpg', 'image_0006.jpg', 'image_0012.jpg', 'image_0004.jpg', 'image_0010.jpg', 'image_0011.jpg', 'image_0005.jpg', 'image_0001.jpg', 'image_0015.jpg', 'image_0029.jpg', 'image_0028.jpg', 'image_0014.jpg', 'image_0016.jpg', 'image_0002.jpg', 'image_0003.jpg', 'image_0017.jpg']\n"
     ]
    }
   ],
   "source": [
    "for root, directories, filenames in os.walk('data/caltech101'):\n",
    "    print(f'ROOT: {root}')\n",
    "    print(f'DIRECTORIES: {directories}')\n",
    "    print(f'FILE:{filenames}')"
   ]
  },
  {
   "cell_type": "code",
   "execution_count": 36,
   "id": "d824e9d0",
   "metadata": {},
   "outputs": [
    {
     "name": "stdout",
     "output_type": "stream",
     "text": [
      "100.0%      \r"
     ]
    }
   ],
   "source": [
    "# extract all the features from all the files\n",
    "feature_list = []\n",
    "num_files = len(filenames)\n",
    "\n",
    "start_time = time.time()\n",
    "for i in range(num_files):\n",
    "    print(f'{np.round((i+1)/num_files * 100, 3)}%     ', end='\\r')\n",
    "    feature_list.append(extract_features(filenames[i], model))\n",
    "end_time = time.time()"
   ]
  },
  {
   "cell_type": "code",
   "execution_count": 45,
   "id": "0b042ea1",
   "metadata": {},
   "outputs": [
    {
     "data": {
      "text/plain": [
       "27.93273154894511"
      ]
     },
     "execution_count": 45,
     "metadata": {},
     "output_type": "execute_result"
    }
   ],
   "source": [
    "end_time - start_time\n",
    "(end_time - start_time)/60"
   ]
  },
  {
   "cell_type": "code",
   "execution_count": 40,
   "id": "17bcf089",
   "metadata": {},
   "outputs": [
    {
     "name": "stdout",
     "output_type": "stream",
     "text": [
      "8677\n",
      "(2048,)\n"
     ]
    }
   ],
   "source": [
    "print(len(feature_list))\n",
    "print(feature_list[0].shape)\n"
   ]
  },
  {
   "cell_type": "code",
   "execution_count": 41,
   "id": "aa6ab3de",
   "metadata": {},
   "outputs": [
    {
     "name": "stdout",
     "output_type": "stream",
     "text": [
      "Found 8677 images belonging to 101 classes.\n"
     ]
    }
   ],
   "source": [
    "img_data = ImageDataGenerator(preprocessing_function=preprocess_input)\n",
    "img_generator = img_data.flow_from_directory('data/caltech101',\n",
    "                                            target_size=(INPUT_SHAPE[0], INPUT_SHAPE[1]),\n",
    "                                            class_mode=None,\n",
    "                                            shuffle=False)"
   ]
  },
  {
   "cell_type": "code",
   "execution_count": 42,
   "id": "d8a78735",
   "metadata": {},
   "outputs": [
    {
     "name": "stdout",
     "output_type": "stream",
     "text": [
      "Number of epochs: 68\n"
     ]
    }
   ],
   "source": [
    "batch_size = 128\n",
    "num_files = len(file_list)\n",
    "num_epochs = int(np.ceil(num_files / batch_size))\n",
    "print(f'Number of epochs: {num_epochs}')"
   ]
  },
  {
   "cell_type": "code",
   "execution_count": 46,
   "id": "3b4eea01",
   "metadata": {},
   "outputs": [
    {
     "data": {
      "text/plain": [
       "8704"
      ]
     },
     "execution_count": 46,
     "metadata": {},
     "output_type": "execute_result"
    }
   ],
   "source": [
    "num_epochs * batch_size"
   ]
  },
  {
   "cell_type": "code",
   "execution_count": 43,
   "id": "b89b9ad3",
   "metadata": {},
   "outputs": [
    {
     "name": "stdout",
     "output_type": "stream",
     "text": [
      "272/272 [==============================] - 1004s 4s/step\n"
     ]
    }
   ],
   "source": [
    "# feature_list4 = model.predict(img_generator, steps=num_epochs)\n",
    "feature_list4 = model.predict(img_generator)"
   ]
  },
  {
   "cell_type": "code",
   "execution_count": 44,
   "id": "79443d3b",
   "metadata": {},
   "outputs": [
    {
     "data": {
      "text/plain": [
       "(8677, 2048)"
      ]
     },
     "execution_count": 44,
     "metadata": {},
     "output_type": "execute_result"
    }
   ],
   "source": [
    "feature_list4.shape"
   ]
  },
  {
   "cell_type": "code",
   "execution_count": 52,
   "id": "080c76b6",
   "metadata": {},
   "outputs": [
    {
     "name": "stdout",
     "output_type": "stream",
     "text": [
      "Found 8677 images belonging to 101 classes.\n",
      "Batch size: 128\n",
      "Number of iamges: 8677\n",
      "Number of epochs: 68\n",
      "68/68 [==============================] - 272s 4s/step\n"
     ]
    }
   ],
   "source": [
    "batch_size = 128\n",
    "datagen = ImageDataGenerator(preprocessing_function=preprocess_input)\n",
    "\n",
    "generator = datagen.flow_from_directory('data/caltech101',\n",
    "                                        target_size=(224, 224),\n",
    "                                        class_mode=None,\n",
    "                                        shuffle=False)\n",
    "\n",
    "num_images = len(generator.filenames)\n",
    "num_epochs = int(math.ceil(num_images / batch_size))\n",
    "\n",
    "print('Batch size:', batch_size)\n",
    "print('Number of images:', num_images)\n",
    "print('Number of epochs:', num_epochs)\n",
    "\n",
    "start_time = time.time()\n",
    "feature_list2 = []\n",
    "feature_list2 = model.predict(generator, batch_size=batch_size, steps=num_epochs)\n",
    "end_time = time.time()"
   ]
  },
  {
   "cell_type": "code",
   "execution_count": 51,
   "id": "4bbfbba9",
   "metadata": {},
   "outputs": [
    {
     "name": "stdout",
     "output_type": "stream",
     "text": [
      "4.664108395576477\n",
      "(2176, 2048)\n"
     ]
    },
    {
     "data": {
      "text/plain": [
       "8677"
      ]
     },
     "execution_count": 51,
     "metadata": {},
     "output_type": "execute_result"
    }
   ],
   "source": [
    "print((end_time - start_time)/60)\n",
    "print(feature_list2.shape)\n",
    "len(generator.filenames)"
   ]
  },
  {
   "cell_type": "code",
   "execution_count": 54,
   "id": "b4250350",
   "metadata": {},
   "outputs": [
    {
     "data": {
      "text/plain": [
       "['Faces',\n",
       " 'Faces_easy',\n",
       " 'Leopards',\n",
       " 'Motorbikes',\n",
       " 'accordion',\n",
       " 'airplanes',\n",
       " 'anchor',\n",
       " 'ant',\n",
       " 'barrel',\n",
       " 'bass',\n",
       " 'beaver',\n",
       " 'binocular',\n",
       " 'bonsai',\n",
       " 'brain',\n",
       " 'brontosaurus',\n",
       " 'buddha',\n",
       " 'butterfly',\n",
       " 'camera',\n",
       " 'cannon',\n",
       " 'car_side',\n",
       " 'ceiling_fan',\n",
       " 'cellphone',\n",
       " 'chair',\n",
       " 'chandelier',\n",
       " 'cougar_body',\n",
       " 'cougar_face',\n",
       " 'crab',\n",
       " 'crayfish',\n",
       " 'crocodile',\n",
       " 'crocodile_head',\n",
       " 'cup',\n",
       " 'dalmatian',\n",
       " 'dollar_bill',\n",
       " 'dolphin',\n",
       " 'dragonfly',\n",
       " 'electric_guitar',\n",
       " 'elephant',\n",
       " 'emu',\n",
       " 'euphonium',\n",
       " 'ewer',\n",
       " 'ferry',\n",
       " 'flamingo',\n",
       " 'flamingo_head',\n",
       " 'garfield',\n",
       " 'gerenuk',\n",
       " 'gramophone',\n",
       " 'grand_piano',\n",
       " 'hawksbill',\n",
       " 'headphone',\n",
       " 'hedgehog',\n",
       " 'helicopter',\n",
       " 'ibis',\n",
       " 'inline_skate',\n",
       " 'joshua_tree',\n",
       " 'kangaroo',\n",
       " 'ketch',\n",
       " 'lamp',\n",
       " 'laptop',\n",
       " 'llama',\n",
       " 'lobster',\n",
       " 'lotus',\n",
       " 'mandolin',\n",
       " 'mayfly',\n",
       " 'menorah',\n",
       " 'metronome',\n",
       " 'minaret',\n",
       " 'nautilus',\n",
       " 'octopus',\n",
       " 'okapi',\n",
       " 'pagoda',\n",
       " 'panda',\n",
       " 'pigeon',\n",
       " 'pizza',\n",
       " 'platypus',\n",
       " 'pyramid',\n",
       " 'revolver',\n",
       " 'rhino',\n",
       " 'rooster',\n",
       " 'saxophone',\n",
       " 'schooner',\n",
       " 'scissors',\n",
       " 'scorpion',\n",
       " 'sea_horse',\n",
       " 'snoopy',\n",
       " 'soccer_ball',\n",
       " 'stapler',\n",
       " 'starfish',\n",
       " 'stegosaurus',\n",
       " 'stop_sign',\n",
       " 'strawberry',\n",
       " 'sunflower',\n",
       " 'tick',\n",
       " 'trilobite',\n",
       " 'umbrella',\n",
       " 'watch',\n",
       " 'water_lilly',\n",
       " 'wheelchair',\n",
       " 'wild_cat',\n",
       " 'windsor_chair',\n",
       " 'wrench',\n",
       " 'yin_yang']"
      ]
     },
     "execution_count": 54,
     "metadata": {},
     "output_type": "execute_result"
    }
   ],
   "source": [
    "directories_list = []\n",
    "\n",
    "for root, directories, filenames in os.walk('data/caltech101'):\n",
    "    for directory in directories:\n",
    "        directories_list.append(directory)\n",
    "        \n",
    "\n",
    "sorted(directories_list)"
   ]
  },
  {
   "cell_type": "code",
   "execution_count": 32,
   "id": "fe49bb53",
   "metadata": {},
   "outputs": [],
   "source": [
    "features_file = 'data/features.pickle'\n",
    "filenames_file = 'data/filenames.pickle'\n",
    "\n",
    "# pickle.dump(feature_list, open(features_file, 'wb'))\n",
    "# pickle.dump(filenames, open(filenames_file, 'wb'))\n",
    "# pickle.dump()"
   ]
  },
  {
   "cell_type": "code",
   "execution_count": 33,
   "id": "6fed62bd",
   "metadata": {},
   "outputs": [],
   "source": [
    "# load the files\n",
    "feature_list3 = pickle.load(open(features_file, 'rb'))\n",
    "filenames = pickle.load(open(filenames_file, 'rb'))"
   ]
  },
  {
   "cell_type": "code",
   "execution_count": 35,
   "id": "ad3ee3e1",
   "metadata": {},
   "outputs": [
    {
     "data": {
      "text/plain": [
       "8677"
      ]
     },
     "execution_count": 35,
     "metadata": {},
     "output_type": "execute_result"
    }
   ],
   "source": [
    "len(feature_list3)"
   ]
  },
  {
   "cell_type": "code",
   "execution_count": null,
   "id": "83d51202",
   "metadata": {},
   "outputs": [],
   "source": [
    "# traina neares neighbors model \n",
    "# to find the neares 5 neighbors basd on Euclidean distance\n",
    "from sklearn.neighbors import NearestNeighbors\n",
    "\n",
    "neighbors_model = NearestNeighbors(n_neighbors=5, algorithm='brute', metric='euclidean')\n",
    "neighbors_fitted = neighbors_model.fit(feature_list)\n"
   ]
  },
  {
   "cell_type": "code",
   "execution_count": null,
   "id": "2e1957d2",
   "metadata": {},
   "outputs": [],
   "source": [
    "# get the 5 closest neighbors of the first image\n",
    "distances, indices = neighbors_fitted.kneighbors([feature_list[0]])"
   ]
  },
  {
   "cell_type": "code",
   "execution_count": null,
   "id": "f7a4c4b8",
   "metadata": {},
   "outputs": [],
   "source": [
    "print(distances)"
   ]
  },
  {
   "cell_type": "code",
   "execution_count": null,
   "id": "56e74dee",
   "metadata": {},
   "outputs": [],
   "source": [
    "print(indices)\n",
    "print(type(indices))"
   ]
  },
  {
   "cell_type": "code",
   "execution_count": null,
   "id": "50a49c3b",
   "metadata": {},
   "outputs": [],
   "source": [
    "plt.imshow(mpimg.imread(filenames[0]))"
   ]
  },
  {
   "cell_type": "code",
   "execution_count": null,
   "id": "bf2f814f",
   "metadata": {},
   "outputs": [],
   "source": [
    "# unsurprisingly, the nearest neighbor is the image itself\n",
    "plt.imshow(mpimg.imread(filenames[indices[0,0]]))"
   ]
  },
  {
   "cell_type": "code",
   "execution_count": null,
   "id": "f697ee9a",
   "metadata": {},
   "outputs": [],
   "source": [
    "def plot_figures(indices):\n",
    "    plt.figure(figsize=(20,25))\n",
    "\n",
    "    for i in range(5):\n",
    "        ax = plt.subplot(1,5, i+1)\n",
    "        index = indices[i]\n",
    "        ax.imshow(mpimg.imread(filenames[index]))\n",
    "        \n",
    "plot_figures(indices[0])"
   ]
  },
  {
   "cell_type": "code",
   "execution_count": null,
   "id": "b599b681",
   "metadata": {},
   "outputs": [],
   "source": [
    "idx = np.random.randint(0, num_files)\n",
    "distances, indices = neighbors_fitted.kneighbors([feature_list[idx]])\n",
    "\n",
    "plot_figures(indices[0])"
   ]
  },
  {
   "cell_type": "code",
   "execution_count": null,
   "id": "5e6043a3",
   "metadata": {},
   "outputs": [],
   "source": [
    "idx = np.random.randint(0, num_files)\n",
    "distances, indices = neighbors_fitted.kneighbors([feature_list[idx]])\n",
    "\n",
    "plot_figures(indices[0])"
   ]
  },
  {
   "cell_type": "code",
   "execution_count": null,
   "id": "15cdf91e",
   "metadata": {},
   "outputs": [],
   "source": [
    "# repeat it 5 times\n",
    "for i in range(5):\n",
    "    idx = np.random.randint(0, num_files)\n",
    "    distances, indices = neighbors_fitted.kneighbors([feature_list[idx]])\n",
    "    \n",
    "    plot_figures(indices[0])"
   ]
  },
  {
   "cell_type": "code",
   "execution_count": null,
   "id": "2f681d18",
   "metadata": {},
   "outputs": [],
   "source": [
    " # we are going to use PCA to reduce the dimensionlity of the data\n",
    "# then, we will use tsne to create a 2D representation of the clusters\n",
    "from sklearn.decomposition import PCA\n",
    "\n",
    "pca = PCA(n_components=100)\n",
    "pca_fitted = pca.fit(feature_list)\n",
    "feature_list_compressed = pca.transform(feature_list)"
   ]
  },
  {
   "cell_type": "code",
   "execution_count": null,
   "id": "0ac7e6d4",
   "metadata": {},
   "outputs": [],
   "source": [
    "feature_list_compressed.shape"
   ]
  },
  {
   "cell_type": "code",
   "execution_count": null,
   "id": "711fed6d",
   "metadata": {},
   "outputs": [],
   "source": [
    "# take the first 3000\n",
    "feature_compressed_3000 = feature_list_compressed[:3000, :]\n",
    "filenames_3000 = filenames[:3000]\n"
   ]
  }
 ],
 "metadata": {
  "kernelspec": {
   "display_name": "Python 3 (ipykernel)",
   "language": "python",
   "name": "python3"
  },
  "language_info": {
   "codemirror_mode": {
    "name": "ipython",
    "version": 3
   },
   "file_extension": ".py",
   "mimetype": "text/x-python",
   "name": "python",
   "nbconvert_exporter": "python",
   "pygments_lexer": "ipython3",
   "version": "3.9.6"
  }
 },
 "nbformat": 4,
 "nbformat_minor": 5
}
